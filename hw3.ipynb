{
 "nbformat": 4,
 "nbformat_minor": 0,
 "metadata": {
  "kernelspec": {
   "display_name": "Python 3",
   "language": "python",
   "name": "python3"
  },
  "language_info": {
   "codemirror_mode": {
    "name": "ipython",
    "version": 2
   },
   "file_extension": ".py",
   "mimetype": "text/x-python",
   "name": "python",
   "nbconvert_exporter": "python",
   "pygments_lexer": "ipython2",
   "version": "2.7.6"
  },
  "pycharm": {
   "stem_cell": {
    "cell_type": "raw",
    "source": [],
    "metadata": {
     "collapsed": false
    }
   }
  },
  "colab": {
   "name": "hw3-Domain Adaptation.ipynb",
   "provenance": [],
   "collapsed_sections": []
  },
  "accelerator": "GPU",
  "widgets": {
   "application/vnd.jupyter.widget-state+json": {
    "4bbfa014eecd48238028277894167509": {
     "model_module": "@jupyter-widgets/controls",
     "model_name": "HBoxModel",
     "state": {
      "_view_name": "HBoxView",
      "_dom_classes": [],
      "_model_name": "HBoxModel",
      "_view_module": "@jupyter-widgets/controls",
      "_model_module_version": "1.5.0",
      "_view_count": null,
      "_view_module_version": "1.5.0",
      "box_style": "",
      "layout": "IPY_MODEL_bd6dbe842f694f2db2d71143f7ad7397",
      "_model_module": "@jupyter-widgets/controls",
      "children": [
       "IPY_MODEL_8d48c9af6f59480d848644958c9c990b",
       "IPY_MODEL_9a26c423c41d4450b543df2ffba9217d"
      ]
     }
    },
    "bd6dbe842f694f2db2d71143f7ad7397": {
     "model_module": "@jupyter-widgets/base",
     "model_name": "LayoutModel",
     "state": {
      "_view_name": "LayoutView",
      "grid_template_rows": null,
      "right": null,
      "justify_content": null,
      "_view_module": "@jupyter-widgets/base",
      "overflow": null,
      "_model_module_version": "1.2.0",
      "_view_count": null,
      "flex_flow": null,
      "width": null,
      "min_width": null,
      "border": null,
      "align_items": null,
      "bottom": null,
      "_model_module": "@jupyter-widgets/base",
      "top": null,
      "grid_column": null,
      "overflow_y": null,
      "overflow_x": null,
      "grid_auto_flow": null,
      "grid_area": null,
      "grid_template_columns": null,
      "flex": null,
      "_model_name": "LayoutModel",
      "justify_items": null,
      "grid_row": null,
      "max_height": null,
      "align_content": null,
      "visibility": null,
      "align_self": null,
      "height": null,
      "min_height": null,
      "padding": null,
      "grid_auto_rows": null,
      "grid_gap": null,
      "max_width": null,
      "order": null,
      "_view_module_version": "1.2.0",
      "grid_template_areas": null,
      "object_position": null,
      "object_fit": null,
      "grid_auto_columns": null,
      "margin": null,
      "display": null,
      "left": null
     }
    },
    "8d48c9af6f59480d848644958c9c990b": {
     "model_module": "@jupyter-widgets/controls",
     "model_name": "FloatProgressModel",
     "state": {
      "_view_name": "ProgressView",
      "style": "IPY_MODEL_be6ff488554f4c6790185c994460f740",
      "_dom_classes": [],
      "description": "100%",
      "_model_name": "FloatProgressModel",
      "bar_style": "success",
      "max": 244418560,
      "_view_module": "@jupyter-widgets/controls",
      "_model_module_version": "1.5.0",
      "value": 244418560,
      "_view_count": null,
      "_view_module_version": "1.5.0",
      "orientation": "horizontal",
      "min": 0,
      "description_tooltip": null,
      "_model_module": "@jupyter-widgets/controls",
      "layout": "IPY_MODEL_cabbf0078b1743e1953b21484337aa23"
     }
    },
    "9a26c423c41d4450b543df2ffba9217d": {
     "model_module": "@jupyter-widgets/controls",
     "model_name": "HTMLModel",
     "state": {
      "_view_name": "HTMLView",
      "style": "IPY_MODEL_9b9b395bb3334d94a7608cc66aef698c",
      "_dom_classes": [],
      "description": "",
      "_model_name": "HTMLModel",
      "placeholder": "​",
      "_view_module": "@jupyter-widgets/controls",
      "_model_module_version": "1.5.0",
      "value": " 233M/233M [00:32&lt;00:00, 7.52MB/s]",
      "_view_count": null,
      "_view_module_version": "1.5.0",
      "description_tooltip": null,
      "_model_module": "@jupyter-widgets/controls",
      "layout": "IPY_MODEL_60b4d598dd9740c5b5115a6925f7e62f"
     }
    },
    "be6ff488554f4c6790185c994460f740": {
     "model_module": "@jupyter-widgets/controls",
     "model_name": "ProgressStyleModel",
     "state": {
      "_view_name": "StyleView",
      "_model_name": "ProgressStyleModel",
      "description_width": "initial",
      "_view_module": "@jupyter-widgets/base",
      "_model_module_version": "1.5.0",
      "_view_count": null,
      "_view_module_version": "1.2.0",
      "bar_color": null,
      "_model_module": "@jupyter-widgets/controls"
     }
    },
    "cabbf0078b1743e1953b21484337aa23": {
     "model_module": "@jupyter-widgets/base",
     "model_name": "LayoutModel",
     "state": {
      "_view_name": "LayoutView",
      "grid_template_rows": null,
      "right": null,
      "justify_content": null,
      "_view_module": "@jupyter-widgets/base",
      "overflow": null,
      "_model_module_version": "1.2.0",
      "_view_count": null,
      "flex_flow": null,
      "width": null,
      "min_width": null,
      "border": null,
      "align_items": null,
      "bottom": null,
      "_model_module": "@jupyter-widgets/base",
      "top": null,
      "grid_column": null,
      "overflow_y": null,
      "overflow_x": null,
      "grid_auto_flow": null,
      "grid_area": null,
      "grid_template_columns": null,
      "flex": null,
      "_model_name": "LayoutModel",
      "justify_items": null,
      "grid_row": null,
      "max_height": null,
      "align_content": null,
      "visibility": null,
      "align_self": null,
      "height": null,
      "min_height": null,
      "padding": null,
      "grid_auto_rows": null,
      "grid_gap": null,
      "max_width": null,
      "order": null,
      "_view_module_version": "1.2.0",
      "grid_template_areas": null,
      "object_position": null,
      "object_fit": null,
      "grid_auto_columns": null,
      "margin": null,
      "display": null,
      "left": null
     }
    },
    "9b9b395bb3334d94a7608cc66aef698c": {
     "model_module": "@jupyter-widgets/controls",
     "model_name": "DescriptionStyleModel",
     "state": {
      "_view_name": "StyleView",
      "_model_name": "DescriptionStyleModel",
      "description_width": "",
      "_view_module": "@jupyter-widgets/base",
      "_model_module_version": "1.5.0",
      "_view_count": null,
      "_view_module_version": "1.2.0",
      "_model_module": "@jupyter-widgets/controls"
     }
    },
    "60b4d598dd9740c5b5115a6925f7e62f": {
     "model_module": "@jupyter-widgets/base",
     "model_name": "LayoutModel",
     "state": {
      "_view_name": "LayoutView",
      "grid_template_rows": null,
      "right": null,
      "justify_content": null,
      "_view_module": "@jupyter-widgets/base",
      "overflow": null,
      "_model_module_version": "1.2.0",
      "_view_count": null,
      "flex_flow": null,
      "width": null,
      "min_width": null,
      "border": null,
      "align_items": null,
      "bottom": null,
      "_model_module": "@jupyter-widgets/base",
      "top": null,
      "grid_column": null,
      "overflow_y": null,
      "overflow_x": null,
      "grid_auto_flow": null,
      "grid_area": null,
      "grid_template_columns": null,
      "flex": null,
      "_model_name": "LayoutModel",
      "justify_items": null,
      "grid_row": null,
      "max_height": null,
      "align_content": null,
      "visibility": null,
      "align_self": null,
      "height": null,
      "min_height": null,
      "padding": null,
      "grid_auto_rows": null,
      "grid_gap": null,
      "max_width": null,
      "order": null,
      "_view_module_version": "1.2.0",
      "grid_template_areas": null,
      "object_position": null,
      "object_fit": null,
      "grid_auto_columns": null,
      "margin": null,
      "display": null,
      "left": null
     }
    }
   }
  }
 },
 "cells": [
  {
   "cell_type": "markdown",
   "metadata": {
    "collapsed": false,
    "pycharm": {
     "name": "#%% md\n"
    },
    "id": "NFy8f2ZOb83q",
    "colab_type": "text"
   },
   "source": [
    "**Install Requirements**"
   ]
  },
  {
   "cell_type": "code",
   "metadata": {
    "id": "2_6xQu_Fp1S1",
    "colab_type": "code",
    "colab": {}
   },
   "source": [
    "\"\"\"!pip3 install 'torch==1.4.0'\n",
    "!pip3 install 'torchvision==0.5.0'\n",
    "!pip3 install 'Pillow-SIMD'\n",
    "!pip3 install 'tqdm'\"\"\""
   ],
   "execution_count": 0,
   "outputs": []
  },
  {
   "cell_type": "code",
   "metadata": {
    "pycharm": {
     "name": "#%%\n",
     "is_executing": false
    },
    "id": "7byL80PWb83r",
    "colab_type": "code",
    "colab": {
     "base_uri": "https://localhost:8080/",
     "height": 153
    },
    "outputId": "e48a5890-e813-41c1-843a-a30ecc6a6e36"
   },
   "source": [
    "import os\n",
    "if not os.path.isdir('./Pacs'):\n",
    "  !git clone https://github.com/lore-lml/machine-learning2020-hw3.git\n",
    "  !mv 'machine-learning2020-hw3' 'Pacs'\n",
    "  !rm './Pacs/hw3.ipynb'\n",
    "  !rm './Pacs/README.md'\n",
    "\n",
    "import logging\n",
    "import numpy as np\n",
    "import torch\n",
    "import torch.nn as nn\n",
    "import torch.optim as optim\n",
    "from torch.utils.data import Subset, DataLoader\n",
    "from torch.backends import cudnn\n",
    "\n",
    "import torchvision\n",
    "from torchvision import transforms\n",
    "from pacs_dataset import Pacs\n",
    "from dann import alexdann\n",
    "from dann import train_src, test_target, dann_train_src_target\n",
    "\n",
    "from PIL import Image\n",
    "from tqdm import tqdm\n",
    "\n",
    "from sklearn.model_selection import ParameterGrid\n",
    "import matplotlib.pyplot as plt\n",
    "%matplotlib inline"
   ],
   "execution_count": 2,
   "outputs": [
    {
     "output_type": "stream",
     "text": [
      "Cloning into 'machine-learning2020-hw3'...\n",
      "remote: Enumerating objects: 43, done.\u001b[K\n",
      "remote: Counting objects: 100% (43/43), done.\u001b[K\n",
      "remote: Compressing objects: 100% (29/29), done.\u001b[K\n",
      "remote: Total 10072 (delta 26), reused 30 (delta 14), pack-reused 10029\u001b[K\n",
      "Receiving objects: 100% (10072/10072), 175.14 MiB | 11.00 MiB/s, done.\n",
      "Resolving deltas: 100% (26/26), done.\n",
      "Checking out files: 100% (9996/9996), done.\n"
     ],
     "name": "stdout"
    }
   ]
  },
  {
   "cell_type": "markdown",
   "metadata": {
    "collapsed": false,
    "pycharm": {
     "name": "#%% md\n"
    },
    "id": "9Fmn_TeAb83t",
    "colab_type": "text"
   },
   "source": [
    "**Set Arguments**"
   ]
  },
  {
   "cell_type": "code",
   "metadata": {
    "pycharm": {
     "name": "#%%\n",
     "is_executing": false
    },
    "id": "BKmhLZ0xb83t",
    "colab_type": "code",
    "colab": {}
   },
   "source": [
    "DEVICE = 'cuda' if torch.cuda.is_available() else 'cpu'\n",
    "\n",
    "NUM_CLASSES = 7\n",
    "\n",
    "BATCH_SIZE = 128      # Higher batch sizes allows for larger learning rates. An empirical heuristic suggests that, when changing\n",
    "                      # the batch size, learning rate should change by the same factor to have comparable results\n",
    "\n",
    "LR = 1e-3             # The initial Learning Rate\n",
    "MOMENTUM = 0.9        # Hyperparameter for SGD, keep this at 0.9 when using SGD\n",
    "WEIGHT_DECAY = 5e-5   # Regularization, you can keep this at the default\n",
    "\n",
    "NUM_EPOCHS = 10       # Total number of training epochs (iterations over dataset)\n",
    "STEP_SIZE = 3         # How many epochs before decreasing learning rate (if using a step-down policy)\n",
    "GAMMA = 0.5           # Multiplicative factor for learning rate step-down\n",
    "\n",
    "ALPHA = 'dynamic'\n",
    "\n",
    "MODEL = 'pytorch'\n",
    "# MODEL = 'caffe'\n",
    "\n",
    "param_grid = {\n",
    "    \"lr\": [1e-3],\n",
    "    \"batch_size\": [128],\n",
    "    \"epochs\": [10],\n",
    "    \"step_size\": [3],\n",
    "    \"gamma\": [0.5],\n",
    "    \"alpha\": [0.005, 0.05, 0.5]\n",
    "}\n",
    "\n",
    "BASE_FILE_PATH = \"RUN_1_LR1e-3_DynAlpha_SGD_SS2_GAMMA03\""
   ],
   "execution_count": 0,
   "outputs": []
  },
  {
   "cell_type": "markdown",
   "metadata": {
    "collapsed": false,
    "pycharm": {
     "name": "#%% md\n"
    },
    "id": "6sa6Y8Pzb83v",
    "colab_type": "text"
   },
   "source": [
    "**Define Data Preprocessing**"
   ]
  },
  {
   "cell_type": "code",
   "metadata": {
    "pycharm": {
     "name": "#%%\n",
     "is_executing": false
    },
    "id": "A5W7Cni-b83w",
    "colab_type": "code",
    "colab": {}
   },
   "source": [
    "# Mean caffe model [0.48109378 0.45752458 0.40787054]\n",
    "transforms = transforms.Compose([transforms.Resize(256),      # Resizes short size of the PIL image to 256\n",
    "                                      transforms.CenterCrop(224),  # Crops a central square patch of the image\n",
    "                                                                   # 224 because torchvision's AlexNet needs a 224x224 input!\n",
    "                                                                   # Remember this when applying different transformations, otherwise you get an error\n",
    "                                      transforms.ToTensor(), # Turn PIL Image to torch.Tensor\n",
    "                                      transforms.Normalize((0.485, 0.456, 0.406), (0.229, 0.224, 0.225)) # Normalizes tensor with mean and standard deviation\n",
    "])"
   ],
   "execution_count": 0,
   "outputs": []
  },
  {
   "cell_type": "markdown",
   "metadata": {
    "collapsed": false,
    "pycharm": {
     "name": "#%% md\n"
    },
    "id": "P6EG9H2ob83y",
    "colab_type": "text"
   },
   "source": [
    "**Prepare Dataset**"
   ]
  },
  {
   "cell_type": "code",
   "metadata": {
    "pycharm": {
     "name": "#%%\n",
     "is_executing": false
    },
    "id": "D39D-n0Qb83y",
    "colab_type": "code",
    "outputId": "7be2c573-72c3-4a37-c635-a44e32bdca9d",
    "colab": {
     "base_uri": "https://localhost:8080/",
     "height": 153
    }
   },
   "source": [
    "ROOT = 'Pacs/PACS'\n",
    "\n",
    "source_data = Pacs(ROOT, transform=transforms, source='photo')\n",
    "cartoon_data = Pacs(ROOT, transform=transforms, source='cartoon')\n",
    "sketch_data = Pacs(ROOT, transform=transforms, source='sketch')\n",
    "target_data = Pacs(ROOT, transform=transforms, source='art_painting')\n",
    "\n",
    "_, source_labels = source_data.get_img_with_labels()\n",
    "_, cartoon_labels = cartoon_data.get_img_with_labels()\n",
    "_, sketch_labels = sketch_data.get_img_with_labels()\n",
    "_, target_labels = target_data.get_img_with_labels()\n",
    "\n",
    "print(f\"# classes source_data: {len(set(source_labels))}\")\n",
    "print(f\"# classes cartoon_data: {len(set(cartoon_labels))}\")\n",
    "print(f\"# classes sketch_data: {len(set(sketch_labels))}\")\n",
    "print(f\"# classes target_data: {len(set(target_labels))}\")\n",
    "print(f\"source_data: {len(source_data)} elements\")\n",
    "print(f\"cartoon_data: {len(cartoon_data)} elements\")\n",
    "print(f\"sketch_data: {len(sketch_data)} elements\")\n",
    "print(f\"target_data: {len(target_data)} elements\")"
   ],
   "execution_count": 5,
   "outputs": [
    {
     "output_type": "stream",
     "text": [
      "# classes source_data: 7\n",
      "# classes cartoon_data: 7\n",
      "# classes sketch_data: 7\n",
      "# classes target_data: 7\n",
      "source_data: 1670 elements\n",
      "cartoon_data: 2344 elements\n",
      "sketch_data: 3929 elements\n",
      "target_data: 2048 elements\n"
     ],
     "name": "stdout"
    }
   ]
  },
  {
   "cell_type": "markdown",
   "metadata": {
    "collapsed": false,
    "pycharm": {
     "name": "#%% md\n"
    },
    "id": "BK7TcuLPb830",
    "colab_type": "text"
   },
   "source": [
    "**Prepare Dataloaders**"
   ]
  },
  {
   "cell_type": "code",
   "metadata": {
    "pycharm": {
     "name": "#%%\n",
     "is_executing": false
    },
    "id": "ou9I6xRrb831",
    "colab_type": "code",
    "colab": {}
   },
   "source": [
    "def get_data_loaders(dataset, batch_size=BATCH_SIZE):\n",
    "  return DataLoader(dataset, batch_size=batch_size, shuffle=True, num_workers=4, drop_last=True), DataLoader(dataset, batch_size=batch_size, shuffle=False, num_workers=4, drop_last=False)\n"
   ],
   "execution_count": 0,
   "outputs": []
  },
  {
   "cell_type": "markdown",
   "metadata": {
    "collapsed": false,
    "pycharm": {
     "name": "#%% md\n"
    },
    "id": "9-Olxfg0b833",
    "colab_type": "text"
   },
   "source": [
    "**Prepare Network**"
   ]
  },
  {
   "cell_type": "code",
   "metadata": {
    "pycharm": {
     "name": "#%%\n",
     "is_executing": false
    },
    "id": "GJ3NssxCb833",
    "colab_type": "code",
    "colab": {}
   },
   "source": [
    "def getNet(pretrained=False, src=MODEL):\n",
    "    return alexdann(pretrained, src=src)\n",
    "\n",
    "def init_cnn_objects(model, lr=LR, step_size=STEP_SIZE, gamma=GAMMA):\n",
    "  \n",
    "  # Define loss function\n",
    "  criterion_1 = nn.CrossEntropyLoss() # for classification, we use Cross Entropy\n",
    "  criterion_2 = nn.CrossEntropyLoss()\n",
    "  parameters_to_optimize = model.parameters() # In this case we optimize over all the parameters of AlexNet\n",
    "  \n",
    "  optimizer = optim.SGD(parameters_to_optimize, lr=lr, momentum=MOMENTUM, weight_decay=WEIGHT_DECAY)\n",
    "  #optimizer = optim.Adam(parameters_to_optimize, lr=lr,amsgrad=True)\n",
    "  #optimizer = optim.AdamW(parameters_to_optimize, lr=lr,amsgrad=True, weight_decay=WEIGHT_DECAY)\n",
    "  scheduler = optim.lr_scheduler.StepLR(optimizer, step_size=step_size, gamma=gamma)\n",
    "\n",
    "  return criterion_1, criterion_2, optimizer, scheduler"
   ],
   "execution_count": 0,
   "outputs": []
  },
  {
   "cell_type": "markdown",
   "metadata": {
    "collapsed": false,
    "pycharm": {
     "name": "#%% md\n"
    },
    "id": "s0JrvlXOb835",
    "colab_type": "text"
   },
   "source": [
    "**Training**"
   ]
  },
  {
   "cell_type": "code",
   "metadata": {
    "id": "QIizYiGruKpg",
    "colab_type": "code",
    "colab": {}
   },
   "source": [
    "def saveResults(configuration, best_mean_accuracy, accuracies_test, class_losses, domain_losses=None,\n",
    "                dann=False, append=False, base_path='prova'):\n",
    "  suffix_path = \"_results.txt\"\n",
    "  mode = \"a\" if append else \"w\"\n",
    "  with open(f\"{base_path}{suffix_path}\", mode, encoding='utf-8') as f:\n",
    "      title = \"********** WITHOUD DANN **********\" if not dann else \"********** WITH DANN **********\"\n",
    "      f.write(f\"{title}\\n\")\n",
    "      f.write(f\"Best Configuration:\\n{configuration}\\n\\n\")\n",
    "      f.write(f\"Best Mean Accuracy: {best_mean_accuracy}\\n\")\n",
    "      f.write(f\"Accuracies on Target:\\n\")\n",
    "      join = \",\".join(list(map(lambda x: str(x), accuracies_test)))\n",
    "      f.write(f\"{join}\\n\")\n",
    "      f.write(f\"Best Accuracy on Target: {max(accuracies_test)}\\n\")\n",
    "      f.write(\"Class Losses:\\n\")\n",
    "      join = \",\".join(list(map(lambda x: str(x), class_losses)))\n",
    "      f.write(f\"{join}\\n\")\n",
    "      if dann and domain_losses is not None:\n",
    "          join = \",\".join(list(map(lambda x: str(x), domain_losses)))\n",
    "          f.write(f\"{join}\\n\")\n",
    "      f.write(\"\\n\\n\")\n",
    "\n",
    "  print(\"********* FILE SAVED *********\")"
   ],
   "execution_count": 0,
   "outputs": []
  },
  {
   "cell_type": "code",
   "metadata": {
    "pycharm": {
     "name": "#%%\n"
    },
    "id": "VnMriGBgb836",
    "colab_type": "code",
    "colab": {}
   },
   "source": [
    "def simple_train_test(model, source_dataloader, test_dataloader, criterion, optimizer, scheduler, max_epoch=NUM_EPOCHS, file_path=BASE_FILE_PATH, device=DEVICE):\n",
    "    train_losses = []\n",
    "    accuracies = []\n",
    "    loss_min = -1\n",
    "    accuracy_max = 0\n",
    "    \n",
    "    model = model.to(device)\n",
    "    cudnn.benchmark\n",
    "    \n",
    "    current_step = 0\n",
    "    for epoch in range(max_epoch):\n",
    "        print('Starting epoch {}/{}, LR = {}'.format(epoch+1, max_epoch, scheduler.get_lr()))\n",
    "        cumulative_loss, current_step = train_src(model, source_dataloader, optimizer, criterion, current_step, device)\n",
    "        curr_loss = cumulative_loss / len(source_dataloader)\n",
    "        train_losses.append(curr_loss)\n",
    "        \"\"\"if loss_min == -1 or loss_min > curr_loss:\n",
    "            loss_min = curr_loss\n",
    "            torch.save(model, f\"{file_path}_best_model.pth\")\"\"\"\n",
    "        curr_accuracy = test_target(model, test_dataloader, device) / float(len(target_data))\n",
    "        accuracies.append(curr_accuracy)\n",
    "        print(f\"Current Accuracy: {curr_accuracy}\")\n",
    "        if accuracy_max < curr_accuracy:\n",
    "          accuracy_max = curr_accuracy\n",
    "          # torch.save(model, f\"{file_path}_best_model.pth\")\n",
    "        scheduler.step()\n",
    "        \n",
    "    # model = torch.load(f\"{file_path}_best_model.pth\").to(device)\n",
    "    # accuracy = test_target(model, test_dataloader, device) / float(len(target_data))\n",
    "    # print(f\"Accuracy on test set: {accuracy}%\")\n",
    "    return train_losses, accuracies"
   ],
   "execution_count": 0,
   "outputs": []
  },
  {
   "cell_type": "code",
   "metadata": {
    "id": "IM2bTGW966Bw",
    "colab_type": "code",
    "outputId": "cadd3555-d15e-4dc4-82d0-cfdbeeeefd61",
    "colab": {
     "base_uri": "https://localhost:8080/",
     "height": 1000,
     "referenced_widgets": [
      "4bbfa014eecd48238028277894167509",
      "bd6dbe842f694f2db2d71143f7ad7397",
      "8d48c9af6f59480d848644958c9c990b",
      "9a26c423c41d4450b543df2ffba9217d",
      "be6ff488554f4c6790185c994460f740",
      "cabbf0078b1743e1953b21484337aa23",
      "9b9b395bb3334d94a7608cc66aef698c",
      "60b4d598dd9740c5b5115a6925f7e62f"
     ]
    }
   },
   "source": [
    "grid = ParameterGrid(param_grid)\n",
    "results = []\n",
    "for config in grid:\n",
    "  source_dataloader, _ = get_data_loaders(source_data, config['batch_size'])\n",
    "  _, cartoon_test_dataloader = get_data_loaders(cartoon_data, config['batch_size'])\n",
    "  _, sketch_test_dataloader = get_data_loaders(sketch_data, config['batch_size'])\n",
    "  no_dann_cartoon = getNet(pretrained=True)\n",
    "  criterion_cartoon, _, optimizer_cartoon, scheduler_cartoon = init_cnn_objects(no_dann_cartoon, lr=config['lr'], \n",
    "                                                                          step_size=config['step_size'], gamma=config['gamma'])\n",
    "  no_dann_sketch = getNet(pretrained=True)\n",
    "  criterion_sketch, _, optimizer_sketch, scheduler_sketch = init_cnn_objects(no_dann_sketch, lr=config['lr'], \n",
    "                                                                          step_size=config['step_size'], gamma=config['gamma'])\n",
    "\n",
    "  cartoon_losses, cartoon_accuracies = simple_train_test(no_dann_cartoon, source_dataloader, cartoon_test_dataloader, \n",
    "                                                           criterion_cartoon, optimizer_cartoon, scheduler_cartoon, max_epoch=config['epochs'])\n",
    "  sketch_losses, sketch_accuracies = simple_train_test(no_dann_sketch, source_dataloader, sketch_test_dataloader, \n",
    "                                                         criterion_sketch, optimizer_sketch, scheduler_sketch, max_epoch=config['epochs'])\n",
    "\n",
    "  curr_result = {'params': config, 'cartoon_losses': cartoon_losses, 'sketch_losses': sketch_losses, \n",
    "                 'best_acc': np.mean([max(cartoon_accuracies), max(sketch_accuracies)])}\n",
    "  results.append(curr_result)\n",
    "  \n",
    "best_conf = max(results, key=lambda x: x['best_acc'])\n",
    "print(f\"Best configuration is:\\n{best_conf['params']}\")\n",
    "print(f\"Highest mean accuracy: {best_conf['best_acc']}\")\n"
   ],
   "execution_count": 10,
   "outputs": [
    {
     "output_type": "stream",
     "text": [
      "Downloading: \"https://download.pytorch.org/models/alexnet-owt-4df8aa71.pth\" to /root/.cache/torch/checkpoints/alexnet-owt-4df8aa71.pth\n"
     ],
     "name": "stderr"
    },
    {
     "output_type": "display_data",
     "data": {
      "application/vnd.jupyter.widget-view+json": {
       "model_id": "4bbfa014eecd48238028277894167509",
       "version_minor": 0,
       "version_major": 2
      },
      "text/plain": [
       "HBox(children=(FloatProgress(value=0.0, max=244418560.0), HTML(value='')))"
      ]
     },
     "metadata": {
      "tags": []
     }
    },
    {
     "output_type": "stream",
     "text": [
      "\n",
      "Starting epoch 1/10, LR = [0.001]\n"
     ],
     "name": "stdout"
    },
    {
     "output_type": "stream",
     "text": [
      "/usr/local/lib/python3.6/dist-packages/torch/optim/lr_scheduler.py:351: UserWarning: To get the last learning rate computed by the scheduler, please use `get_last_lr()`.\n",
      "  \"please use `get_last_lr()`.\", UserWarning)\n"
     ],
     "name": "stderr"
    },
    {
     "output_type": "stream",
     "text": [
      "Step 0, Loss_train 1.9942938089370728\n",
      "Step 10, Loss_train 0.3455280065536499\n"
     ],
     "name": "stdout"
    },
    {
     "output_type": "stream",
     "text": [
      "100%|██████████| 19/19 [00:05<00:00,  3.68it/s]"
     ],
     "name": "stderr"
    },
    {
     "output_type": "stream",
     "text": [
      "Current Accuracy: 0.27587890625\n",
      "Starting epoch 2/10, LR = [0.001]\n"
     ],
     "name": "stdout"
    },
    {
     "output_type": "stream",
     "text": [
      "\n"
     ],
     "name": "stderr"
    },
    {
     "output_type": "stream",
     "text": [
      "Step 20, Loss_train 0.06227271631360054\n"
     ],
     "name": "stdout"
    },
    {
     "output_type": "stream",
     "text": [
      "100%|██████████| 19/19 [00:05<00:00,  3.40it/s]"
     ],
     "name": "stderr"
    },
    {
     "output_type": "stream",
     "text": [
      "Current Accuracy: 0.23291015625\n",
      "Starting epoch 3/10, LR = [0.001]\n"
     ],
     "name": "stdout"
    },
    {
     "output_type": "stream",
     "text": [
      "\n"
     ],
     "name": "stderr"
    },
    {
     "output_type": "stream",
     "text": [
      "Step 30, Loss_train 0.05967554450035095\n"
     ],
     "name": "stdout"
    },
    {
     "output_type": "stream",
     "text": [
      "100%|██████████| 19/19 [00:05<00:00,  3.36it/s]"
     ],
     "name": "stderr"
    },
    {
     "output_type": "stream",
     "text": [
      "Current Accuracy: 0.24951171875\n",
      "Starting epoch 4/10, LR = [0.00025]\n"
     ],
     "name": "stdout"
    },
    {
     "output_type": "stream",
     "text": [
      "\n"
     ],
     "name": "stderr"
    },
    {
     "output_type": "stream",
     "text": [
      "Step 40, Loss_train 0.03155944123864174\n",
      "Step 50, Loss_train 0.02699088491499424\n"
     ],
     "name": "stdout"
    },
    {
     "output_type": "stream",
     "text": [
      "100%|██████████| 19/19 [00:05<00:00,  3.36it/s]"
     ],
     "name": "stderr"
    },
    {
     "output_type": "stream",
     "text": [
      "Current Accuracy: 0.25537109375\n",
      "Starting epoch 5/10, LR = [0.0005]\n"
     ],
     "name": "stdout"
    },
    {
     "output_type": "stream",
     "text": [
      "\n"
     ],
     "name": "stderr"
    },
    {
     "output_type": "stream",
     "text": [
      "Step 60, Loss_train 0.03851184993982315\n"
     ],
     "name": "stdout"
    },
    {
     "output_type": "stream",
     "text": [
      "100%|██████████| 19/19 [00:05<00:00,  3.36it/s]"
     ],
     "name": "stderr"
    },
    {
     "output_type": "stream",
     "text": [
      "Current Accuracy: 0.25634765625\n",
      "Starting epoch 6/10, LR = [0.0005]\n"
     ],
     "name": "stdout"
    },
    {
     "output_type": "stream",
     "text": [
      "\n"
     ],
     "name": "stderr"
    },
    {
     "output_type": "stream",
     "text": [
      "Step 70, Loss_train 0.04022538661956787\n"
     ],
     "name": "stdout"
    },
    {
     "output_type": "stream",
     "text": [
      "100%|██████████| 19/19 [00:05<00:00,  3.37it/s]"
     ],
     "name": "stderr"
    },
    {
     "output_type": "stream",
     "text": [
      "Current Accuracy: 0.24853515625\n",
      "Starting epoch 7/10, LR = [0.000125]\n"
     ],
     "name": "stdout"
    },
    {
     "output_type": "stream",
     "text": [
      "\n"
     ],
     "name": "stderr"
    },
    {
     "output_type": "stream",
     "text": [
      "Step 80, Loss_train 0.0358726941049099\n"
     ],
     "name": "stdout"
    },
    {
     "output_type": "stream",
     "text": [
      "\r  0%|          | 0/19 [00:00<?, ?it/s]"
     ],
     "name": "stderr"
    },
    {
     "output_type": "stream",
     "text": [
      "Step 90, Loss_train 0.035818327218294144\n"
     ],
     "name": "stdout"
    },
    {
     "output_type": "stream",
     "text": [
      "100%|██████████| 19/19 [00:05<00:00,  3.30it/s]"
     ],
     "name": "stderr"
    },
    {
     "output_type": "stream",
     "text": [
      "Current Accuracy: 0.24462890625\n",
      "Starting epoch 8/10, LR = [0.00025]\n"
     ],
     "name": "stdout"
    },
    {
     "output_type": "stream",
     "text": [
      "\n"
     ],
     "name": "stderr"
    },
    {
     "output_type": "stream",
     "text": [
      "Step 100, Loss_train 0.035600196570158005\n"
     ],
     "name": "stdout"
    },
    {
     "output_type": "stream",
     "text": [
      "100%|██████████| 19/19 [00:05<00:00,  3.30it/s]"
     ],
     "name": "stderr"
    },
    {
     "output_type": "stream",
     "text": [
      "Current Accuracy: 0.25\n",
      "Starting epoch 9/10, LR = [0.00025]\n"
     ],
     "name": "stdout"
    },
    {
     "output_type": "stream",
     "text": [
      "\n"
     ],
     "name": "stderr"
    },
    {
     "output_type": "stream",
     "text": [
      "Step 110, Loss_train 0.029312128201127052\n"
     ],
     "name": "stdout"
    },
    {
     "output_type": "stream",
     "text": [
      "100%|██████████| 19/19 [00:05<00:00,  3.35it/s]"
     ],
     "name": "stderr"
    },
    {
     "output_type": "stream",
     "text": [
      "Current Accuracy: 0.25146484375\n",
      "Starting epoch 10/10, LR = [6.25e-05]\n"
     ],
     "name": "stdout"
    },
    {
     "output_type": "stream",
     "text": [
      "\n"
     ],
     "name": "stderr"
    },
    {
     "output_type": "stream",
     "text": [
      "Step 120, Loss_train 0.028243931010365486\n"
     ],
     "name": "stdout"
    },
    {
     "output_type": "stream",
     "text": [
      "100%|██████████| 19/19 [00:05<00:00,  3.38it/s]\n"
     ],
     "name": "stderr"
    },
    {
     "output_type": "stream",
     "text": [
      "Current Accuracy: 0.2490234375\n",
      "Starting epoch 1/10, LR = [0.001]\n",
      "Step 0, Loss_train 1.9543259143829346\n",
      "Step 10, Loss_train 0.3961006700992584\n"
     ],
     "name": "stdout"
    },
    {
     "output_type": "stream",
     "text": [
      "100%|██████████| 31/31 [00:08<00:00,  3.82it/s]"
     ],
     "name": "stderr"
    },
    {
     "output_type": "stream",
     "text": [
      "Current Accuracy: 0.3095703125\n",
      "Starting epoch 2/10, LR = [0.001]\n"
     ],
     "name": "stdout"
    },
    {
     "output_type": "stream",
     "text": [
      "\n"
     ],
     "name": "stderr"
    },
    {
     "output_type": "stream",
     "text": [
      "Step 20, Loss_train 0.15023529529571533\n"
     ],
     "name": "stdout"
    },
    {
     "output_type": "stream",
     "text": [
      "100%|██████████| 31/31 [00:08<00:00,  3.85it/s]"
     ],
     "name": "stderr"
    },
    {
     "output_type": "stream",
     "text": [
      "Current Accuracy: 0.31884765625\n",
      "Starting epoch 3/10, LR = [0.001]\n"
     ],
     "name": "stdout"
    },
    {
     "output_type": "stream",
     "text": [
      "\n"
     ],
     "name": "stderr"
    },
    {
     "output_type": "stream",
     "text": [
      "Step 30, Loss_train 0.07768634706735611\n"
     ],
     "name": "stdout"
    },
    {
     "output_type": "stream",
     "text": [
      "100%|██████████| 31/31 [00:08<00:00,  3.82it/s]"
     ],
     "name": "stderr"
    },
    {
     "output_type": "stream",
     "text": [
      "Current Accuracy: 0.326171875\n",
      "Starting epoch 4/10, LR = [0.00025]\n"
     ],
     "name": "stdout"
    },
    {
     "output_type": "stream",
     "text": [
      "\n"
     ],
     "name": "stderr"
    },
    {
     "output_type": "stream",
     "text": [
      "Step 40, Loss_train 0.07119542360305786\n",
      "Step 50, Loss_train 0.039560720324516296\n"
     ],
     "name": "stdout"
    },
    {
     "output_type": "stream",
     "text": [
      "100%|██████████| 31/31 [00:08<00:00,  3.75it/s]"
     ],
     "name": "stderr"
    },
    {
     "output_type": "stream",
     "text": [
      "Current Accuracy: 0.326171875\n",
      "Starting epoch 5/10, LR = [0.0005]\n"
     ],
     "name": "stdout"
    },
    {
     "output_type": "stream",
     "text": [
      "\n"
     ],
     "name": "stderr"
    },
    {
     "output_type": "stream",
     "text": [
      "Step 60, Loss_train 0.07746325433254242\n"
     ],
     "name": "stdout"
    },
    {
     "output_type": "stream",
     "text": [
      "100%|██████████| 31/31 [00:08<00:00,  3.82it/s]"
     ],
     "name": "stderr"
    },
    {
     "output_type": "stream",
     "text": [
      "Current Accuracy: 0.3310546875\n",
      "Starting epoch 6/10, LR = [0.0005]\n"
     ],
     "name": "stdout"
    },
    {
     "output_type": "stream",
     "text": [
      "\n"
     ],
     "name": "stderr"
    },
    {
     "output_type": "stream",
     "text": [
      "Step 70, Loss_train 0.02635141648352146\n"
     ],
     "name": "stdout"
    },
    {
     "output_type": "stream",
     "text": [
      "100%|██████████| 31/31 [00:08<00:00,  3.77it/s]"
     ],
     "name": "stderr"
    },
    {
     "output_type": "stream",
     "text": [
      "Current Accuracy: 0.33447265625\n",
      "Starting epoch 7/10, LR = [0.000125]\n"
     ],
     "name": "stdout"
    },
    {
     "output_type": "stream",
     "text": [
      "\n"
     ],
     "name": "stderr"
    },
    {
     "output_type": "stream",
     "text": [
      "Step 80, Loss_train 0.04495975375175476\n"
     ],
     "name": "stdout"
    },
    {
     "output_type": "stream",
     "text": [
      "\r  0%|          | 0/31 [00:00<?, ?it/s]"
     ],
     "name": "stderr"
    },
    {
     "output_type": "stream",
     "text": [
      "Step 90, Loss_train 0.03421628102660179\n"
     ],
     "name": "stdout"
    },
    {
     "output_type": "stream",
     "text": [
      "100%|██████████| 31/31 [00:08<00:00,  3.75it/s]"
     ],
     "name": "stderr"
    },
    {
     "output_type": "stream",
     "text": [
      "Current Accuracy: 0.3369140625\n",
      "Starting epoch 8/10, LR = [0.00025]\n"
     ],
     "name": "stdout"
    },
    {
     "output_type": "stream",
     "text": [
      "\n"
     ],
     "name": "stderr"
    },
    {
     "output_type": "stream",
     "text": [
      "Step 100, Loss_train 0.02749190293252468\n"
     ],
     "name": "stdout"
    },
    {
     "output_type": "stream",
     "text": [
      "100%|██████████| 31/31 [00:08<00:00,  3.76it/s]"
     ],
     "name": "stderr"
    },
    {
     "output_type": "stream",
     "text": [
      "Current Accuracy: 0.33740234375\n",
      "Starting epoch 9/10, LR = [0.00025]\n"
     ],
     "name": "stdout"
    },
    {
     "output_type": "stream",
     "text": [
      "\n"
     ],
     "name": "stderr"
    },
    {
     "output_type": "stream",
     "text": [
      "Step 110, Loss_train 0.06366337835788727\n"
     ],
     "name": "stdout"
    },
    {
     "output_type": "stream",
     "text": [
      "100%|██████████| 31/31 [00:08<00:00,  3.71it/s]"
     ],
     "name": "stderr"
    },
    {
     "output_type": "stream",
     "text": [
      "Current Accuracy: 0.337890625\n",
      "Starting epoch 10/10, LR = [6.25e-05]\n"
     ],
     "name": "stdout"
    },
    {
     "output_type": "stream",
     "text": [
      "\n"
     ],
     "name": "stderr"
    },
    {
     "output_type": "stream",
     "text": [
      "Step 120, Loss_train 0.03335832059383392\n"
     ],
     "name": "stdout"
    },
    {
     "output_type": "stream",
     "text": [
      "100%|██████████| 31/31 [00:08<00:00,  3.77it/s]\n"
     ],
     "name": "stderr"
    },
    {
     "output_type": "stream",
     "text": [
      "Current Accuracy: 0.33837890625\n",
      "Starting epoch 1/10, LR = [0.001]\n",
      "Step 0, Loss_train 2.1012487411499023\n",
      "Step 10, Loss_train 0.3053635060787201\n"
     ],
     "name": "stdout"
    },
    {
     "output_type": "stream",
     "text": [
      "100%|██████████| 19/19 [00:05<00:00,  3.70it/s]"
     ],
     "name": "stderr"
    },
    {
     "output_type": "stream",
     "text": [
      "Current Accuracy: 0.28759765625\n",
      "Starting epoch 2/10, LR = [0.001]\n"
     ],
     "name": "stdout"
    },
    {
     "output_type": "stream",
     "text": [
      "\n"
     ],
     "name": "stderr"
    },
    {
     "output_type": "stream",
     "text": [
      "Step 20, Loss_train 0.15652582049369812\n"
     ],
     "name": "stdout"
    },
    {
     "output_type": "stream",
     "text": [
      "100%|██████████| 19/19 [00:05<00:00,  3.78it/s]"
     ],
     "name": "stderr"
    },
    {
     "output_type": "stream",
     "text": [
      "Current Accuracy: 0.2099609375\n",
      "Starting epoch 3/10, LR = [0.001]\n"
     ],
     "name": "stdout"
    },
    {
     "output_type": "stream",
     "text": [
      "\n"
     ],
     "name": "stderr"
    },
    {
     "output_type": "stream",
     "text": [
      "Step 30, Loss_train 0.05799300596117973\n"
     ],
     "name": "stdout"
    },
    {
     "output_type": "stream",
     "text": [
      "100%|██████████| 19/19 [00:05<00:00,  3.77it/s]"
     ],
     "name": "stderr"
    },
    {
     "output_type": "stream",
     "text": [
      "Current Accuracy: 0.24267578125\n",
      "Starting epoch 4/10, LR = [0.00025]\n"
     ],
     "name": "stdout"
    },
    {
     "output_type": "stream",
     "text": [
      "\n"
     ],
     "name": "stderr"
    },
    {
     "output_type": "stream",
     "text": [
      "Step 40, Loss_train 0.10269612073898315\n",
      "Step 50, Loss_train 0.036062125116586685\n"
     ],
     "name": "stdout"
    },
    {
     "output_type": "stream",
     "text": [
      "100%|██████████| 19/19 [00:05<00:00,  3.70it/s]"
     ],
     "name": "stderr"
    },
    {
     "output_type": "stream",
     "text": [
      "Current Accuracy: 0.2509765625\n",
      "Starting epoch 5/10, LR = [0.0005]\n"
     ],
     "name": "stdout"
    },
    {
     "output_type": "stream",
     "text": [
      "\n"
     ],
     "name": "stderr"
    },
    {
     "output_type": "stream",
     "text": [
      "Step 60, Loss_train 0.04948798567056656\n"
     ],
     "name": "stdout"
    },
    {
     "output_type": "stream",
     "text": [
      "100%|██████████| 19/19 [00:05<00:00,  3.72it/s]"
     ],
     "name": "stderr"
    },
    {
     "output_type": "stream",
     "text": [
      "Current Accuracy: 0.255859375\n",
      "Starting epoch 6/10, LR = [0.0005]\n"
     ],
     "name": "stdout"
    },
    {
     "output_type": "stream",
     "text": [
      "\n"
     ],
     "name": "stderr"
    },
    {
     "output_type": "stream",
     "text": [
      "Step 70, Loss_train 0.06241578608751297\n"
     ],
     "name": "stdout"
    },
    {
     "output_type": "stream",
     "text": [
      "100%|██████████| 19/19 [00:05<00:00,  3.72it/s]"
     ],
     "name": "stderr"
    },
    {
     "output_type": "stream",
     "text": [
      "Current Accuracy: 0.248046875\n",
      "Starting epoch 7/10, LR = [0.000125]\n"
     ],
     "name": "stdout"
    },
    {
     "output_type": "stream",
     "text": [
      "\n"
     ],
     "name": "stderr"
    },
    {
     "output_type": "stream",
     "text": [
      "Step 80, Loss_train 0.049274981021881104\n"
     ],
     "name": "stdout"
    },
    {
     "output_type": "stream",
     "text": [
      "\r  0%|          | 0/19 [00:00<?, ?it/s]"
     ],
     "name": "stderr"
    },
    {
     "output_type": "stream",
     "text": [
      "Step 90, Loss_train 0.023512598127126694\n"
     ],
     "name": "stdout"
    },
    {
     "output_type": "stream",
     "text": [
      "100%|██████████| 19/19 [00:05<00:00,  3.71it/s]"
     ],
     "name": "stderr"
    },
    {
     "output_type": "stream",
     "text": [
      "Current Accuracy: 0.24853515625\n",
      "Starting epoch 8/10, LR = [0.00025]\n"
     ],
     "name": "stdout"
    },
    {
     "output_type": "stream",
     "text": [
      "\n"
     ],
     "name": "stderr"
    },
    {
     "output_type": "stream",
     "text": [
      "Step 100, Loss_train 0.034248530864715576\n"
     ],
     "name": "stdout"
    },
    {
     "output_type": "stream",
     "text": [
      "100%|██████████| 19/19 [00:05<00:00,  3.71it/s]"
     ],
     "name": "stderr"
    },
    {
     "output_type": "stream",
     "text": [
      "Current Accuracy: 0.2490234375\n",
      "Starting epoch 9/10, LR = [0.00025]\n"
     ],
     "name": "stdout"
    },
    {
     "output_type": "stream",
     "text": [
      "\n"
     ],
     "name": "stderr"
    },
    {
     "output_type": "stream",
     "text": [
      "Step 110, Loss_train 0.04341660067439079\n"
     ],
     "name": "stdout"
    },
    {
     "output_type": "stream",
     "text": [
      "100%|██████████| 19/19 [00:05<00:00,  3.66it/s]"
     ],
     "name": "stderr"
    },
    {
     "output_type": "stream",
     "text": [
      "Current Accuracy: 0.2490234375\n",
      "Starting epoch 10/10, LR = [6.25e-05]\n"
     ],
     "name": "stdout"
    },
    {
     "output_type": "stream",
     "text": [
      "\n"
     ],
     "name": "stderr"
    },
    {
     "output_type": "stream",
     "text": [
      "Step 120, Loss_train 0.0328572615981102\n"
     ],
     "name": "stdout"
    },
    {
     "output_type": "stream",
     "text": [
      "100%|██████████| 19/19 [00:05<00:00,  3.64it/s]"
     ],
     "name": "stderr"
    },
    {
     "output_type": "stream",
     "text": [
      "Current Accuracy: 0.25341796875\n",
      "Starting epoch 1/10, LR = [0.001]\n"
     ],
     "name": "stdout"
    },
    {
     "output_type": "stream",
     "text": [
      "\n"
     ],
     "name": "stderr"
    },
    {
     "output_type": "stream",
     "text": [
      "Step 0, Loss_train 2.0313494205474854\n",
      "Step 10, Loss_train 0.3034692406654358\n"
     ],
     "name": "stdout"
    },
    {
     "output_type": "stream",
     "text": [
      "100%|██████████| 31/31 [00:08<00:00,  3.75it/s]"
     ],
     "name": "stderr"
    },
    {
     "output_type": "stream",
     "text": [
      "Current Accuracy: 0.3916015625\n",
      "Starting epoch 2/10, LR = [0.001]\n"
     ],
     "name": "stdout"
    },
    {
     "output_type": "stream",
     "text": [
      "\n"
     ],
     "name": "stderr"
    },
    {
     "output_type": "stream",
     "text": [
      "Step 20, Loss_train 0.15206319093704224\n"
     ],
     "name": "stdout"
    },
    {
     "output_type": "stream",
     "text": [
      "100%|██████████| 31/31 [00:08<00:00,  3.76it/s]"
     ],
     "name": "stderr"
    },
    {
     "output_type": "stream",
     "text": [
      "Current Accuracy: 0.3876953125\n",
      "Starting epoch 3/10, LR = [0.001]\n"
     ],
     "name": "stdout"
    },
    {
     "output_type": "stream",
     "text": [
      "\n"
     ],
     "name": "stderr"
    },
    {
     "output_type": "stream",
     "text": [
      "Step 30, Loss_train 0.11852828413248062\n"
     ],
     "name": "stdout"
    },
    {
     "output_type": "stream",
     "text": [
      "100%|██████████| 31/31 [00:08<00:00,  3.71it/s]"
     ],
     "name": "stderr"
    },
    {
     "output_type": "stream",
     "text": [
      "Current Accuracy: 0.3818359375\n",
      "Starting epoch 4/10, LR = [0.00025]\n"
     ],
     "name": "stdout"
    },
    {
     "output_type": "stream",
     "text": [
      "\n"
     ],
     "name": "stderr"
    },
    {
     "output_type": "stream",
     "text": [
      "Step 40, Loss_train 0.10911630094051361\n",
      "Step 50, Loss_train 0.07147127389907837\n"
     ],
     "name": "stdout"
    },
    {
     "output_type": "stream",
     "text": [
      "100%|██████████| 31/31 [00:08<00:00,  3.76it/s]"
     ],
     "name": "stderr"
    },
    {
     "output_type": "stream",
     "text": [
      "Current Accuracy: 0.3896484375\n",
      "Starting epoch 5/10, LR = [0.0005]\n"
     ],
     "name": "stdout"
    },
    {
     "output_type": "stream",
     "text": [
      "\n"
     ],
     "name": "stderr"
    },
    {
     "output_type": "stream",
     "text": [
      "Step 60, Loss_train 0.08372822403907776\n"
     ],
     "name": "stdout"
    },
    {
     "output_type": "stream",
     "text": [
      "100%|██████████| 31/31 [00:08<00:00,  3.68it/s]"
     ],
     "name": "stderr"
    },
    {
     "output_type": "stream",
     "text": [
      "Current Accuracy: 0.40625\n",
      "Starting epoch 6/10, LR = [0.0005]\n"
     ],
     "name": "stdout"
    },
    {
     "output_type": "stream",
     "text": [
      "\n"
     ],
     "name": "stderr"
    },
    {
     "output_type": "stream",
     "text": [
      "Step 70, Loss_train 0.048045627772808075\n"
     ],
     "name": "stdout"
    },
    {
     "output_type": "stream",
     "text": [
      "100%|██████████| 31/31 [00:08<00:00,  3.64it/s]"
     ],
     "name": "stderr"
    },
    {
     "output_type": "stream",
     "text": [
      "Current Accuracy: 0.431640625\n",
      "Starting epoch 7/10, LR = [0.000125]\n"
     ],
     "name": "stdout"
    },
    {
     "output_type": "stream",
     "text": [
      "\n"
     ],
     "name": "stderr"
    },
    {
     "output_type": "stream",
     "text": [
      "Step 80, Loss_train 0.05673502758145332\n"
     ],
     "name": "stdout"
    },
    {
     "output_type": "stream",
     "text": [
      "\r  0%|          | 0/31 [00:00<?, ?it/s]"
     ],
     "name": "stderr"
    },
    {
     "output_type": "stream",
     "text": [
      "Step 90, Loss_train 0.03141070157289505\n"
     ],
     "name": "stdout"
    },
    {
     "output_type": "stream",
     "text": [
      "100%|██████████| 31/31 [00:08<00:00,  3.68it/s]"
     ],
     "name": "stderr"
    },
    {
     "output_type": "stream",
     "text": [
      "Current Accuracy: 0.4345703125\n",
      "Starting epoch 8/10, LR = [0.00025]\n"
     ],
     "name": "stdout"
    },
    {
     "output_type": "stream",
     "text": [
      "\n"
     ],
     "name": "stderr"
    },
    {
     "output_type": "stream",
     "text": [
      "Step 100, Loss_train 0.03437507897615433\n"
     ],
     "name": "stdout"
    },
    {
     "output_type": "stream",
     "text": [
      "100%|██████████| 31/31 [00:08<00:00,  3.70it/s]"
     ],
     "name": "stderr"
    },
    {
     "output_type": "stream",
     "text": [
      "Current Accuracy: 0.4345703125\n",
      "Starting epoch 9/10, LR = [0.00025]\n"
     ],
     "name": "stdout"
    },
    {
     "output_type": "stream",
     "text": [
      "\n"
     ],
     "name": "stderr"
    },
    {
     "output_type": "stream",
     "text": [
      "Step 110, Loss_train 0.034165289252996445\n"
     ],
     "name": "stdout"
    },
    {
     "output_type": "stream",
     "text": [
      "100%|██████████| 31/31 [00:08<00:00,  3.70it/s]"
     ],
     "name": "stderr"
    },
    {
     "output_type": "stream",
     "text": [
      "Current Accuracy: 0.42529296875\n",
      "Starting epoch 10/10, LR = [6.25e-05]\n"
     ],
     "name": "stdout"
    },
    {
     "output_type": "stream",
     "text": [
      "\n"
     ],
     "name": "stderr"
    },
    {
     "output_type": "stream",
     "text": [
      "Step 120, Loss_train 0.025303298607468605\n"
     ],
     "name": "stdout"
    },
    {
     "output_type": "stream",
     "text": [
      "100%|██████████| 31/31 [00:08<00:00,  3.72it/s]\n"
     ],
     "name": "stderr"
    },
    {
     "output_type": "stream",
     "text": [
      "Current Accuracy: 0.4296875\n",
      "Starting epoch 1/10, LR = [0.001]\n",
      "Step 0, Loss_train 2.2102458477020264\n",
      "Step 10, Loss_train 0.43566280603408813\n"
     ],
     "name": "stdout"
    },
    {
     "output_type": "stream",
     "text": [
      "100%|██████████| 19/19 [00:05<00:00,  3.64it/s]"
     ],
     "name": "stderr"
    },
    {
     "output_type": "stream",
     "text": [
      "Current Accuracy: 0.2236328125\n",
      "Starting epoch 2/10, LR = [0.001]\n"
     ],
     "name": "stdout"
    },
    {
     "output_type": "stream",
     "text": [
      "\n"
     ],
     "name": "stderr"
    },
    {
     "output_type": "stream",
     "text": [
      "Step 20, Loss_train 0.2493337094783783\n"
     ],
     "name": "stdout"
    },
    {
     "output_type": "stream",
     "text": [
      "100%|██████████| 19/19 [00:05<00:00,  3.66it/s]"
     ],
     "name": "stderr"
    },
    {
     "output_type": "stream",
     "text": [
      "Current Accuracy: 0.24072265625\n",
      "Starting epoch 3/10, LR = [0.001]\n"
     ],
     "name": "stdout"
    },
    {
     "output_type": "stream",
     "text": [
      "\n"
     ],
     "name": "stderr"
    },
    {
     "output_type": "stream",
     "text": [
      "Step 30, Loss_train 0.15019714832305908\n"
     ],
     "name": "stdout"
    },
    {
     "output_type": "stream",
     "text": [
      "100%|██████████| 19/19 [00:05<00:00,  3.63it/s]"
     ],
     "name": "stderr"
    },
    {
     "output_type": "stream",
     "text": [
      "Current Accuracy: 0.2265625\n",
      "Starting epoch 4/10, LR = [0.00025]\n"
     ],
     "name": "stdout"
    },
    {
     "output_type": "stream",
     "text": [
      "\n"
     ],
     "name": "stderr"
    },
    {
     "output_type": "stream",
     "text": [
      "Step 40, Loss_train 0.04854479059576988\n",
      "Step 50, Loss_train 0.12893781065940857\n"
     ],
     "name": "stdout"
    },
    {
     "output_type": "stream",
     "text": [
      "100%|██████████| 19/19 [00:05<00:00,  3.67it/s]"
     ],
     "name": "stderr"
    },
    {
     "output_type": "stream",
     "text": [
      "Current Accuracy: 0.23876953125\n",
      "Starting epoch 5/10, LR = [0.0005]\n"
     ],
     "name": "stdout"
    },
    {
     "output_type": "stream",
     "text": [
      "\n"
     ],
     "name": "stderr"
    },
    {
     "output_type": "stream",
     "text": [
      "Step 60, Loss_train 0.07061866670846939\n"
     ],
     "name": "stdout"
    },
    {
     "output_type": "stream",
     "text": [
      "100%|██████████| 19/19 [00:05<00:00,  3.67it/s]"
     ],
     "name": "stderr"
    },
    {
     "output_type": "stream",
     "text": [
      "Current Accuracy: 0.25\n",
      "Starting epoch 6/10, LR = [0.0005]\n"
     ],
     "name": "stdout"
    },
    {
     "output_type": "stream",
     "text": [
      "\n"
     ],
     "name": "stderr"
    },
    {
     "output_type": "stream",
     "text": [
      "Step 70, Loss_train 0.051447995007038116\n"
     ],
     "name": "stdout"
    },
    {
     "output_type": "stream",
     "text": [
      "100%|██████████| 19/19 [00:05<00:00,  3.71it/s]"
     ],
     "name": "stderr"
    },
    {
     "output_type": "stream",
     "text": [
      "Current Accuracy: 0.25732421875\n",
      "Starting epoch 7/10, LR = [0.000125]\n"
     ],
     "name": "stdout"
    },
    {
     "output_type": "stream",
     "text": [
      "\n"
     ],
     "name": "stderr"
    },
    {
     "output_type": "stream",
     "text": [
      "Step 80, Loss_train 0.05641048774123192\n"
     ],
     "name": "stdout"
    },
    {
     "output_type": "stream",
     "text": [
      "\r  0%|          | 0/19 [00:00<?, ?it/s]"
     ],
     "name": "stderr"
    },
    {
     "output_type": "stream",
     "text": [
      "Step 90, Loss_train 0.05346522852778435\n"
     ],
     "name": "stdout"
    },
    {
     "output_type": "stream",
     "text": [
      "100%|██████████| 19/19 [00:05<00:00,  3.64it/s]"
     ],
     "name": "stderr"
    },
    {
     "output_type": "stream",
     "text": [
      "Current Accuracy: 0.2529296875\n",
      "Starting epoch 8/10, LR = [0.00025]\n"
     ],
     "name": "stdout"
    },
    {
     "output_type": "stream",
     "text": [
      "\n"
     ],
     "name": "stderr"
    },
    {
     "output_type": "stream",
     "text": [
      "Step 100, Loss_train 0.03387085348367691\n"
     ],
     "name": "stdout"
    },
    {
     "output_type": "stream",
     "text": [
      "100%|██████████| 19/19 [00:05<00:00,  3.62it/s]"
     ],
     "name": "stderr"
    },
    {
     "output_type": "stream",
     "text": [
      "Current Accuracy: 0.25244140625\n",
      "Starting epoch 9/10, LR = [0.00025]\n"
     ],
     "name": "stdout"
    },
    {
     "output_type": "stream",
     "text": [
      "\n"
     ],
     "name": "stderr"
    },
    {
     "output_type": "stream",
     "text": [
      "Step 110, Loss_train 0.03409480303525925\n"
     ],
     "name": "stdout"
    },
    {
     "output_type": "stream",
     "text": [
      "100%|██████████| 19/19 [00:05<00:00,  3.69it/s]"
     ],
     "name": "stderr"
    },
    {
     "output_type": "stream",
     "text": [
      "Current Accuracy: 0.2509765625\n",
      "Starting epoch 10/10, LR = [6.25e-05]\n"
     ],
     "name": "stdout"
    },
    {
     "output_type": "stream",
     "text": [
      "\n"
     ],
     "name": "stderr"
    },
    {
     "output_type": "stream",
     "text": [
      "Step 120, Loss_train 0.034119270741939545\n"
     ],
     "name": "stdout"
    },
    {
     "output_type": "stream",
     "text": [
      "100%|██████████| 19/19 [00:05<00:00,  3.66it/s]"
     ],
     "name": "stderr"
    },
    {
     "output_type": "stream",
     "text": [
      "Current Accuracy: 0.24951171875\n",
      "Starting epoch 1/10, LR = [0.001]\n"
     ],
     "name": "stdout"
    },
    {
     "output_type": "stream",
     "text": [
      "\n"
     ],
     "name": "stderr"
    },
    {
     "output_type": "stream",
     "text": [
      "Step 0, Loss_train 2.139012336730957\n",
      "Step 10, Loss_train 0.44854551553726196\n"
     ],
     "name": "stdout"
    },
    {
     "output_type": "stream",
     "text": [
      "100%|██████████| 31/31 [00:08<00:00,  3.68it/s]"
     ],
     "name": "stderr"
    },
    {
     "output_type": "stream",
     "text": [
      "Current Accuracy: 0.51123046875\n",
      "Starting epoch 2/10, LR = [0.001]\n"
     ],
     "name": "stdout"
    },
    {
     "output_type": "stream",
     "text": [
      "\n"
     ],
     "name": "stderr"
    },
    {
     "output_type": "stream",
     "text": [
      "Step 20, Loss_train 0.1566946804523468\n"
     ],
     "name": "stdout"
    },
    {
     "output_type": "stream",
     "text": [
      "100%|██████████| 31/31 [00:08<00:00,  3.64it/s]"
     ],
     "name": "stderr"
    },
    {
     "output_type": "stream",
     "text": [
      "Current Accuracy: 0.45263671875\n",
      "Starting epoch 3/10, LR = [0.001]\n"
     ],
     "name": "stdout"
    },
    {
     "output_type": "stream",
     "text": [
      "\n"
     ],
     "name": "stderr"
    },
    {
     "output_type": "stream",
     "text": [
      "Step 30, Loss_train 0.08425363153219223\n"
     ],
     "name": "stdout"
    },
    {
     "output_type": "stream",
     "text": [
      "100%|██████████| 31/31 [00:08<00:00,  3.65it/s]"
     ],
     "name": "stderr"
    },
    {
     "output_type": "stream",
     "text": [
      "Current Accuracy: 0.36279296875\n",
      "Starting epoch 4/10, LR = [0.00025]\n"
     ],
     "name": "stdout"
    },
    {
     "output_type": "stream",
     "text": [
      "\n"
     ],
     "name": "stderr"
    },
    {
     "output_type": "stream",
     "text": [
      "Step 40, Loss_train 0.08935189247131348\n",
      "Step 50, Loss_train 0.03495778888463974\n"
     ],
     "name": "stdout"
    },
    {
     "output_type": "stream",
     "text": [
      "100%|██████████| 31/31 [00:08<00:00,  3.67it/s]\n"
     ],
     "name": "stderr"
    },
    {
     "output_type": "stream",
     "text": [
      "Current Accuracy: 0.37255859375\n",
      "Starting epoch 5/10, LR = [0.0005]\n",
      "Step 60, Loss_train 0.08991429209709167\n"
     ],
     "name": "stdout"
    },
    {
     "output_type": "stream",
     "text": [
      "100%|██████████| 31/31 [00:08<00:00,  3.66it/s]"
     ],
     "name": "stderr"
    },
    {
     "output_type": "stream",
     "text": [
      "Current Accuracy: 0.38720703125\n",
      "Starting epoch 6/10, LR = [0.0005]\n"
     ],
     "name": "stdout"
    },
    {
     "output_type": "stream",
     "text": [
      "\n"
     ],
     "name": "stderr"
    },
    {
     "output_type": "stream",
     "text": [
      "Step 70, Loss_train 0.07642863690853119\n"
     ],
     "name": "stdout"
    },
    {
     "output_type": "stream",
     "text": [
      "100%|██████████| 31/31 [00:08<00:00,  3.66it/s]"
     ],
     "name": "stderr"
    },
    {
     "output_type": "stream",
     "text": [
      "Current Accuracy: 0.3876953125\n",
      "Starting epoch 7/10, LR = [0.000125]\n"
     ],
     "name": "stdout"
    },
    {
     "output_type": "stream",
     "text": [
      "\n"
     ],
     "name": "stderr"
    },
    {
     "output_type": "stream",
     "text": [
      "Step 80, Loss_train 0.021429628133773804\n"
     ],
     "name": "stdout"
    },
    {
     "output_type": "stream",
     "text": [
      "\r  0%|          | 0/31 [00:00<?, ?it/s]"
     ],
     "name": "stderr"
    },
    {
     "output_type": "stream",
     "text": [
      "Step 90, Loss_train 0.029472243040800095\n"
     ],
     "name": "stdout"
    },
    {
     "output_type": "stream",
     "text": [
      "100%|██████████| 31/31 [00:08<00:00,  3.68it/s]"
     ],
     "name": "stderr"
    },
    {
     "output_type": "stream",
     "text": [
      "Current Accuracy: 0.390625\n",
      "Starting epoch 8/10, LR = [0.00025]\n"
     ],
     "name": "stdout"
    },
    {
     "output_type": "stream",
     "text": [
      "\n"
     ],
     "name": "stderr"
    },
    {
     "output_type": "stream",
     "text": [
      "Step 100, Loss_train 0.049678001552820206\n"
     ],
     "name": "stdout"
    },
    {
     "output_type": "stream",
     "text": [
      "100%|██████████| 31/31 [00:08<00:00,  3.59it/s]"
     ],
     "name": "stderr"
    },
    {
     "output_type": "stream",
     "text": [
      "Current Accuracy: 0.39111328125\n",
      "Starting epoch 9/10, LR = [0.00025]\n"
     ],
     "name": "stdout"
    },
    {
     "output_type": "stream",
     "text": [
      "\n"
     ],
     "name": "stderr"
    },
    {
     "output_type": "stream",
     "text": [
      "Step 110, Loss_train 0.040330320596694946\n"
     ],
     "name": "stdout"
    },
    {
     "output_type": "stream",
     "text": [
      "100%|██████████| 31/31 [00:08<00:00,  3.67it/s]"
     ],
     "name": "stderr"
    },
    {
     "output_type": "stream",
     "text": [
      "Current Accuracy: 0.390625\n",
      "Starting epoch 10/10, LR = [6.25e-05]\n"
     ],
     "name": "stdout"
    },
    {
     "output_type": "stream",
     "text": [
      "\n"
     ],
     "name": "stderr"
    },
    {
     "output_type": "stream",
     "text": [
      "Step 120, Loss_train 0.04150238260626793\n"
     ],
     "name": "stdout"
    },
    {
     "output_type": "stream",
     "text": [
      "100%|██████████| 31/31 [00:08<00:00,  3.67it/s]"
     ],
     "name": "stderr"
    },
    {
     "output_type": "stream",
     "text": [
      "Current Accuracy: 0.3974609375\n",
      "Best configuration is:\n",
      "{'alpha': 0.5, 'batch_size': 128, 'epochs': 10, 'gamma': 0.5, 'lr': 0.001, 'step_size': 3}\n",
      "Highest mean accuracy: 0.38427734375\n"
     ],
     "name": "stdout"
    },
    {
     "output_type": "stream",
     "text": [
      "\n"
     ],
     "name": "stderr"
    }
   ]
  },
  {
   "cell_type": "code",
   "metadata": {
    "id": "dpmSLmS5eglj",
    "colab_type": "code",
    "outputId": "3ed71090-07bd-4539-fed9-323148db2ac8",
    "colab": {
     "base_uri": "https://localhost:8080/",
     "height": 816
    }
   },
   "source": [
    "params = best_conf['params']\n",
    "\n",
    "source_dataloader, _ = get_data_loaders(source_data, batch_size=params['batch_size'])\n",
    "_, test_dataloader = get_data_loaders(target_data, batch_size=params['batch_size'])\n",
    "no_dann = getNet(pretrained=True)\n",
    "criterion, _, optimizer, scheduler = init_cnn_objects(no_dann, lr=params['lr'], step_size=params['step_size'], gamma=params['gamma'])\n",
    "\n",
    "losses_no_dann, accuracies_no_dann = simple_train_test(no_dann, source_dataloader, test_dataloader, criterion, optimizer, scheduler, max_epoch=params['epochs'])\n",
    "print(f\"Photo transfer to Art accuracy WITHOUT DANN: {max(accuracies_no_dann)}\")\n",
    "\n",
    "saveResults(params, best_conf['best_acc'], accuracies_no_dann, losses_no_dann)"
   ],
   "execution_count": 11,
   "outputs": [
    {
     "output_type": "stream",
     "text": [
      "Starting epoch 1/10, LR = [0.001]\n"
     ],
     "name": "stdout"
    },
    {
     "output_type": "stream",
     "text": [
      "/usr/local/lib/python3.6/dist-packages/torch/optim/lr_scheduler.py:351: UserWarning: To get the last learning rate computed by the scheduler, please use `get_last_lr()`.\n",
      "  \"please use `get_last_lr()`.\", UserWarning)\n"
     ],
     "name": "stderr"
    },
    {
     "output_type": "stream",
     "text": [
      "Step 0, Loss_train 2.326894521713257\n",
      "Step 10, Loss_train 0.44786256551742554\n"
     ],
     "name": "stdout"
    },
    {
     "output_type": "stream",
     "text": [
      "100%|██████████| 16/16 [00:04<00:00,  3.40it/s]"
     ],
     "name": "stderr"
    },
    {
     "output_type": "stream",
     "text": [
      "Current Accuracy: 0.4775390625\n",
      "Starting epoch 2/10, LR = [0.001]\n"
     ],
     "name": "stdout"
    },
    {
     "output_type": "stream",
     "text": [
      "\n"
     ],
     "name": "stderr"
    },
    {
     "output_type": "stream",
     "text": [
      "Step 20, Loss_train 0.17146678268909454\n"
     ],
     "name": "stdout"
    },
    {
     "output_type": "stream",
     "text": [
      "100%|██████████| 16/16 [00:04<00:00,  3.38it/s]"
     ],
     "name": "stderr"
    },
    {
     "output_type": "stream",
     "text": [
      "Current Accuracy: 0.4609375\n",
      "Starting epoch 3/10, LR = [0.001]\n"
     ],
     "name": "stdout"
    },
    {
     "output_type": "stream",
     "text": [
      "\n"
     ],
     "name": "stderr"
    },
    {
     "output_type": "stream",
     "text": [
      "Step 30, Loss_train 0.11289745569229126\n"
     ],
     "name": "stdout"
    },
    {
     "output_type": "stream",
     "text": [
      "100%|██████████| 16/16 [00:04<00:00,  3.39it/s]"
     ],
     "name": "stderr"
    },
    {
     "output_type": "stream",
     "text": [
      "Current Accuracy: 0.494140625\n",
      "Starting epoch 4/10, LR = [0.00025]\n"
     ],
     "name": "stdout"
    },
    {
     "output_type": "stream",
     "text": [
      "\n"
     ],
     "name": "stderr"
    },
    {
     "output_type": "stream",
     "text": [
      "Step 40, Loss_train 0.09326218068599701\n",
      "Step 50, Loss_train 0.08249055594205856\n"
     ],
     "name": "stdout"
    },
    {
     "output_type": "stream",
     "text": [
      "100%|██████████| 16/16 [00:04<00:00,  3.32it/s]"
     ],
     "name": "stderr"
    },
    {
     "output_type": "stream",
     "text": [
      "Current Accuracy: 0.4931640625\n",
      "Starting epoch 5/10, LR = [0.0005]\n"
     ],
     "name": "stdout"
    },
    {
     "output_type": "stream",
     "text": [
      "\n"
     ],
     "name": "stderr"
    },
    {
     "output_type": "stream",
     "text": [
      "Step 60, Loss_train 0.053932033479213715\n"
     ],
     "name": "stdout"
    },
    {
     "output_type": "stream",
     "text": [
      "100%|██████████| 16/16 [00:04<00:00,  3.35it/s]"
     ],
     "name": "stderr"
    },
    {
     "output_type": "stream",
     "text": [
      "Current Accuracy: 0.4931640625\n",
      "Starting epoch 6/10, LR = [0.0005]\n"
     ],
     "name": "stdout"
    },
    {
     "output_type": "stream",
     "text": [
      "\n"
     ],
     "name": "stderr"
    },
    {
     "output_type": "stream",
     "text": [
      "Step 70, Loss_train 0.08885359764099121\n"
     ],
     "name": "stdout"
    },
    {
     "output_type": "stream",
     "text": [
      "100%|██████████| 16/16 [00:04<00:00,  3.31it/s]"
     ],
     "name": "stderr"
    },
    {
     "output_type": "stream",
     "text": [
      "Current Accuracy: 0.50244140625\n",
      "Starting epoch 7/10, LR = [0.000125]\n"
     ],
     "name": "stdout"
    },
    {
     "output_type": "stream",
     "text": [
      "\n"
     ],
     "name": "stderr"
    },
    {
     "output_type": "stream",
     "text": [
      "Step 80, Loss_train 0.07092434912919998\n"
     ],
     "name": "stdout"
    },
    {
     "output_type": "stream",
     "text": [
      "\r  0%|          | 0/16 [00:00<?, ?it/s]"
     ],
     "name": "stderr"
    },
    {
     "output_type": "stream",
     "text": [
      "Step 90, Loss_train 0.055797819048166275\n"
     ],
     "name": "stdout"
    },
    {
     "output_type": "stream",
     "text": [
      "100%|██████████| 16/16 [00:04<00:00,  3.39it/s]"
     ],
     "name": "stderr"
    },
    {
     "output_type": "stream",
     "text": [
      "Current Accuracy: 0.4990234375\n",
      "Starting epoch 8/10, LR = [0.00025]\n"
     ],
     "name": "stdout"
    },
    {
     "output_type": "stream",
     "text": [
      "\n"
     ],
     "name": "stderr"
    },
    {
     "output_type": "stream",
     "text": [
      "Step 100, Loss_train 0.0188013706356287\n"
     ],
     "name": "stdout"
    },
    {
     "output_type": "stream",
     "text": [
      "100%|██████████| 16/16 [00:04<00:00,  3.35it/s]"
     ],
     "name": "stderr"
    },
    {
     "output_type": "stream",
     "text": [
      "Current Accuracy: 0.5009765625\n",
      "Starting epoch 9/10, LR = [0.00025]\n"
     ],
     "name": "stdout"
    },
    {
     "output_type": "stream",
     "text": [
      "\n"
     ],
     "name": "stderr"
    },
    {
     "output_type": "stream",
     "text": [
      "Step 110, Loss_train 0.03612625598907471\n"
     ],
     "name": "stdout"
    },
    {
     "output_type": "stream",
     "text": [
      "100%|██████████| 16/16 [00:04<00:00,  3.35it/s]"
     ],
     "name": "stderr"
    },
    {
     "output_type": "stream",
     "text": [
      "Current Accuracy: 0.4970703125\n",
      "Starting epoch 10/10, LR = [6.25e-05]\n"
     ],
     "name": "stdout"
    },
    {
     "output_type": "stream",
     "text": [
      "\n"
     ],
     "name": "stderr"
    },
    {
     "output_type": "stream",
     "text": [
      "Step 120, Loss_train 0.028234347701072693\n"
     ],
     "name": "stdout"
    },
    {
     "output_type": "stream",
     "text": [
      "100%|██████████| 16/16 [00:04<00:00,  3.41it/s]"
     ],
     "name": "stderr"
    },
    {
     "output_type": "stream",
     "text": [
      "Current Accuracy: 0.49560546875\n",
      "Photo transfer to Art accuracy WITHOUT DANN: 0.50244140625\n",
      "********* FILE SAVED *********\n"
     ],
     "name": "stdout"
    },
    {
     "output_type": "stream",
     "text": [
      "\n"
     ],
     "name": "stderr"
    }
   ]
  },
  {
   "cell_type": "markdown",
   "metadata": {
    "id": "vXNY7Wnw7IQm",
    "colab_type": "text"
   },
   "source": [
    "**Training with DANN**"
   ]
  },
  {
   "cell_type": "code",
   "metadata": {
    "id": "SCp3Tzfw7Kwq",
    "colab_type": "code",
    "colab": {}
   },
   "source": [
    "import math\n",
    "def dann_train_test(model, source_dataloader, target_dataloader, test_dataloader, \n",
    "                    class_criterion, domain_criterion, optimizer, scheduler, max_epoch=NUM_EPOCHS, alpha=ALPHA, file_path=BASE_FILE_PATH, device=DEVICE):\n",
    "    class_losses_y = []\n",
    "    domain_losses_d = []\n",
    "    accuracies = []\n",
    "    loss_min = -1\n",
    "    accuracy_max = 0\n",
    "    count_diverge = 0\n",
    "    \n",
    "    model = model.to(device)\n",
    "    cudnn.benchmark\n",
    "    \n",
    "    current_step = 0\n",
    "    for epoch in range(max_epoch):\n",
    "        print('Starting epoch {}/{}, LR = {}'.format(epoch+1, max_epoch, scheduler.get_lr()))\n",
    "        class_loss, domain_loss, current_step = dann_train_src_target(model, source_dataloader, \n",
    "                                          target_dataloader, optimizer, class_criterion, domain_criterion, current_step,\n",
    "                                          epoch, max_epoch, alpha=alpha, device=device)\n",
    "        \n",
    "        if math.isnan(class_loss) or math.isnan(domain_loss):\n",
    "          count_diverge += 1\n",
    "          if count_diverge >= 3:\n",
    "            print(\"EARLY STOPPING\")\n",
    "            break;\n",
    "        class_losses_y.append(class_loss)\n",
    "        domain_losses_d.append(domain_loss)\n",
    "\n",
    "        \"\"\"if loss_min == -1 or loss_min > class_loss:\n",
    "            loss_min = class_loss\n",
    "            torch.save(model, f\"{file_path}_best_model_dann.pth\")\"\"\"\n",
    "        accuracy = test_target(model, test_dataloader, device) / float(len(target_data))\n",
    "        accuracies.append(accuracy)\n",
    "        print(f\"Accuracy on test set: {accuracy}\")\n",
    "        if accuracy_max < accuracy:\n",
    "          accuracy_max = accuracy\n",
    "          torch.save(model, f\"{file_path}_best_model_dann.pth\")\n",
    "        scheduler.step()\n",
    "        \n",
    "    return class_losses_y, domain_losses_d, accuracies"
   ],
   "execution_count": 0,
   "outputs": []
  },
  {
   "cell_type": "code",
   "metadata": {
    "id": "MgNktK57mCff",
    "colab_type": "code",
    "outputId": "31b5157e-b4f5-4e21-cabf-391bf32c8cd4",
    "colab": {
     "base_uri": "https://localhost:8080/",
     "height": 1000
    }
   },
   "source": [
    "grid = ParameterGrid(param_grid)\n",
    "dann_results = []\n",
    "for config in grid:\n",
    "  source_dataloader, _ = get_data_loaders(source_data, config['batch_size'])\n",
    "  cartoon_dataloader, cartoon_test_dataloader = get_data_loaders(cartoon_data, config['batch_size'])\n",
    "  sketch_dataloader, sketch_test_dataloader = get_data_loaders(sketch_data, config['batch_size'])\n",
    "  dann_cartoon = getNet(pretrained=True)\n",
    "  criterion_cartoon_src, criterion_cartoon_tgt, optimizer_cartoon, scheduler_cartoon = init_cnn_objects(dann_cartoon, lr=config['lr'], \n",
    "                                                                          step_size=config['step_size'], gamma=config['gamma'])\n",
    "  dann_sketch = getNet(pretrained=True)\n",
    "  criterion_sketch_src, criterion_sketch_tgt, optimizer_sketch, scheduler_sketch = init_cnn_objects(dann_sketch, lr=config['lr'], \n",
    "                                                                          step_size=config['step_size'], gamma=config['gamma'])\n",
    "\n",
    "  class_losses_cartoon, domain_losses_cartoon, accuracies_cartoon = dann_train_test(\n",
    "      dann_cartoon, source_dataloader, cartoon_dataloader, cartoon_test_dataloader,\n",
    "      criterion_cartoon_src, criterion_cartoon_tgt, optimizer_cartoon, scheduler_cartoon, max_epoch=config['epochs'], alpha=config['alpha']\n",
    "  )\n",
    "\n",
    "  class_losses_sketch, domain_losses_sketch, accuracies_sketch = dann_train_test(\n",
    "      dann_sketch, source_dataloader, sketch_dataloader, sketch_test_dataloader,\n",
    "      criterion_sketch_src, criterion_sketch_tgt, optimizer_sketch, scheduler_sketch, max_epoch=config['epochs'], alpha=config['alpha']\n",
    "  )\n",
    "\n",
    "  curr_result = {'params': config, 'cartoon_losses': (class_losses_cartoon, domain_losses_cartoon), 'sketch_losses': (class_losses_sketch, domain_losses_sketch),\n",
    "                 'best_acc': np.mean([max(accuracies_cartoon), max(accuracies_sketch)])}\n",
    "  dann_results.append(curr_result)\n",
    "  \n",
    "best_conf = max(dann_results, key=lambda x: x['best_acc'])\n",
    "print(f\"Best configuration is:\\n{best_conf['params']}\")\n",
    "print(f\"Highest mean accuracy: {best_conf['best_acc']}\")\n"
   ],
   "execution_count": 13,
   "outputs": [
    {
     "output_type": "stream",
     "text": [
      "Starting epoch 1/10, LR = [0.001]\n"
     ],
     "name": "stdout"
    },
    {
     "output_type": "stream",
     "text": [
      "/usr/local/lib/python3.6/dist-packages/torch/optim/lr_scheduler.py:351: UserWarning: To get the last learning rate computed by the scheduler, please use `get_last_lr()`.\n",
      "  \"please use `get_last_lr()`.\", UserWarning)\n"
     ],
     "name": "stderr"
    },
    {
     "output_type": "stream",
     "text": [
      "Step 0\n",
      "Class Loss 2.22733998298645, Domain Loss 1.5782082080841064\n",
      "Step 10\n",
      "Class Loss 0.4505959749221802, Domain Loss 0.15484854578971863\n"
     ],
     "name": "stdout"
    },
    {
     "output_type": "stream",
     "text": [
      "100%|██████████| 19/19 [00:05<00:00,  3.65it/s]\n"
     ],
     "name": "stderr"
    },
    {
     "output_type": "stream",
     "text": [
      "Accuracy on test set: 0.19873046875\n",
      "Starting epoch 2/10, LR = [0.001]\n",
      "Step 20\n",
      "Class Loss 0.0795367881655693, Domain Loss 0.052016615867614746\n"
     ],
     "name": "stdout"
    },
    {
     "output_type": "stream",
     "text": [
      "100%|██████████| 19/19 [00:05<00:00,  3.76it/s]\n"
     ],
     "name": "stderr"
    },
    {
     "output_type": "stream",
     "text": [
      "Accuracy on test set: 0.20166015625\n",
      "Starting epoch 3/10, LR = [0.001]\n",
      "Step 30\n",
      "Class Loss 0.12456435710191727, Domain Loss 0.04466213285923004\n"
     ],
     "name": "stdout"
    },
    {
     "output_type": "stream",
     "text": [
      "100%|██████████| 19/19 [00:05<00:00,  3.57it/s]\n"
     ],
     "name": "stderr"
    },
    {
     "output_type": "stream",
     "text": [
      "Accuracy on test set: 0.2216796875\n",
      "Starting epoch 4/10, LR = [0.00025]\n",
      "Step 40\n",
      "Class Loss 0.03732159361243248, Domain Loss 0.10597571730613708\n",
      "Step 50\n",
      "Class Loss 0.05559827759861946, Domain Loss 0.09212500602006912\n"
     ],
     "name": "stdout"
    },
    {
     "output_type": "stream",
     "text": [
      "100%|██████████| 19/19 [00:05<00:00,  3.69it/s]\n"
     ],
     "name": "stderr"
    },
    {
     "output_type": "stream",
     "text": [
      "Accuracy on test set: 0.224609375\n",
      "Starting epoch 5/10, LR = [0.0005]\n",
      "Step 60\n",
      "Class Loss 0.08890047669410706, Domain Loss 0.13460896909236908\n"
     ],
     "name": "stdout"
    },
    {
     "output_type": "stream",
     "text": [
      "100%|██████████| 19/19 [00:05<00:00,  3.69it/s]"
     ],
     "name": "stderr"
    },
    {
     "output_type": "stream",
     "text": [
      "Accuracy on test set: 0.220703125\n",
      "Starting epoch 6/10, LR = [0.0005]\n"
     ],
     "name": "stdout"
    },
    {
     "output_type": "stream",
     "text": [
      "\n"
     ],
     "name": "stderr"
    },
    {
     "output_type": "stream",
     "text": [
      "Step 70\n",
      "Class Loss 0.046503469347953796, Domain Loss 0.045285530388355255\n"
     ],
     "name": "stdout"
    },
    {
     "output_type": "stream",
     "text": [
      "100%|██████████| 19/19 [00:05<00:00,  3.71it/s]"
     ],
     "name": "stderr"
    },
    {
     "output_type": "stream",
     "text": [
      "Accuracy on test set: 0.22314453125\n",
      "Starting epoch 7/10, LR = [0.000125]\n"
     ],
     "name": "stdout"
    },
    {
     "output_type": "stream",
     "text": [
      "\n"
     ],
     "name": "stderr"
    },
    {
     "output_type": "stream",
     "text": [
      "Step 80\n",
      "Class Loss 0.048258308321237564, Domain Loss 0.008618457242846489\n",
      "Step 90\n",
      "Class Loss 0.029314368963241577, Domain Loss 0.039582476019859314\n"
     ],
     "name": "stdout"
    },
    {
     "output_type": "stream",
     "text": [
      "100%|██████████| 19/19 [00:05<00:00,  3.67it/s]\n"
     ],
     "name": "stderr"
    },
    {
     "output_type": "stream",
     "text": [
      "Accuracy on test set: 0.2275390625\n",
      "Starting epoch 8/10, LR = [0.00025]\n",
      "Step 100\n",
      "Class Loss 0.020604759454727173, Domain Loss 0.053823117166757584\n"
     ],
     "name": "stdout"
    },
    {
     "output_type": "stream",
     "text": [
      "100%|██████████| 19/19 [00:05<00:00,  3.60it/s]\n"
     ],
     "name": "stderr"
    },
    {
     "output_type": "stream",
     "text": [
      "Accuracy on test set: 0.23583984375\n",
      "Starting epoch 9/10, LR = [0.00025]\n",
      "Step 110\n",
      "Class Loss 0.039370495826005936, Domain Loss 0.0594654381275177\n"
     ],
     "name": "stdout"
    },
    {
     "output_type": "stream",
     "text": [
      "100%|██████████| 19/19 [00:05<00:00,  3.66it/s]"
     ],
     "name": "stderr"
    },
    {
     "output_type": "stream",
     "text": [
      "Accuracy on test set: 0.2353515625\n",
      "Starting epoch 10/10, LR = [6.25e-05]\n"
     ],
     "name": "stdout"
    },
    {
     "output_type": "stream",
     "text": [
      "\n"
     ],
     "name": "stderr"
    },
    {
     "output_type": "stream",
     "text": [
      "Step 120\n",
      "Class Loss 0.018114449456334114, Domain Loss 0.00872896984219551\n"
     ],
     "name": "stdout"
    },
    {
     "output_type": "stream",
     "text": [
      "100%|██████████| 19/19 [00:05<00:00,  3.65it/s]"
     ],
     "name": "stderr"
    },
    {
     "output_type": "stream",
     "text": [
      "Accuracy on test set: 0.2353515625\n",
      "Starting epoch 1/10, LR = [0.001]\n"
     ],
     "name": "stdout"
    },
    {
     "output_type": "stream",
     "text": [
      "\n"
     ],
     "name": "stderr"
    },
    {
     "output_type": "stream",
     "text": [
      "Step 0\n",
      "Class Loss 1.9874106645584106, Domain Loss 1.1805323362350464\n",
      "Step 10\n",
      "Class Loss 0.312212198972702, Domain Loss 0.001702204579487443\n"
     ],
     "name": "stdout"
    },
    {
     "output_type": "stream",
     "text": [
      "100%|██████████| 31/31 [00:08<00:00,  3.69it/s]\n"
     ],
     "name": "stderr"
    },
    {
     "output_type": "stream",
     "text": [
      "Accuracy on test set: 0.3427734375\n",
      "Starting epoch 2/10, LR = [0.001]\n",
      "Step 20\n",
      "Class Loss 0.14435869455337524, Domain Loss 0.02144007384777069\n"
     ],
     "name": "stdout"
    },
    {
     "output_type": "stream",
     "text": [
      "100%|██████████| 31/31 [00:08<00:00,  3.65it/s]\n"
     ],
     "name": "stderr"
    },
    {
     "output_type": "stream",
     "text": [
      "Accuracy on test set: 0.35205078125\n",
      "Starting epoch 3/10, LR = [0.001]\n",
      "Step 30\n",
      "Class Loss 0.06896756589412689, Domain Loss 0.0005352087318897247\n"
     ],
     "name": "stdout"
    },
    {
     "output_type": "stream",
     "text": [
      "100%|██████████| 31/31 [00:08<00:00,  3.58it/s]"
     ],
     "name": "stderr"
    },
    {
     "output_type": "stream",
     "text": [
      "Accuracy on test set: 0.3310546875\n",
      "Starting epoch 4/10, LR = [0.00025]\n"
     ],
     "name": "stdout"
    },
    {
     "output_type": "stream",
     "text": [
      "\n"
     ],
     "name": "stderr"
    },
    {
     "output_type": "stream",
     "text": [
      "Step 40\n",
      "Class Loss 0.037610746920108795, Domain Loss 0.00969709362834692\n",
      "Step 50\n",
      "Class Loss 0.048658303916454315, Domain Loss 3.411434590816498e-05\n"
     ],
     "name": "stdout"
    },
    {
     "output_type": "stream",
     "text": [
      "100%|██████████| 31/31 [00:08<00:00,  3.63it/s]"
     ],
     "name": "stderr"
    },
    {
     "output_type": "stream",
     "text": [
      "Accuracy on test set: 0.33251953125\n",
      "Starting epoch 5/10, LR = [0.0005]\n"
     ],
     "name": "stdout"
    },
    {
     "output_type": "stream",
     "text": [
      "\n"
     ],
     "name": "stderr"
    },
    {
     "output_type": "stream",
     "text": [
      "Step 60\n",
      "Class Loss 0.06956981122493744, Domain Loss 0.00015820562839508057\n"
     ],
     "name": "stdout"
    },
    {
     "output_type": "stream",
     "text": [
      "100%|██████████| 31/31 [00:08<00:00,  3.65it/s]"
     ],
     "name": "stderr"
    },
    {
     "output_type": "stream",
     "text": [
      "Accuracy on test set: 0.33984375\n",
      "Starting epoch 6/10, LR = [0.0005]\n"
     ],
     "name": "stdout"
    },
    {
     "output_type": "stream",
     "text": [
      "\n"
     ],
     "name": "stderr"
    },
    {
     "output_type": "stream",
     "text": [
      "Step 70\n",
      "Class Loss 0.05224277451634407, Domain Loss 8.83452594280243e-06\n"
     ],
     "name": "stdout"
    },
    {
     "output_type": "stream",
     "text": [
      "100%|██████████| 31/31 [00:08<00:00,  3.64it/s]"
     ],
     "name": "stderr"
    },
    {
     "output_type": "stream",
     "text": [
      "Accuracy on test set: 0.35009765625\n",
      "Starting epoch 7/10, LR = [0.000125]\n"
     ],
     "name": "stdout"
    },
    {
     "output_type": "stream",
     "text": [
      "\n"
     ],
     "name": "stderr"
    },
    {
     "output_type": "stream",
     "text": [
      "Step 80\n",
      "Class Loss 0.029935233294963837, Domain Loss 0.0029919156804680824\n",
      "Step 90\n",
      "Class Loss 0.04882407188415527, Domain Loss 3.93204391002655e-06\n"
     ],
     "name": "stdout"
    },
    {
     "output_type": "stream",
     "text": [
      "100%|██████████| 31/31 [00:08<00:00,  3.62it/s]\n"
     ],
     "name": "stderr"
    },
    {
     "output_type": "stream",
     "text": [
      "Accuracy on test set: 0.35400390625\n",
      "Starting epoch 8/10, LR = [0.00025]\n",
      "Step 100\n",
      "Class Loss 0.01322995126247406, Domain Loss 0.0026805433444678783\n"
     ],
     "name": "stdout"
    },
    {
     "output_type": "stream",
     "text": [
      "100%|██████████| 31/31 [00:08<00:00,  3.63it/s]"
     ],
     "name": "stderr"
    },
    {
     "output_type": "stream",
     "text": [
      "Accuracy on test set: 0.35302734375\n",
      "Starting epoch 9/10, LR = [0.00025]\n"
     ],
     "name": "stdout"
    },
    {
     "output_type": "stream",
     "text": [
      "\n"
     ],
     "name": "stderr"
    },
    {
     "output_type": "stream",
     "text": [
      "Step 110\n",
      "Class Loss 0.03969794511795044, Domain Loss 6.366521120071411e-06\n"
     ],
     "name": "stdout"
    },
    {
     "output_type": "stream",
     "text": [
      "100%|██████████| 31/31 [00:08<00:00,  3.62it/s]\n"
     ],
     "name": "stderr"
    },
    {
     "output_type": "stream",
     "text": [
      "Accuracy on test set: 0.349609375\n",
      "Starting epoch 10/10, LR = [6.25e-05]\n",
      "Step 120\n",
      "Class Loss 0.028949247673153877, Domain Loss 0.0002445271238684654\n"
     ],
     "name": "stdout"
    },
    {
     "output_type": "stream",
     "text": [
      "100%|██████████| 31/31 [00:08<00:00,  3.61it/s]\n"
     ],
     "name": "stderr"
    },
    {
     "output_type": "stream",
     "text": [
      "Accuracy on test set: 0.34765625\n",
      "Starting epoch 1/10, LR = [0.001]\n",
      "Step 0\n",
      "Class Loss 2.357512950897217, Domain Loss 1.9713366031646729\n",
      "Step 10\n",
      "Class Loss 0.4323289394378662, Domain Loss 0.2609443962574005\n"
     ],
     "name": "stdout"
    },
    {
     "output_type": "stream",
     "text": [
      "100%|██████████| 19/19 [00:05<00:00,  3.64it/s]\n"
     ],
     "name": "stderr"
    },
    {
     "output_type": "stream",
     "text": [
      "Accuracy on test set: 0.26806640625\n",
      "Starting epoch 2/10, LR = [0.001]\n",
      "Step 20\n",
      "Class Loss 0.1369781345129013, Domain Loss 0.17531684041023254\n"
     ],
     "name": "stdout"
    },
    {
     "output_type": "stream",
     "text": [
      "100%|██████████| 19/19 [00:05<00:00,  3.53it/s]"
     ],
     "name": "stderr"
    },
    {
     "output_type": "stream",
     "text": [
      "Accuracy on test set: 0.2646484375\n",
      "Starting epoch 3/10, LR = [0.001]\n"
     ],
     "name": "stdout"
    },
    {
     "output_type": "stream",
     "text": [
      "\n"
     ],
     "name": "stderr"
    },
    {
     "output_type": "stream",
     "text": [
      "Step 30\n",
      "Class Loss 0.09827934950590134, Domain Loss 0.0413292720913887\n"
     ],
     "name": "stdout"
    },
    {
     "output_type": "stream",
     "text": [
      "100%|██████████| 19/19 [00:05<00:00,  3.54it/s]"
     ],
     "name": "stderr"
    },
    {
     "output_type": "stream",
     "text": [
      "Accuracy on test set: 0.25341796875\n",
      "Starting epoch 4/10, LR = [0.00025]\n"
     ],
     "name": "stdout"
    },
    {
     "output_type": "stream",
     "text": [
      "\n"
     ],
     "name": "stderr"
    },
    {
     "output_type": "stream",
     "text": [
      "Step 40\n",
      "Class Loss 0.08092516660690308, Domain Loss 0.0949045941233635\n",
      "Step 50\n",
      "Class Loss 0.11040923744440079, Domain Loss 0.13038741052150726\n"
     ],
     "name": "stdout"
    },
    {
     "output_type": "stream",
     "text": [
      "100%|██████████| 19/19 [00:05<00:00,  3.51it/s]"
     ],
     "name": "stderr"
    },
    {
     "output_type": "stream",
     "text": [
      "Accuracy on test set: 0.26513671875\n",
      "Starting epoch 5/10, LR = [0.0005]\n"
     ],
     "name": "stdout"
    },
    {
     "output_type": "stream",
     "text": [
      "\n"
     ],
     "name": "stderr"
    },
    {
     "output_type": "stream",
     "text": [
      "Step 60\n",
      "Class Loss 0.10423780977725983, Domain Loss 0.03948540985584259\n"
     ],
     "name": "stdout"
    },
    {
     "output_type": "stream",
     "text": [
      "100%|██████████| 19/19 [00:05<00:00,  3.54it/s]\n"
     ],
     "name": "stderr"
    },
    {
     "output_type": "stream",
     "text": [
      "Accuracy on test set: 0.2705078125\n",
      "Starting epoch 6/10, LR = [0.0005]\n",
      "Step 70\n",
      "Class Loss 0.03359689190983772, Domain Loss 0.068851038813591\n"
     ],
     "name": "stdout"
    },
    {
     "output_type": "stream",
     "text": [
      "100%|██████████| 19/19 [00:05<00:00,  3.52it/s]"
     ],
     "name": "stderr"
    },
    {
     "output_type": "stream",
     "text": [
      "Accuracy on test set: 0.26123046875\n",
      "Starting epoch 7/10, LR = [0.000125]\n"
     ],
     "name": "stdout"
    },
    {
     "output_type": "stream",
     "text": [
      "\n"
     ],
     "name": "stderr"
    },
    {
     "output_type": "stream",
     "text": [
      "Step 80\n",
      "Class Loss 0.03748062625527382, Domain Loss 0.0423116534948349\n",
      "Step 90\n",
      "Class Loss 0.04318879917263985, Domain Loss 0.0522608682513237\n"
     ],
     "name": "stdout"
    },
    {
     "output_type": "stream",
     "text": [
      "100%|██████████| 19/19 [00:05<00:00,  3.50it/s]"
     ],
     "name": "stderr"
    },
    {
     "output_type": "stream",
     "text": [
      "Accuracy on test set: 0.25927734375\n",
      "Starting epoch 8/10, LR = [0.00025]\n"
     ],
     "name": "stdout"
    },
    {
     "output_type": "stream",
     "text": [
      "\n"
     ],
     "name": "stderr"
    },
    {
     "output_type": "stream",
     "text": [
      "Step 100\n",
      "Class Loss 0.03768754377961159, Domain Loss 0.08538629859685898\n"
     ],
     "name": "stdout"
    },
    {
     "output_type": "stream",
     "text": [
      "100%|██████████| 19/19 [00:05<00:00,  3.57it/s]"
     ],
     "name": "stderr"
    },
    {
     "output_type": "stream",
     "text": [
      "Accuracy on test set: 0.26171875\n",
      "Starting epoch 9/10, LR = [0.00025]\n"
     ],
     "name": "stdout"
    },
    {
     "output_type": "stream",
     "text": [
      "\n"
     ],
     "name": "stderr"
    },
    {
     "output_type": "stream",
     "text": [
      "Step 110\n",
      "Class Loss 0.04189036041498184, Domain Loss 0.08671945333480835\n"
     ],
     "name": "stdout"
    },
    {
     "output_type": "stream",
     "text": [
      "100%|██████████| 19/19 [00:05<00:00,  3.57it/s]\n"
     ],
     "name": "stderr"
    },
    {
     "output_type": "stream",
     "text": [
      "Accuracy on test set: 0.2734375\n",
      "Starting epoch 10/10, LR = [6.25e-05]\n",
      "Step 120\n",
      "Class Loss 0.02663668431341648, Domain Loss 0.02162902243435383\n"
     ],
     "name": "stdout"
    },
    {
     "output_type": "stream",
     "text": [
      "100%|██████████| 19/19 [00:05<00:00,  3.59it/s]\n"
     ],
     "name": "stderr"
    },
    {
     "output_type": "stream",
     "text": [
      "Accuracy on test set: 0.27587890625\n",
      "Starting epoch 1/10, LR = [0.001]\n",
      "Step 0\n",
      "Class Loss 2.220365285873413, Domain Loss 2.02612566947937\n",
      "Step 10\n",
      "Class Loss 0.39068713784217834, Domain Loss 0.006176599767059088\n"
     ],
     "name": "stdout"
    },
    {
     "output_type": "stream",
     "text": [
      "100%|██████████| 31/31 [00:08<00:00,  3.65it/s]\n"
     ],
     "name": "stderr"
    },
    {
     "output_type": "stream",
     "text": [
      "Accuracy on test set: 0.52294921875\n",
      "Starting epoch 2/10, LR = [0.001]\n",
      "Step 20\n",
      "Class Loss 0.21609969437122345, Domain Loss 0.026211407035589218\n"
     ],
     "name": "stdout"
    },
    {
     "output_type": "stream",
     "text": [
      "100%|██████████| 31/31 [00:08<00:00,  3.62it/s]"
     ],
     "name": "stderr"
    },
    {
     "output_type": "stream",
     "text": [
      "Accuracy on test set: 0.4794921875\n",
      "Starting epoch 3/10, LR = [0.001]\n"
     ],
     "name": "stdout"
    },
    {
     "output_type": "stream",
     "text": [
      "\n"
     ],
     "name": "stderr"
    },
    {
     "output_type": "stream",
     "text": [
      "Step 30\n",
      "Class Loss 0.07278048992156982, Domain Loss 3.982335329055786e-06\n"
     ],
     "name": "stdout"
    },
    {
     "output_type": "stream",
     "text": [
      "100%|██████████| 31/31 [00:08<00:00,  3.63it/s]"
     ],
     "name": "stderr"
    },
    {
     "output_type": "stream",
     "text": [
      "Accuracy on test set: 0.4560546875\n",
      "Starting epoch 4/10, LR = [0.00025]\n"
     ],
     "name": "stdout"
    },
    {
     "output_type": "stream",
     "text": [
      "\n"
     ],
     "name": "stderr"
    },
    {
     "output_type": "stream",
     "text": [
      "Step 40\n",
      "Class Loss 0.11385904997587204, Domain Loss 1.0386109352111816e-05\n",
      "Step 50\n",
      "Class Loss 0.07815930247306824, Domain Loss 0.0015367306768894196\n"
     ],
     "name": "stdout"
    },
    {
     "output_type": "stream",
     "text": [
      "100%|██████████| 31/31 [00:08<00:00,  3.62it/s]"
     ],
     "name": "stderr"
    },
    {
     "output_type": "stream",
     "text": [
      "Accuracy on test set: 0.4736328125\n",
      "Starting epoch 5/10, LR = [0.0005]\n"
     ],
     "name": "stdout"
    },
    {
     "output_type": "stream",
     "text": [
      "\n"
     ],
     "name": "stderr"
    },
    {
     "output_type": "stream",
     "text": [
      "Step 60\n",
      "Class Loss 0.031176544725894928, Domain Loss 8.158385753631592e-07\n"
     ],
     "name": "stdout"
    },
    {
     "output_type": "stream",
     "text": [
      "100%|██████████| 31/31 [00:08<00:00,  3.66it/s]"
     ],
     "name": "stderr"
    },
    {
     "output_type": "stream",
     "text": [
      "Accuracy on test set: 0.47216796875\n",
      "Starting epoch 6/10, LR = [0.0005]\n"
     ],
     "name": "stdout"
    },
    {
     "output_type": "stream",
     "text": [
      "\n"
     ],
     "name": "stderr"
    },
    {
     "output_type": "stream",
     "text": [
      "Step 70\n",
      "Class Loss 0.042461566627025604, Domain Loss 3.2689422369003296e-06\n"
     ],
     "name": "stdout"
    },
    {
     "output_type": "stream",
     "text": [
      "100%|██████████| 31/31 [00:08<00:00,  3.64it/s]"
     ],
     "name": "stderr"
    },
    {
     "output_type": "stream",
     "text": [
      "Accuracy on test set: 0.45849609375\n",
      "Starting epoch 7/10, LR = [0.000125]\n"
     ],
     "name": "stdout"
    },
    {
     "output_type": "stream",
     "text": [
      "\n"
     ],
     "name": "stderr"
    },
    {
     "output_type": "stream",
     "text": [
      "Step 80\n",
      "Class Loss 0.09158188104629517, Domain Loss 5.736947059631348e-07\n",
      "Step 90\n",
      "Class Loss 0.07665829360485077, Domain Loss 0.025642970576882362\n"
     ],
     "name": "stdout"
    },
    {
     "output_type": "stream",
     "text": [
      "100%|██████████| 31/31 [00:08<00:00,  3.64it/s]"
     ],
     "name": "stderr"
    },
    {
     "output_type": "stream",
     "text": [
      "Accuracy on test set: 0.45947265625\n",
      "Starting epoch 8/10, LR = [0.00025]\n"
     ],
     "name": "stdout"
    },
    {
     "output_type": "stream",
     "text": [
      "\n"
     ],
     "name": "stderr"
    },
    {
     "output_type": "stream",
     "text": [
      "Step 100\n",
      "Class Loss 0.018184076994657516, Domain Loss 1.9371509552001953e-07\n"
     ],
     "name": "stdout"
    },
    {
     "output_type": "stream",
     "text": [
      "100%|██████████| 31/31 [00:08<00:00,  3.69it/s]"
     ],
     "name": "stderr"
    },
    {
     "output_type": "stream",
     "text": [
      "Accuracy on test set: 0.47265625\n",
      "Starting epoch 9/10, LR = [0.00025]\n"
     ],
     "name": "stdout"
    },
    {
     "output_type": "stream",
     "text": [
      "\n"
     ],
     "name": "stderr"
    },
    {
     "output_type": "stream",
     "text": [
      "Step 110\n",
      "Class Loss 0.0557582788169384, Domain Loss 0.0006423918530344963\n"
     ],
     "name": "stdout"
    },
    {
     "output_type": "stream",
     "text": [
      "100%|██████████| 31/31 [00:08<00:00,  3.63it/s]"
     ],
     "name": "stderr"
    },
    {
     "output_type": "stream",
     "text": [
      "Accuracy on test set: 0.47119140625\n",
      "Starting epoch 10/10, LR = [6.25e-05]\n"
     ],
     "name": "stdout"
    },
    {
     "output_type": "stream",
     "text": [
      "\n"
     ],
     "name": "stderr"
    },
    {
     "output_type": "stream",
     "text": [
      "Step 120\n",
      "Class Loss 0.025974009186029434, Domain Loss 9.033828973770142e-06\n"
     ],
     "name": "stdout"
    },
    {
     "output_type": "stream",
     "text": [
      "100%|██████████| 31/31 [00:08<00:00,  3.66it/s]\n"
     ],
     "name": "stderr"
    },
    {
     "output_type": "stream",
     "text": [
      "Accuracy on test set: 0.470703125\n",
      "Starting epoch 1/10, LR = [0.001]\n",
      "Step 0\n",
      "Class Loss 2.3024723529815674, Domain Loss 1.7101571559906006\n",
      "Step 10\n",
      "Class Loss 0.38210800290107727, Domain Loss 0.08880491554737091\n"
     ],
     "name": "stdout"
    },
    {
     "output_type": "stream",
     "text": [
      "100%|██████████| 19/19 [00:05<00:00,  3.55it/s]\n"
     ],
     "name": "stderr"
    },
    {
     "output_type": "stream",
     "text": [
      "Accuracy on test set: 0.29833984375\n",
      "Starting epoch 2/10, LR = [0.001]\n",
      "Step 20\n",
      "Class Loss 0.21923556923866272, Domain Loss 0.4385102093219757\n"
     ],
     "name": "stdout"
    },
    {
     "output_type": "stream",
     "text": [
      "100%|██████████| 19/19 [00:05<00:00,  3.68it/s]\n"
     ],
     "name": "stderr"
    },
    {
     "output_type": "stream",
     "text": [
      "Accuracy on test set: 0.60107421875\n",
      "Starting epoch 3/10, LR = [0.001]\n",
      "Step 30\n",
      "Class Loss 0.25138017535209656, Domain Loss 0.44956278800964355\n"
     ],
     "name": "stdout"
    },
    {
     "output_type": "stream",
     "text": [
      "100%|██████████| 19/19 [00:05<00:00,  3.70it/s]"
     ],
     "name": "stderr"
    },
    {
     "output_type": "stream",
     "text": [
      "Accuracy on test set: 0.486328125\n",
      "Starting epoch 4/10, LR = [0.00025]\n"
     ],
     "name": "stdout"
    },
    {
     "output_type": "stream",
     "text": [
      "\n"
     ],
     "name": "stderr"
    },
    {
     "output_type": "stream",
     "text": [
      "Step 40\n",
      "Class Loss 0.46546751260757446, Domain Loss 0.7058432102203369\n",
      "Step 50\n",
      "Class Loss 0.3468528687953949, Domain Loss 0.8200312852859497\n"
     ],
     "name": "stdout"
    },
    {
     "output_type": "stream",
     "text": [
      "100%|██████████| 19/19 [00:05<00:00,  3.66it/s]"
     ],
     "name": "stderr"
    },
    {
     "output_type": "stream",
     "text": [
      "Accuracy on test set: 0.34326171875\n",
      "Starting epoch 5/10, LR = [0.0005]\n"
     ],
     "name": "stdout"
    },
    {
     "output_type": "stream",
     "text": [
      "\n"
     ],
     "name": "stderr"
    },
    {
     "output_type": "stream",
     "text": [
      "Step 60\n",
      "Class Loss 0.22823728621006012, Domain Loss 1.3575406074523926\n"
     ],
     "name": "stdout"
    },
    {
     "output_type": "stream",
     "text": [
      "100%|██████████| 19/19 [00:05<00:00,  3.62it/s]"
     ],
     "name": "stderr"
    },
    {
     "output_type": "stream",
     "text": [
      "Accuracy on test set: 0.43701171875\n",
      "Starting epoch 6/10, LR = [0.0005]\n"
     ],
     "name": "stdout"
    },
    {
     "output_type": "stream",
     "text": [
      "\n"
     ],
     "name": "stderr"
    },
    {
     "output_type": "stream",
     "text": [
      "Step 70\n",
      "Class Loss 0.18680673837661743, Domain Loss 0.6514694690704346\n"
     ],
     "name": "stdout"
    },
    {
     "output_type": "stream",
     "text": [
      "100%|██████████| 19/19 [00:05<00:00,  3.60it/s]"
     ],
     "name": "stderr"
    },
    {
     "output_type": "stream",
     "text": [
      "Accuracy on test set: 0.45556640625\n",
      "Starting epoch 7/10, LR = [0.000125]\n"
     ],
     "name": "stdout"
    },
    {
     "output_type": "stream",
     "text": [
      "\n"
     ],
     "name": "stderr"
    },
    {
     "output_type": "stream",
     "text": [
      "Step 80\n",
      "Class Loss 0.4761510491371155, Domain Loss 1.2710654735565186\n",
      "Step 90\n",
      "Class Loss 0.3550388813018799, Domain Loss 1.2895386219024658\n"
     ],
     "name": "stdout"
    },
    {
     "output_type": "stream",
     "text": [
      "100%|██████████| 19/19 [00:05<00:00,  3.57it/s]"
     ],
     "name": "stderr"
    },
    {
     "output_type": "stream",
     "text": [
      "Accuracy on test set: 0.55126953125\n",
      "Starting epoch 8/10, LR = [0.00025]\n"
     ],
     "name": "stdout"
    },
    {
     "output_type": "stream",
     "text": [
      "\n"
     ],
     "name": "stderr"
    },
    {
     "output_type": "stream",
     "text": [
      "Step 100\n",
      "Class Loss 0.506088137626648, Domain Loss 1.4587570428848267\n"
     ],
     "name": "stdout"
    },
    {
     "output_type": "stream",
     "text": [
      "100%|██████████| 19/19 [00:05<00:00,  3.61it/s]\n"
     ],
     "name": "stderr"
    },
    {
     "output_type": "stream",
     "text": [
      "Accuracy on test set: 0.6083984375\n",
      "Starting epoch 9/10, LR = [0.00025]\n",
      "Step 110\n",
      "Class Loss 0.3126871585845947, Domain Loss 0.838166356086731\n"
     ],
     "name": "stdout"
    },
    {
     "output_type": "stream",
     "text": [
      "100%|██████████| 19/19 [00:05<00:00,  3.57it/s]"
     ],
     "name": "stderr"
    },
    {
     "output_type": "stream",
     "text": [
      "Accuracy on test set: 0.583984375\n",
      "Starting epoch 10/10, LR = [6.25e-05]\n"
     ],
     "name": "stdout"
    },
    {
     "output_type": "stream",
     "text": [
      "\n"
     ],
     "name": "stderr"
    },
    {
     "output_type": "stream",
     "text": [
      "Step 120\n",
      "Class Loss 0.31853073835372925, Domain Loss 0.9917470216751099\n"
     ],
     "name": "stdout"
    },
    {
     "output_type": "stream",
     "text": [
      "100%|██████████| 19/19 [00:05<00:00,  3.63it/s]\n"
     ],
     "name": "stderr"
    },
    {
     "output_type": "stream",
     "text": [
      "Accuracy on test set: 0.59326171875\n",
      "Starting epoch 1/10, LR = [0.001]\n",
      "Step 0\n",
      "Class Loss 2.0192155838012695, Domain Loss 2.012338876724243\n",
      "Step 10\n",
      "Class Loss 0.3210398852825165, Domain Loss 0.0006220806390047073\n"
     ],
     "name": "stdout"
    },
    {
     "output_type": "stream",
     "text": [
      "100%|██████████| 31/31 [00:08<00:00,  3.48it/s]\n"
     ],
     "name": "stderr"
    },
    {
     "output_type": "stream",
     "text": [
      "Accuracy on test set: 0.37353515625\n",
      "Starting epoch 2/10, LR = [0.001]\n",
      "Step 20\n",
      "Class Loss 0.16396886110305786, Domain Loss 0.00862759631127119\n"
     ],
     "name": "stdout"
    },
    {
     "output_type": "stream",
     "text": [
      "100%|██████████| 31/31 [00:08<00:00,  3.50it/s]"
     ],
     "name": "stderr"
    },
    {
     "output_type": "stream",
     "text": [
      "Accuracy on test set: 0.3125\n",
      "Starting epoch 3/10, LR = [0.001]\n"
     ],
     "name": "stdout"
    },
    {
     "output_type": "stream",
     "text": [
      "\n"
     ],
     "name": "stderr"
    },
    {
     "output_type": "stream",
     "text": [
      "Step 30\n",
      "Class Loss 0.044233229011297226, Domain Loss 9.397417306900024e-05\n"
     ],
     "name": "stdout"
    },
    {
     "output_type": "stream",
     "text": [
      "100%|██████████| 31/31 [00:08<00:00,  3.49it/s]\n"
     ],
     "name": "stderr"
    },
    {
     "output_type": "stream",
     "text": [
      "Accuracy on test set: 0.376953125\n",
      "Starting epoch 4/10, LR = [0.00025]\n",
      "Step 40\n",
      "Class Loss 0.10051575303077698, Domain Loss 0.07961280643939972\n",
      "Step 50\n",
      "Class Loss 0.0652465894818306, Domain Loss 2.6244670152664185e-06\n"
     ],
     "name": "stdout"
    },
    {
     "output_type": "stream",
     "text": [
      "100%|██████████| 31/31 [00:08<00:00,  3.60it/s]\n"
     ],
     "name": "stderr"
    },
    {
     "output_type": "stream",
     "text": [
      "Accuracy on test set: 0.39404296875\n",
      "Starting epoch 5/10, LR = [0.0005]\n",
      "Step 60\n",
      "Class Loss 0.04985121637582779, Domain Loss 2.4314969778060913e-05\n"
     ],
     "name": "stdout"
    },
    {
     "output_type": "stream",
     "text": [
      "100%|██████████| 31/31 [00:08<00:00,  3.48it/s]\n"
     ],
     "name": "stderr"
    },
    {
     "output_type": "stream",
     "text": [
      "Accuracy on test set: 0.43359375\n",
      "Starting epoch 6/10, LR = [0.0005]\n",
      "Step 70\n",
      "Class Loss 0.0552375465631485, Domain Loss 1.2777745723724365e-06\n"
     ],
     "name": "stdout"
    },
    {
     "output_type": "stream",
     "text": [
      "100%|██████████| 31/31 [00:08<00:00,  3.50it/s]\n"
     ],
     "name": "stderr"
    },
    {
     "output_type": "stream",
     "text": [
      "Accuracy on test set: 0.49072265625\n",
      "Starting epoch 7/10, LR = [0.000125]\n",
      "Step 80\n",
      "Class Loss 0.06913702189922333, Domain Loss 3.767292946577072e-05\n",
      "Step 90\n",
      "Class Loss 0.03561701998114586, Domain Loss 6.906688213348389e-06\n"
     ],
     "name": "stdout"
    },
    {
     "output_type": "stream",
     "text": [
      "100%|██████████| 31/31 [00:08<00:00,  3.67it/s]"
     ],
     "name": "stderr"
    },
    {
     "output_type": "stream",
     "text": [
      "Accuracy on test set: 0.48291015625\n",
      "Starting epoch 8/10, LR = [0.00025]\n"
     ],
     "name": "stdout"
    },
    {
     "output_type": "stream",
     "text": [
      "\n"
     ],
     "name": "stderr"
    },
    {
     "output_type": "stream",
     "text": [
      "Step 100\n",
      "Class Loss 0.05848453566431999, Domain Loss 1.434236764907837e-06\n"
     ],
     "name": "stdout"
    },
    {
     "output_type": "stream",
     "text": [
      "100%|██████████| 31/31 [00:08<00:00,  3.65it/s]"
     ],
     "name": "stderr"
    },
    {
     "output_type": "stream",
     "text": [
      "Accuracy on test set: 0.482421875\n",
      "Starting epoch 9/10, LR = [0.00025]\n"
     ],
     "name": "stdout"
    },
    {
     "output_type": "stream",
     "text": [
      "\n"
     ],
     "name": "stderr"
    },
    {
     "output_type": "stream",
     "text": [
      "Step 110\n",
      "Class Loss 0.04328165575861931, Domain Loss 1.1548399925231934e-07\n"
     ],
     "name": "stdout"
    },
    {
     "output_type": "stream",
     "text": [
      "100%|██████████| 31/31 [00:08<00:00,  3.67it/s]\n"
     ],
     "name": "stderr"
    },
    {
     "output_type": "stream",
     "text": [
      "Accuracy on test set: 0.50390625\n",
      "Starting epoch 10/10, LR = [6.25e-05]\n",
      "Step 120\n",
      "Class Loss 0.03218480572104454, Domain Loss 1.4901161193847656e-08\n"
     ],
     "name": "stdout"
    },
    {
     "output_type": "stream",
     "text": [
      "100%|██████████| 31/31 [00:08<00:00,  3.71it/s]\n"
     ],
     "name": "stderr"
    },
    {
     "output_type": "stream",
     "text": [
      "Accuracy on test set: 0.51220703125\n",
      "Best configuration is:\n",
      "{'alpha': 0.5, 'batch_size': 128, 'epochs': 10, 'gamma': 0.5, 'lr': 0.001, 'step_size': 3}\n",
      "Highest mean accuracy: 0.560302734375\n"
     ],
     "name": "stdout"
    }
   ]
  },
  {
   "cell_type": "code",
   "metadata": {
    "id": "0bibb5WjFqaX",
    "colab_type": "code",
    "outputId": "38d127a0-b39c-499a-cc02-a009487a8837",
    "colab": {
     "base_uri": "https://localhost:8080/",
     "height": 1000
    }
   },
   "source": [
    "params = best_conf['params']\n",
    "\n",
    "source_dataloader, _ = get_data_loaders(source_data, params['batch_size'])\n",
    "target_dataloader, test_dataloader = get_data_loaders(target_data, params['batch_size'])\n",
    "\n",
    "dann = getNet(pretrained=True)\n",
    "class_criterion, domain_criterion, optimizer, scheduler = init_cnn_objects(dann, lr=params['lr'], step_size=params['step_size'],\n",
    "                                                                           gamma=params['gamma'])\n",
    "class_losses_y, domain_losses_d, accuracies_dann = dann_train_test(dann, source_dataloader, target_dataloader,\n",
    "                          test_dataloader, class_criterion, domain_criterion, optimizer, scheduler, max_epoch=params['epochs'], alpha=params['alpha'])\n",
    "\n",
    "print(f\"Photo transfer to Art accuracy DANN: {max(accuracies_dann)}\")\n",
    "saveResults(params, best_conf['best_acc'], accuracies_dann, class_losses_y, domain_losses=domain_losses_d,\n",
    "            dann=True, append=True)"
   ],
   "execution_count": 14,
   "outputs": [
    {
     "output_type": "stream",
     "text": [
      "Starting epoch 1/10, LR = [0.001]\n"
     ],
     "name": "stdout"
    },
    {
     "output_type": "stream",
     "text": [
      "/usr/local/lib/python3.6/dist-packages/torch/optim/lr_scheduler.py:351: UserWarning: To get the last learning rate computed by the scheduler, please use `get_last_lr()`.\n",
      "  \"please use `get_last_lr()`.\", UserWarning)\n"
     ],
     "name": "stderr"
    },
    {
     "output_type": "stream",
     "text": [
      "Step 0\n",
      "Class Loss 2.417552947998047, Domain Loss 1.4498441219329834\n",
      "Step 10\n",
      "Class Loss 0.37697210907936096, Domain Loss 0.4205854833126068\n"
     ],
     "name": "stdout"
    },
    {
     "output_type": "stream",
     "text": [
      "100%|██████████| 16/16 [00:04<00:00,  3.31it/s]\n"
     ],
     "name": "stderr"
    },
    {
     "output_type": "stream",
     "text": [
      "Accuracy on test set: 0.400390625\n",
      "Starting epoch 2/10, LR = [0.001]\n",
      "Step 20\n",
      "Class Loss 0.173111230134964, Domain Loss 0.31948065757751465\n"
     ],
     "name": "stdout"
    },
    {
     "output_type": "stream",
     "text": [
      "100%|██████████| 16/16 [00:04<00:00,  3.40it/s]\n"
     ],
     "name": "stderr"
    },
    {
     "output_type": "stream",
     "text": [
      "Accuracy on test set: 0.44775390625\n",
      "Starting epoch 3/10, LR = [0.001]\n",
      "Step 30\n",
      "Class Loss 0.1977674663066864, Domain Loss 0.5649216175079346\n"
     ],
     "name": "stdout"
    },
    {
     "output_type": "stream",
     "text": [
      "100%|██████████| 16/16 [00:04<00:00,  3.45it/s]"
     ],
     "name": "stderr"
    },
    {
     "output_type": "stream",
     "text": [
      "Accuracy on test set: 0.4091796875\n",
      "Starting epoch 4/10, LR = [0.00025]\n"
     ],
     "name": "stdout"
    },
    {
     "output_type": "stream",
     "text": [
      "\n"
     ],
     "name": "stderr"
    },
    {
     "output_type": "stream",
     "text": [
      "Step 40\n",
      "Class Loss 0.16792628169059753, Domain Loss 0.46898871660232544\n",
      "Step 50\n",
      "Class Loss 0.07107003778219223, Domain Loss 0.3165317177772522\n"
     ],
     "name": "stdout"
    },
    {
     "output_type": "stream",
     "text": [
      "100%|██████████| 16/16 [00:04<00:00,  3.45it/s]\n"
     ],
     "name": "stderr"
    },
    {
     "output_type": "stream",
     "text": [
      "Accuracy on test set: 0.45654296875\n",
      "Starting epoch 5/10, LR = [0.0005]\n",
      "Step 60\n",
      "Class Loss 0.0641675591468811, Domain Loss 0.3099757730960846\n"
     ],
     "name": "stdout"
    },
    {
     "output_type": "stream",
     "text": [
      "100%|██████████| 16/16 [00:04<00:00,  3.41it/s]"
     ],
     "name": "stderr"
    },
    {
     "output_type": "stream",
     "text": [
      "Accuracy on test set: 0.4130859375\n",
      "Starting epoch 6/10, LR = [0.0005]\n"
     ],
     "name": "stdout"
    },
    {
     "output_type": "stream",
     "text": [
      "\n"
     ],
     "name": "stderr"
    },
    {
     "output_type": "stream",
     "text": [
      "Step 70\n",
      "Class Loss 0.08471240103244781, Domain Loss 0.3290531039237976\n"
     ],
     "name": "stdout"
    },
    {
     "output_type": "stream",
     "text": [
      "100%|██████████| 16/16 [00:04<00:00,  3.47it/s]"
     ],
     "name": "stderr"
    },
    {
     "output_type": "stream",
     "text": [
      "Accuracy on test set: 0.4423828125\n",
      "Starting epoch 7/10, LR = [0.000125]\n"
     ],
     "name": "stdout"
    },
    {
     "output_type": "stream",
     "text": [
      "\n"
     ],
     "name": "stderr"
    },
    {
     "output_type": "stream",
     "text": [
      "Step 80\n",
      "Class Loss 0.07525038719177246, Domain Loss 0.24913141131401062\n",
      "Step 90\n",
      "Class Loss 0.09419786930084229, Domain Loss 0.3045191168785095\n"
     ],
     "name": "stdout"
    },
    {
     "output_type": "stream",
     "text": [
      "100%|██████████| 16/16 [00:04<00:00,  3.45it/s]"
     ],
     "name": "stderr"
    },
    {
     "output_type": "stream",
     "text": [
      "Accuracy on test set: 0.45166015625\n",
      "Starting epoch 8/10, LR = [0.00025]\n"
     ],
     "name": "stdout"
    },
    {
     "output_type": "stream",
     "text": [
      "\n"
     ],
     "name": "stderr"
    },
    {
     "output_type": "stream",
     "text": [
      "Step 100\n",
      "Class Loss 0.10509558022022247, Domain Loss 0.32803818583488464\n"
     ],
     "name": "stdout"
    },
    {
     "output_type": "stream",
     "text": [
      "100%|██████████| 16/16 [00:04<00:00,  3.42it/s]"
     ],
     "name": "stderr"
    },
    {
     "output_type": "stream",
     "text": [
      "Accuracy on test set: 0.44921875\n",
      "Starting epoch 9/10, LR = [0.00025]\n"
     ],
     "name": "stdout"
    },
    {
     "output_type": "stream",
     "text": [
      "\n"
     ],
     "name": "stderr"
    },
    {
     "output_type": "stream",
     "text": [
      "Step 110\n",
      "Class Loss 0.05544749274849892, Domain Loss 0.36125099658966064\n"
     ],
     "name": "stdout"
    },
    {
     "output_type": "stream",
     "text": [
      "100%|██████████| 16/16 [00:04<00:00,  3.44it/s]"
     ],
     "name": "stderr"
    },
    {
     "output_type": "stream",
     "text": [
      "Accuracy on test set: 0.4482421875\n",
      "Starting epoch 10/10, LR = [6.25e-05]\n"
     ],
     "name": "stdout"
    },
    {
     "output_type": "stream",
     "text": [
      "\n"
     ],
     "name": "stderr"
    },
    {
     "output_type": "stream",
     "text": [
      "Step 120\n",
      "Class Loss 0.07040602713823318, Domain Loss 0.3593199849128723\n"
     ],
     "name": "stdout"
    },
    {
     "output_type": "stream",
     "text": [
      "100%|██████████| 16/16 [00:04<00:00,  3.38it/s]"
     ],
     "name": "stderr"
    },
    {
     "output_type": "stream",
     "text": [
      "Accuracy on test set: 0.44580078125\n",
      "Photo transfer to Art accuracy DANN: 0.45654296875\n",
      "********* FILE SAVED *********\n"
     ],
     "name": "stdout"
    },
    {
     "output_type": "stream",
     "text": [
      "\n"
     ],
     "name": "stderr"
    }
   ]
  },
  {
   "cell_type": "code",
   "metadata": {
    "id": "tEEyMgEZGhr1",
    "colab_type": "code",
    "colab": {}
   },
   "source": [
    ""
   ],
   "execution_count": 0,
   "outputs": []
  }
 ]
}