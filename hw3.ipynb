{
  "nbformat": 4,
  "nbformat_minor": 0,
  "metadata": {
    "kernelspec": {
      "display_name": "Python 3",
      "language": "python",
      "name": "python3"
    },
    "language_info": {
      "codemirror_mode": {
        "name": "ipython",
        "version": 2
      },
      "file_extension": ".py",
      "mimetype": "text/x-python",
      "name": "python",
      "nbconvert_exporter": "python",
      "pygments_lexer": "ipython2",
      "version": "2.7.6"
    },
    "pycharm": {
      "stem_cell": {
        "cell_type": "raw",
        "source": [],
        "metadata": {
          "collapsed": false
        }
      }
    },
    "colab": {
      "name": "hw3-Domain Adaptation.ipynb",
      "provenance": []
    },
    "accelerator": "GPU"
  },
  "cells": [
    {
      "cell_type": "markdown",
      "metadata": {
        "collapsed": false,
        "pycharm": {
          "name": "#%% md\n"
        },
        "id": "NFy8f2ZOb83q",
        "colab_type": "text"
      },
      "source": [
        "**Install Requirements**"
      ]
    },
    {
      "cell_type": "code",
      "metadata": {
        "id": "2_6xQu_Fp1S1",
        "colab_type": "code",
        "outputId": "afad1b63-e93f-4c81-e16c-772bbec6ce23",
        "colab": {
          "base_uri": "https://localhost:8080/",
          "height": 34
        }
      },
      "source": [
        "\"\"\"!pip3 install 'torch==1.4.0'\n",
        "!pip3 install 'torchvision==0.5.0'\n",
        "!pip3 install 'Pillow-SIMD'\n",
        "!pip3 install 'tqdm'\"\"\""
      ],
      "execution_count": 12,
      "outputs": [
        {
          "output_type": "execute_result",
          "data": {
            "text/plain": [
              "\"!pip3 install 'torch==1.4.0'\\n!pip3 install 'torchvision==0.5.0'\\n!pip3 install 'Pillow-SIMD'\\n!pip3 install 'tqdm'\""
            ]
          },
          "metadata": {
            "tags": []
          },
          "execution_count": 12
        }
      ]
    },
    {
      "cell_type": "code",
      "metadata": {
        "pycharm": {
          "name": "#%%\n",
          "is_executing": false
        },
        "id": "7byL80PWb83r",
        "colab_type": "code",
        "colab": {}
      },
      "source": [
        "import os\n",
        "if not os.path.isdir('./Pacs'):\n",
        "  !git clone https://github.com/lore-lml/machine-learning2020-hw3.git\n",
        "  !mv 'machine-learning2020-hw3' 'Pacs'\n",
        "  !rm './Pacs/hw3.ipynb'\n",
        "  !rm './Pacs/README.md'\n",
        "\n",
        "import logging\n",
        "\n",
        "import torch\n",
        "import torch.nn as nn\n",
        "import torch.optim as optim\n",
        "from torch.utils.data import Subset, DataLoader\n",
        "from torch.backends import cudnn\n",
        "\n",
        "import torchvision\n",
        "from torchvision import transforms\n",
        "from Pacs.pacs_dataset import Pacs\n",
        "from Pacs.dann import alexdann\n",
        "from Pacs.dann import train_src, test_target, dann_train_src_target\n",
        "\n",
        "from PIL import Image\n",
        "from tqdm import tqdm\n",
        "\n",
        "import matplotlib.pyplot as plt\n",
        "%matplotlib inline"
      ],
      "execution_count": 0,
      "outputs": []
    },
    {
      "cell_type": "markdown",
      "metadata": {
        "collapsed": false,
        "pycharm": {
          "name": "#%% md\n"
        },
        "id": "9Fmn_TeAb83t",
        "colab_type": "text"
      },
      "source": [
        "**Set Arguments**"
      ]
    },
    {
      "cell_type": "code",
      "metadata": {
        "pycharm": {
          "name": "#%%\n",
          "is_executing": false
        },
        "id": "BKmhLZ0xb83t",
        "colab_type": "code",
        "colab": {}
      },
      "source": [
        "DEVICE = 'cuda' if torch.cuda.is_available() else 'cpu'\n",
        "\n",
        "NUM_CLASSES = 7\n",
        "\n",
        "BATCH_SIZE = 128     # Higher batch sizes allows for larger learning rates. An empirical heuristic suggests that, when changing\n",
        "                     # the batch size, learning rate should change by the same factor to have comparable results\n",
        "\n",
        "LR = 1e-3        # The initial Learning Rate\n",
        "MOMENTUM = 0.9       # Hyperparameter for SGD, keep this at 0.9 when using SGD\n",
        "WEIGHT_DECAY = 5e-5  # Regularization, you can keep this at the default\n",
        "\n",
        "NUM_EPOCHS = 10      # Total number of training epochs (iterations over dataset)\n",
        "STEP_SIZE = 3       # How many epochs before decreasing learning rate (if using a step-down policy)\n",
        "GAMMA = 0.5          # Multiplicative factor for learning rate step-down\n",
        "\n",
        "ALPHA = 'dynamic'\n",
        "BASE_FILE_PATH = \"RUN_4_LR1e-3_DynAlpha_SGD_SS2_GAMMA03\""
      ],
      "execution_count": 0,
      "outputs": []
    },
    {
      "cell_type": "markdown",
      "metadata": {
        "collapsed": false,
        "pycharm": {
          "name": "#%% md\n"
        },
        "id": "6sa6Y8Pzb83v",
        "colab_type": "text"
      },
      "source": [
        "**Define Data Preprocessing**"
      ]
    },
    {
      "cell_type": "code",
      "metadata": {
        "pycharm": {
          "name": "#%%\n",
          "is_executing": false
        },
        "id": "A5W7Cni-b83w",
        "colab_type": "code",
        "colab": {}
      },
      "source": [
        "transforms = transforms.Compose([transforms.Resize(256),      # Resizes short size of the PIL image to 256\n",
        "                                      transforms.CenterCrop(224),  # Crops a central square patch of the image\n",
        "                                                                   # 224 because torchvision's AlexNet needs a 224x224 input!\n",
        "                                                                   # Remember this when applying different transformations, otherwise you get an error\n",
        "                                      transforms.ToTensor(), # Turn PIL Image to torch.Tensor\n",
        "                                      transforms.Normalize((0.485, 0.456, 0.406), (0.229, 0.224, 0.225)) # Normalizes tensor with mean and standard deviation\n",
        "])"
      ],
      "execution_count": 0,
      "outputs": []
    },
    {
      "cell_type": "markdown",
      "metadata": {
        "collapsed": false,
        "pycharm": {
          "name": "#%% md\n"
        },
        "id": "P6EG9H2ob83y",
        "colab_type": "text"
      },
      "source": [
        "**Prepare Dataset**"
      ]
    },
    {
      "cell_type": "code",
      "metadata": {
        "pycharm": {
          "name": "#%%\n",
          "is_executing": false
        },
        "id": "D39D-n0Qb83y",
        "colab_type": "code",
        "outputId": "ea79c00c-f109-4a3e-e677-ba4fb5f913c8",
        "colab": {
          "base_uri": "https://localhost:8080/",
          "height": 85
        }
      },
      "source": [
        "ROOT = 'Pacs/PACS'\n",
        "\n",
        "source_data = Pacs(ROOT, transform=transforms, source='photo')\n",
        "target_data = Pacs(ROOT, transform=transforms, source='art_painting')\n",
        "\n",
        "_, source_labels = source_data.get_img_with_labels()\n",
        "_, target_labels = target_data.get_img_with_labels()\n",
        "\n",
        "print(f\"# classes source_data: {len(set(source_labels))}\")\n",
        "print(f\"# classes val_set: {len(set(target_labels))}\")\n",
        "print(f\"source_data: {len(source_data)} elements\")\n",
        "print(f\"target_data: {len(target_data)} elements\")"
      ],
      "execution_count": 16,
      "outputs": [
        {
          "output_type": "stream",
          "text": [
            "# classes source_data: 7\n",
            "# classes val_set: 7\n",
            "source_data: 1670 elements\n",
            "target_data: 2048 elements\n"
          ],
          "name": "stdout"
        }
      ]
    },
    {
      "cell_type": "markdown",
      "metadata": {
        "collapsed": false,
        "pycharm": {
          "name": "#%% md\n"
        },
        "id": "BK7TcuLPb830",
        "colab_type": "text"
      },
      "source": [
        "**Prepare Dataloaders**"
      ]
    },
    {
      "cell_type": "code",
      "metadata": {
        "pycharm": {
          "name": "#%%\n",
          "is_executing": false
        },
        "id": "ou9I6xRrb831",
        "colab_type": "code",
        "colab": {}
      },
      "source": [
        "source_dataloader = DataLoader(source_data, batch_size=BATCH_SIZE, shuffle=True, num_workers=4, drop_last=True)\n",
        "target_dataloader = DataLoader(target_data, batch_size=BATCH_SIZE, shuffle=True, num_workers=4, drop_last=True)\n",
        "test_dataloader = DataLoader(target_data, batch_size=BATCH_SIZE, shuffle=False, num_workers=4, drop_last=False)"
      ],
      "execution_count": 0,
      "outputs": []
    },
    {
      "cell_type": "markdown",
      "metadata": {
        "collapsed": false,
        "pycharm": {
          "name": "#%% md\n"
        },
        "id": "9-Olxfg0b833",
        "colab_type": "text"
      },
      "source": [
        "**Prepare Network**"
      ]
    },
    {
      "cell_type": "code",
      "metadata": {
        "pycharm": {
          "name": "#%%\n",
          "is_executing": false
        },
        "id": "GJ3NssxCb833",
        "colab_type": "code",
        "outputId": "6a0d1081-9582-44de-cb81-aadb601982b9",
        "colab": {
          "base_uri": "https://localhost:8080/",
          "height": 34
        }
      },
      "source": [
        "def init_cnn_objects(model):\n",
        "  \n",
        "  # Define loss function\n",
        "  criterion_1 = nn.CrossEntropyLoss() # for classification, we use Cross Entropy\n",
        "  criterion_2 = nn.CrossEntropyLoss()\n",
        "  parameters_to_optimize = model.parameters() # In this case we optimize over all the parameters of AlexNet\n",
        "  \n",
        "  optimizer = optim.SGD(parameters_to_optimize, lr=LR, momentum=MOMENTUM, weight_decay=WEIGHT_DECAY)\n",
        "  #optimizer = optim.Adam(parameters_to_optimize, lr=LR,amsgrad=True)\n",
        "  #optimizer = optim.AdamW(parameters_to_optimize, lr=LR,amsgrad=True, weight_decay=WEIGHT_DECAY)\n",
        "  scheduler = optim.lr_scheduler.StepLR(optimizer, step_size=STEP_SIZE, gamma=GAMMA)\n",
        "\n",
        "  return criterion_1, criterion_2, optimizer, scheduler\n",
        "\n",
        "dann = alexdann(pretrained=True)\n",
        "criterion, _, optimizer, scheduler = init_cnn_objects(dann)\n",
        "print(\"******* NET CREATED *******\")"
      ],
      "execution_count": 18,
      "outputs": [
        {
          "output_type": "stream",
          "text": [
            "******* NET CREATED *******\n"
          ],
          "name": "stdout"
        }
      ]
    },
    {
      "cell_type": "markdown",
      "metadata": {
        "collapsed": false,
        "pycharm": {
          "name": "#%% md\n"
        },
        "id": "s0JrvlXOb835",
        "colab_type": "text"
      },
      "source": [
        "**Training**"
      ]
    },
    {
      "cell_type": "code",
      "metadata": {
        "pycharm": {
          "name": "#%%\n"
        },
        "id": "VnMriGBgb836",
        "colab_type": "code",
        "colab": {}
      },
      "source": [
        "def simple_train_test(model, source_dataloader, test_dataloader, file_path=BASE_FILE_PATH):\n",
        "    train_losses = []\n",
        "    loss_min = -1\n",
        "    \n",
        "    model = model.to(DEVICE)\n",
        "    cudnn.benchmark\n",
        "    \n",
        "    current_step = 0\n",
        "    for epoch in range(NUM_EPOCHS):\n",
        "        print('Starting epoch {}/{}, LR = {}'.format(epoch+1, NUM_EPOCHS, scheduler.get_lr()))\n",
        "        cumulative_loss, current_step = train_src(model, source_dataloader, optimizer, criterion, current_step, DEVICE)\n",
        "        curr_loss = cumulative_loss / len(source_dataloader)\n",
        "        train_losses.append(curr_loss)\n",
        "        if loss_min == -1 or loss_min > curr_loss:\n",
        "            loss_min = curr_loss\n",
        "            torch.save(model, f\"{file_path}_best_model.pth\")\n",
        "        scheduler.step()\n",
        "        \n",
        "    model = torch.load(f\"{file_path}_best_model.pth\").to(DEVICE)\n",
        "    accuracy = test_target(model, test_dataloader, criterion, DEVICE) / float(len(target_data))\n",
        "    print(f\"Accuracy on test set: {accuracy}%\")\n",
        "    return train_losses"
      ],
      "execution_count": 0,
      "outputs": []
    },
    {
      "cell_type": "code",
      "metadata": {
        "id": "dpmSLmS5eglj",
        "colab_type": "code",
        "outputId": "eaf3ef8c-9254-4301-edb4-d82eecd92a1a",
        "colab": {
          "base_uri": "https://localhost:8080/",
          "height": 496
        }
      },
      "source": [
        "train_losses = simple_train_test(dann, source_dataloader, test_dataloader)"
      ],
      "execution_count": 20,
      "outputs": [
        {
          "output_type": "stream",
          "text": [
            "Starting epoch 1/10, LR = [0.001]\n"
          ],
          "name": "stdout"
        },
        {
          "output_type": "stream",
          "text": [
            "/usr/local/lib/python3.6/dist-packages/torch/optim/lr_scheduler.py:351: UserWarning: To get the last learning rate computed by the scheduler, please use `get_last_lr()`.\n",
            "  \"please use `get_last_lr()`.\", UserWarning)\n"
          ],
          "name": "stderr"
        },
        {
          "output_type": "stream",
          "text": [
            "Step 0, Loss_train 1.980535626411438\n",
            "Step 10, Loss_train 0.3002309501171112\n",
            "Starting epoch 2/10, LR = [0.001]\n",
            "Step 20, Loss_train 0.16946443915367126\n",
            "Starting epoch 3/10, LR = [0.001]\n",
            "Step 30, Loss_train 0.09739388525485992\n",
            "Starting epoch 4/10, LR = [0.00025]\n",
            "Step 40, Loss_train 0.07032044231891632\n",
            "Step 50, Loss_train 0.07836572825908661\n",
            "Starting epoch 5/10, LR = [0.0005]\n",
            "Step 60, Loss_train 0.05495484545826912\n",
            "Starting epoch 6/10, LR = [0.0005]\n",
            "Step 70, Loss_train 0.05710098147392273\n",
            "Starting epoch 7/10, LR = [0.000125]\n",
            "Step 80, Loss_train 0.04965071752667427\n",
            "Step 90, Loss_train 0.05204298719763756\n",
            "Starting epoch 8/10, LR = [0.00025]\n",
            "Step 100, Loss_train 0.028516365215182304\n",
            "Starting epoch 9/10, LR = [0.00025]\n",
            "Step 110, Loss_train 0.03686026483774185\n",
            "Starting epoch 10/10, LR = [6.25e-05]\n",
            "Step 120, Loss_train 0.06164136528968811\n"
          ],
          "name": "stdout"
        },
        {
          "output_type": "stream",
          "text": [
            "100%|██████████| 16/16 [00:04<00:00,  3.84it/s]"
          ],
          "name": "stderr"
        },
        {
          "output_type": "stream",
          "text": [
            "Accuracy on test set: 0.478515625%\n"
          ],
          "name": "stdout"
        },
        {
          "output_type": "stream",
          "text": [
            "\n"
          ],
          "name": "stderr"
        }
      ]
    },
    {
      "cell_type": "markdown",
      "metadata": {
        "id": "vXNY7Wnw7IQm",
        "colab_type": "text"
      },
      "source": [
        "**Training with DANN**"
      ]
    },
    {
      "cell_type": "code",
      "metadata": {
        "id": "SCp3Tzfw7Kwq",
        "colab_type": "code",
        "colab": {}
      },
      "source": [
        "import math\n",
        "def dann_train_test(model, source_dataloader, target_dataloader, test_dataloader, \n",
        "                    class_criterion, domain_criterion, file_path=BASE_FILE_PATH):\n",
        "    class_losses_y = []\n",
        "    domain_losses_d = []\n",
        "    accuracies = []\n",
        "    loss_min = -1\n",
        "    accuracy_max = 0\n",
        "    count_diverge = 0\n",
        "    \n",
        "    model = model.to(DEVICE)\n",
        "    cudnn.benchmark\n",
        "    \n",
        "    current_step = 0\n",
        "    for epoch in range(NUM_EPOCHS):\n",
        "        print('Starting epoch {}/{}, LR = {}'.format(epoch+1, NUM_EPOCHS, scheduler.get_lr()))\n",
        "        class_loss, domain_loss, current_step = dann_train_src_target(model, source_dataloader, \n",
        "                                          target_dataloader, optimizer, class_criterion, domain_criterion, current_step,\n",
        "                                          epoch, NUM_EPOCHS, alpha=ALPHA, device=DEVICE)\n",
        "        \n",
        "        if math.isnan(class_loss) or math.isnan(domain_loss):\n",
        "          count_diverge += 1\n",
        "          if count_diverge >= 3:\n",
        "            print(\"EARLY STOPPING\")\n",
        "            break;\n",
        "        class_losses_y.append(class_loss)\n",
        "        domain_losses_d.append(domain_loss)\n",
        "\n",
        "        \"\"\"if loss_min == -1 or loss_min > class_loss:\n",
        "            loss_min = class_loss\n",
        "            torch.save(model, f\"{file_path}_best_model_dann.pth\")\"\"\"\n",
        "        accuracy = test_target(model, test_dataloader, criterion, DEVICE) / float(len(target_data))\n",
        "        accuracies.append(accuracy)\n",
        "        print(f\"Accuracy on test set: {accuracy}%\")\n",
        "        if accuracy_max < accuracy:\n",
        "          accuracy_max = accuracy\n",
        "          torch.save(model, f\"{file_path}_best_model_dann.pth\")\n",
        "        scheduler.step()\n",
        "        \n",
        "    return class_losses_y, domain_losses_d, accuracies"
      ],
      "execution_count": 0,
      "outputs": []
    },
    {
      "cell_type": "code",
      "metadata": {
        "id": "0bibb5WjFqaX",
        "colab_type": "code",
        "outputId": "1b5277ef-9c39-4956-959c-f5b10f6f1741",
        "colab": {
          "base_uri": "https://localhost:8080/",
          "height": 1000
        }
      },
      "source": [
        "dann = alexdann(pretrained=True)\n",
        "class_criterion, domain_criterion, optimizer, scheduler = init_cnn_objects(dann)\n",
        "class_losses_y, domain_losses_d, accuracies = dann_train_test(dann, source_dataloader, \n",
        "                          target_dataloader, test_dataloader, class_criterion, domain_criterion)\n",
        "\n",
        "print(f\"Best Accuracy on test set: {max(accuracies)}%\")"
      ],
      "execution_count": 22,
      "outputs": [
        {
          "output_type": "stream",
          "text": [
            "Starting epoch 1/10, LR = [0.001]\n"
          ],
          "name": "stdout"
        },
        {
          "output_type": "stream",
          "text": [
            "/usr/local/lib/python3.6/dist-packages/torch/optim/lr_scheduler.py:351: UserWarning: To get the last learning rate computed by the scheduler, please use `get_last_lr()`.\n",
            "  \"please use `get_last_lr()`.\", UserWarning)\n"
          ],
          "name": "stderr"
        },
        {
          "output_type": "stream",
          "text": [
            "Step 0\n",
            "Class Loss 2.2343971729278564, Domain Loss 4.629210472106934\n",
            "Step 10\n",
            "Class Loss 0.3250335454940796, Domain Loss 0.5741926431655884\n"
          ],
          "name": "stdout"
        },
        {
          "output_type": "stream",
          "text": [
            "100%|██████████| 16/16 [00:04<00:00,  3.88it/s]\n"
          ],
          "name": "stderr"
        },
        {
          "output_type": "stream",
          "text": [
            "Accuracy on test set: 0.5009765625%\n",
            "Starting epoch 2/10, LR = [0.001]\n",
            "Step 20\n",
            "Class Loss 0.1578495055437088, Domain Loss 0.2912323474884033\n"
          ],
          "name": "stdout"
        },
        {
          "output_type": "stream",
          "text": [
            "100%|██████████| 16/16 [00:04<00:00,  3.91it/s]"
          ],
          "name": "stderr"
        },
        {
          "output_type": "stream",
          "text": [
            "Accuracy on test set: 0.4912109375%\n",
            "Starting epoch 3/10, LR = [0.001]\n"
          ],
          "name": "stdout"
        },
        {
          "output_type": "stream",
          "text": [
            "\n"
          ],
          "name": "stderr"
        },
        {
          "output_type": "stream",
          "text": [
            "Step 30\n",
            "Class Loss 0.1834297776222229, Domain Loss 0.47317901253700256\n"
          ],
          "name": "stdout"
        },
        {
          "output_type": "stream",
          "text": [
            "100%|██████████| 16/16 [00:04<00:00,  3.91it/s]"
          ],
          "name": "stderr"
        },
        {
          "output_type": "stream",
          "text": [
            "Accuracy on test set: 0.4970703125%\n",
            "Starting epoch 4/10, LR = [0.00025]\n"
          ],
          "name": "stdout"
        },
        {
          "output_type": "stream",
          "text": [
            "\n"
          ],
          "name": "stderr"
        },
        {
          "output_type": "stream",
          "text": [
            "Step 40\n",
            "Class Loss 0.15741756558418274, Domain Loss 0.6116553544998169\n",
            "Step 50\n",
            "Class Loss 0.11580789089202881, Domain Loss 0.58474200963974\n"
          ],
          "name": "stdout"
        },
        {
          "output_type": "stream",
          "text": [
            "100%|██████████| 16/16 [00:04<00:00,  3.97it/s]"
          ],
          "name": "stderr"
        },
        {
          "output_type": "stream",
          "text": [
            "Accuracy on test set: 0.470703125%\n",
            "Starting epoch 5/10, LR = [0.0005]\n"
          ],
          "name": "stdout"
        },
        {
          "output_type": "stream",
          "text": [
            "\n"
          ],
          "name": "stderr"
        },
        {
          "output_type": "stream",
          "text": [
            "Step 60\n",
            "Class Loss 0.1122283935546875, Domain Loss 0.611627995967865\n"
          ],
          "name": "stdout"
        },
        {
          "output_type": "stream",
          "text": [
            "100%|██████████| 16/16 [00:04<00:00,  3.92it/s]"
          ],
          "name": "stderr"
        },
        {
          "output_type": "stream",
          "text": [
            "Accuracy on test set: 0.46044921875%\n",
            "Starting epoch 6/10, LR = [0.0005]\n"
          ],
          "name": "stdout"
        },
        {
          "output_type": "stream",
          "text": [
            "\n"
          ],
          "name": "stderr"
        },
        {
          "output_type": "stream",
          "text": [
            "Step 70\n",
            "Class Loss 0.2260771244764328, Domain Loss 0.8443145751953125\n"
          ],
          "name": "stdout"
        },
        {
          "output_type": "stream",
          "text": [
            "100%|██████████| 16/16 [00:04<00:00,  3.94it/s]"
          ],
          "name": "stderr"
        },
        {
          "output_type": "stream",
          "text": [
            "Accuracy on test set: 0.40380859375%\n",
            "Starting epoch 7/10, LR = [0.000125]\n"
          ],
          "name": "stdout"
        },
        {
          "output_type": "stream",
          "text": [
            "\n"
          ],
          "name": "stderr"
        },
        {
          "output_type": "stream",
          "text": [
            "Step 80\n",
            "Class Loss 0.4436452388763428, Domain Loss 1.48305082321167\n",
            "Step 90\n",
            "Class Loss 11.512096405029297, Domain Loss 58.236915588378906\n"
          ],
          "name": "stdout"
        },
        {
          "output_type": "stream",
          "text": [
            "100%|██████████| 16/16 [00:04<00:00,  3.97it/s]"
          ],
          "name": "stderr"
        },
        {
          "output_type": "stream",
          "text": [
            "Accuracy on test set: 0.09814453125%\n",
            "Starting epoch 8/10, LR = [0.00025]\n"
          ],
          "name": "stdout"
        },
        {
          "output_type": "stream",
          "text": [
            "\n"
          ],
          "name": "stderr"
        },
        {
          "output_type": "stream",
          "text": [
            "Step 100\n",
            "Class Loss 2.0667271614074707, Domain Loss 1.3512712717056274\n"
          ],
          "name": "stdout"
        },
        {
          "output_type": "stream",
          "text": [
            "100%|██████████| 16/16 [00:04<00:00,  3.90it/s]"
          ],
          "name": "stderr"
        },
        {
          "output_type": "stream",
          "text": [
            "Accuracy on test set: 0.2451171875%\n",
            "Starting epoch 9/10, LR = [0.00025]\n"
          ],
          "name": "stdout"
        },
        {
          "output_type": "stream",
          "text": [
            "\n"
          ],
          "name": "stderr"
        },
        {
          "output_type": "stream",
          "text": [
            "Step 110\n",
            "Class Loss 3.6764869689941406, Domain Loss 6.883295059204102\n"
          ],
          "name": "stdout"
        },
        {
          "output_type": "stream",
          "text": [
            "100%|██████████| 16/16 [00:04<00:00,  3.92it/s]"
          ],
          "name": "stderr"
        },
        {
          "output_type": "stream",
          "text": [
            "Accuracy on test set: 0.13916015625%\n",
            "Starting epoch 10/10, LR = [6.25e-05]\n"
          ],
          "name": "stdout"
        },
        {
          "output_type": "stream",
          "text": [
            "\n"
          ],
          "name": "stderr"
        },
        {
          "output_type": "stream",
          "text": [
            "Step 120\n",
            "Class Loss 4.162588119506836, Domain Loss 3.1556973457336426\n"
          ],
          "name": "stdout"
        },
        {
          "output_type": "stream",
          "text": [
            "100%|██████████| 16/16 [00:04<00:00,  3.93it/s]"
          ],
          "name": "stderr"
        },
        {
          "output_type": "stream",
          "text": [
            "Accuracy on test set: 0.1943359375%\n",
            "Best Accuracy on test set: 0.5009765625%\n"
          ],
          "name": "stdout"
        },
        {
          "output_type": "stream",
          "text": [
            "\n"
          ],
          "name": "stderr"
        }
      ]
    }
  ]
}