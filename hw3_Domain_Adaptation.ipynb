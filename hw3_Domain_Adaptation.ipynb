{
 "nbformat": 4,
 "nbformat_minor": 0,
 "metadata": {
  "kernelspec": {
   "display_name": "Python 3",
   "language": "python",
   "name": "python3"
  },
  "language_info": {
   "codemirror_mode": {
    "name": "ipython",
    "version": 2
   },
   "file_extension": ".py",
   "mimetype": "text/x-python",
   "name": "python",
   "nbconvert_exporter": "python",
   "pygments_lexer": "ipython2",
   "version": "2.7.6"
  },
  "pycharm": {
   "stem_cell": {
    "cell_type": "raw",
    "source": [],
    "metadata": {
     "collapsed": false
    }
   }
  },
  "colab": {
   "name": "hw3_Domain_Adaptation.ipynb",
   "provenance": [],
   "collapsed_sections": []
  },
  "accelerator": "GPU"
 },
 "cells": [
  {
   "cell_type": "code",
   "metadata": {
    "id": "2_6xQu_Fp1S1",
    "colab_type": "code",
    "colab": {
     "base_uri": "https://localhost:8080/",
     "height": 71
    },
    "outputId": "fa9d6521-1907-4caa-e646-4a870de19048"
   },
   "source": [
    "# memory footprint support libraries/code\n",
    "!ln -sf /opt/bin/nvidia-smi /usr/bin/nvidia-smi\n",
    "!pip install gputil\n",
    "\n",
    "import GPUtil as GPU\n",
    "\n",
    "GPUs = GPU.getGPUs()\n",
    "# XXX: only one GPU on Colab and isn’t guaranteed\n",
    "gpu = GPUs[0]\n",
    "print(gpu.name)"
   ],
   "execution_count": 18,
   "outputs": [
    {
     "output_type": "stream",
     "text": [
      "Requirement already satisfied: gputil in /usr/local/lib/python3.6/dist-packages (1.4.0)\n",
      "Tesla P100-PCIE-16GB\n"
     ],
     "name": "stdout"
    }
   ]
  },
  {
   "cell_type": "code",
   "metadata": {
    "pycharm": {
     "name": "#%%\n",
     "is_executing": false
    },
    "id": "7byL80PWb83r",
    "colab_type": "code",
    "colab": {
     "base_uri": "https://localhost:8080/",
     "height": 153
    },
    "outputId": "51b67410-a98d-4875-c22a-cc5ca9229914"
   },
   "source": [
    "import os\n",
    "if not os.path.isdir('./utils'):\n",
    "  !git clone https://github.com/lore-lml/machine-learning2020-hw3.git\n",
    "  !mv 'machine-learning2020-hw3' 'utils'\n",
    "  !rm './utils/hw3.ipynb'\n",
    "  !rm './utils/README.md'\n",
    "\n",
    "import logging\n",
    "import numpy as np\n",
    "import torch\n",
    "import torch.nn as nn\n",
    "import torch.optim as optim\n",
    "from torch.utils.data import Subset, DataLoader\n",
    "from torch.backends import cudnn\n",
    "from sklearn.model_selection import ParameterGrid\n",
    "from utils.dann import alexnet\n",
    "from utils.dann import train_no_dann, test_target, dann_train_src_target\n",
    "import matplotlib.pyplot as plt\n",
    "import torchvision\n",
    "from torchvision import transforms\n",
    "from utils.pacs_dataset import Pacs\n",
    "from PIL import Image\n",
    "from tqdm import tqdm\n",
    "%matplotlib inline"
   ],
   "execution_count": 19,
   "outputs": [
    {
     "output_type": "stream",
     "text": [
      "Cloning into 'machine-learning2020-hw3'...\n",
      "remote: Enumerating objects: 58, done.\u001b[K\n",
      "remote: Counting objects: 100% (58/58), done.\u001b[K\n",
      "remote: Compressing objects: 100% (39/39), done.\u001b[K\n",
      "remote: Total 10087 (delta 37), reused 39 (delta 19), pack-reused 10029\u001b[K\n",
      "Receiving objects: 100% (10087/10087), 175.15 MiB | 34.99 MiB/s, done.\n",
      "Resolving deltas: 100% (37/37), done.\n",
      "Checking out files: 100% (9997/9997), done.\n"
     ],
     "name": "stdout"
    }
   ]
  },
  {
   "cell_type": "markdown",
   "metadata": {
    "collapsed": false,
    "pycharm": {
     "name": "#%% md\n"
    },
    "id": "9Fmn_TeAb83t",
    "colab_type": "text"
   },
   "source": [
    "**Set Arguments**"
   ]
  },
  {
   "cell_type": "code",
   "metadata": {
    "pycharm": {
     "name": "#%%\n",
     "is_executing": false
    },
    "id": "BKmhLZ0xb83t",
    "colab_type": "code",
    "colab": {}
   },
   "source": [
    "DEVICE = 'cuda'\n",
    "\n",
    "NUM_CLASSES = 7\n",
    "\n",
    "BATCH_SIZE = 128      # Higher batch sizes allows for larger learning rates. An empirical heuristic suggests that, when changing\n",
    "                      # the batch size, learning rate should change by the same factor to have comparable results\n",
    "\n",
    "LR = 1e-3             # The initial Learning Rate\n",
    "MOMENTUM = 0.9        # Hyperparameter for SGD, keep this at 0.9 when using SGD\n",
    "WEIGHT_DECAY = 5e-5   \n",
    "\n",
    "NUM_EPOCHS = 1       # Total number of training epochs (iterations over dataset)\n",
    "STEP_SIZE = 3         # How many epochs before decreasing learning rate (if using a step-down policy)\n",
    "GAMMA = 0.5           # Multiplicative factor for learning rate step-down\n",
    "\n",
    "ALPHA = 'dynamic'\n",
    "\n",
    "param_grid = {\n",
    "    \"batch_size\": [128],\n",
    "    \"epochs\": [10],\n",
    "    \"lr\": [5e-3, 8e-3],\n",
    "    \"gamma\": [0.5],\n",
    "    \"step_size\": [5],\n",
    "    \"alpha\": [0.1]\n",
    "}\n",
    "\n",
    "BASE_FILE_PATH = \"RUN_3\""
   ],
   "execution_count": 20,
   "outputs": []
  },
  {
   "cell_type": "markdown",
   "metadata": {
    "collapsed": false,
    "pycharm": {
     "name": "#%% md\n"
    },
    "id": "6sa6Y8Pzb83v",
    "colab_type": "text"
   },
   "source": [
    "**Define Data Preprocessing**"
   ]
  },
  {
   "cell_type": "code",
   "metadata": {
    "pycharm": {
     "name": "#%%\n",
     "is_executing": false
    },
    "id": "A5W7Cni-b83w",
    "colab_type": "code",
    "colab": {}
   },
   "source": [
    "transforms = transforms.Compose([transforms.Resize(256),      # Resizes short size of the PIL image to 256\n",
    "                                      transforms.CenterCrop(224),  # Crops a central square patch of the image\n",
    "                                                                   # 224 because torchvision's AlexNet needs a 224x224 input!\n",
    "                                                                   # Remember this when applying different transformations, otherwise you get an error\n",
    "                                      transforms.ToTensor(), # Turn PIL Image to torch.Tensor\n",
    "                                      transforms.Normalize((0.485, 0.456, 0.406), (0.229, 0.224, 0.225)) # Normalizes tensor with mean and standard deviation\n",
    "])"
   ],
   "execution_count": 4,
   "outputs": []
  },
  {
   "cell_type": "markdown",
   "metadata": {
    "collapsed": false,
    "pycharm": {
     "name": "#%% md\n"
    },
    "id": "P6EG9H2ob83y",
    "colab_type": "text"
   },
   "source": [
    "**Prepare Dataset**"
   ]
  },
  {
   "cell_type": "code",
   "metadata": {
    "pycharm": {
     "name": "#%%\n",
     "is_executing": false
    },
    "id": "D39D-n0Qb83y",
    "colab_type": "code",
    "colab": {
     "base_uri": "https://localhost:8080/",
     "height": 170
    },
    "outputId": "2e6c89fd-1ce3-4182-93d4-02d541c4bbff"
   },
   "source": [
    "ROOT = 'utils/PACS'\n",
    "\n",
    "photo = Pacs(ROOT, transform=transforms, source='photo')\n",
    "cartoon = Pacs(ROOT, transform=transforms, source='cartoon')\n",
    "sketch = Pacs(ROOT, transform=transforms, source='sketch')\n",
    "art = Pacs(ROOT, transform=transforms, source='art_painting')\n",
    "\n",
    "_, photo_labels = photo.get_img_with_labels()\n",
    "_, cartoon_labels = cartoon.get_img_with_labels()\n",
    "_, sketch_labels = sketch.get_img_with_labels()\n",
    "_, art_labels = art.get_img_with_labels()\n",
    "\n",
    "print(f\"# classes source_data: {len(set(photo_labels))}\")\n",
    "print(f\"# classes cartoon_data: {len(set(cartoon_labels))}\")\n",
    "print(f\"# classes sketch_data: {len(set(sketch_labels))}\")\n",
    "print(f\"# classes target_data: {len(set(art_labels))}\")\n",
    "print(f\"source_data: {len(photo)} elements\")\n",
    "print(f\"cartoon_data: {len(cartoon)} elements\")\n",
    "print(f\"sketch_data: {len(sketch)} elements\")\n",
    "print(f\"target_data: {len(art)} elements\")\n",
    "print(f\"total images: {len(photo) + len(cartoon) + len(sketch) + len(art)}\")"
   ],
   "execution_count": 5,
   "outputs": [
    {
     "output_type": "stream",
     "text": [
      "# classes source_data: 7\n",
      "# classes cartoon_data: 7\n",
      "# classes sketch_data: 7\n",
      "# classes target_data: 7\n",
      "source_data: 1670 elements\n",
      "cartoon_data: 2344 elements\n",
      "sketch_data: 3929 elements\n",
      "target_data: 2048 elements\n",
      "total images: 9991\n"
     ],
     "name": "stdout"
    }
   ]
  },
  {
   "cell_type": "markdown",
   "metadata": {
    "collapsed": false,
    "pycharm": {
     "name": "#%% md\n"
    },
    "id": "BK7TcuLPb830",
    "colab_type": "text"
   },
   "source": [
    "**Prepare Dataloaders**"
   ]
  },
  {
   "cell_type": "code",
   "metadata": {
    "pycharm": {
     "name": "#%%\n",
     "is_executing": false
    },
    "id": "ou9I6xRrb831",
    "colab_type": "code",
    "colab": {}
   },
   "source": [
    "def get_train_loaders(dataset, batch_size=BATCH_SIZE):\n",
    "  return DataLoader(dataset, batch_size=batch_size, shuffle=True, num_workers=4, drop_last=True)\n",
    "\n",
    "def get_eval_loaders(dataset, batch_size=BATCH_SIZE):\n",
    "  return  DataLoader(dataset, batch_size=batch_size, shuffle=False, num_workers=4, drop_last=False)\n"
   ],
   "execution_count": 6,
   "outputs": []
  },
  {
   "cell_type": "markdown",
   "metadata": {
    "collapsed": false,
    "pycharm": {
     "name": "#%% md\n"
    },
    "id": "9-Olxfg0b833",
    "colab_type": "text"
   },
   "source": [
    "**Prepare Network**"
   ]
  },
  {
   "cell_type": "code",
   "metadata": {
    "pycharm": {
     "name": "#%%\n",
     "is_executing": false
    },
    "id": "GJ3NssxCb833",
    "colab_type": "code",
    "colab": {}
   },
   "source": [
    "def get_alexnet(pretrained=False):\n",
    "    return alexnet(pretrained)\n",
    "\n",
    "def loss_optmizer_scheduler(model, lr=LR, step_size=STEP_SIZE, gamma=GAMMA):\n",
    "  \n",
    "  # Define loss function\n",
    "  criterion = nn.CrossEntropyLoss() # for classification, we use Cross Entropy\n",
    "  parameters_to_optimize = model.parameters() # In this case we optimize over all the parameters of AlexNet\n",
    "  \n",
    "  optimizer = optim.SGD(parameters_to_optimize, lr=lr, momentum=MOMENTUM, weight_decay=WEIGHT_DECAY)\n",
    "  #optimizer = optim.Adam(parameters_to_optimize, lr=lr,amsgrad=True)\n",
    "  #optimizer = optim.AdamW(parameters_to_optimize, lr=lr,amsgrad=True, weight_decay=WEIGHT_DECAY)\n",
    "  scheduler = optim.lr_scheduler.StepLR(optimizer, step_size=step_size, gamma=gamma)\n",
    "\n",
    "  return criterion, optimizer, scheduler"
   ],
   "execution_count": 7,
   "outputs": []
  },
  {
   "cell_type": "markdown",
   "metadata": {
    "collapsed": false,
    "pycharm": {
     "name": "#%% md\n"
    },
    "id": "s0JrvlXOb835",
    "colab_type": "text"
   },
   "source": [
    "**Training**"
   ]
  },
  {
   "cell_type": "code",
   "metadata": {
    "id": "QIizYiGruKpg",
    "colab_type": "code",
    "colab": {}
   },
   "source": [
    "def saveResults(configuration, best_mean_accuracy, accuracies_test, class_losses, domain_losses=None,\n",
    "                dann=False, append=False, base_path=BASE_FILE_PATH):\n",
    "  suffix_path = \"_results.txt\"\n",
    "  mode = \"a\" if append else \"w\"\n",
    "  with open(f\"{base_path}{suffix_path}\", mode, encoding='utf-8') as f:\n",
    "      title = \"********** WITHOUD DANN **********\" if not dann else \"********** WITH DANN **********\"\n",
    "      f.write(f\"{title}\\n\")\n",
    "      f.write(f\"Best Configuration:\\n{configuration}\\n\\n\")\n",
    "      f.write(f\"Best Mean Accuracy: {best_mean_accuracy}\\n\")\n",
    "      f.write(f\"Accuracies on Target:\\n\")\n",
    "      join = \",\".join(list(map(lambda x: str(x), accuracies_test)))\n",
    "      f.write(f\"{join}\\n\")\n",
    "      f.write(f\"Best Accuracy on Target: {max(accuracies_test)}\\n\")\n",
    "      f.write(\"Class Losses:\\n\")\n",
    "      join = \",\".join(list(map(lambda x: str(x), class_losses)))\n",
    "      f.write(f\"{join}\\n\")\n",
    "      if dann and domain_losses is not None:\n",
    "        f.write(\"Domain Losses:\\n\")\n",
    "        join = \",\".join(list(map(lambda x: str(x), domain_losses)))\n",
    "        f.write(f\"{join}\\n\")\n",
    "      f.write(\"\\n\\n\")\n",
    "\n",
    "  print(\"********* FILE SAVED *********\")"
   ],
   "execution_count": 8,
   "outputs": []
  },
  {
   "cell_type": "code",
   "metadata": {
    "pycharm": {
     "name": "#%%\n"
    },
    "id": "VnMriGBgb836",
    "colab_type": "code",
    "colab": {}
   },
   "source": [
    "def train(net, src_dataloader, test_dataloader, criterion, optimizer, scheduler, max_epoch=NUM_EPOCHS, device=DEVICE):\n",
    "    train_losses = []\n",
    "    accuracies = []\n",
    "    \n",
    "    net = net.to(device)\n",
    "    cudnn.benchmark\n",
    "    \n",
    "    current_step = 0\n",
    "    for epoch in range(max_epoch):\n",
    "        print('Starting epoch {}/{}, LR = {}'.format(epoch+1, max_epoch, scheduler.get_last_lr()))\n",
    "        cumulative_loss, current_step = train_no_dann(net, src_dataloader, optimizer, criterion, current_step, device)\n",
    "        curr_loss = cumulative_loss / len(src_dataloader)\n",
    "        train_losses.append(curr_loss)\n",
    "        scheduler.step()\n",
    "\n",
    "        curr_accuracy = test_target(net, test_dataloader, device) / float(len(test_dataloader)*BATCH_SIZE)\n",
    "        accuracies.append(curr_accuracy)\n",
    "        print(f\"\\tCurrent Accuracy: {curr_accuracy}\")\n",
    "        \n",
    "    return train_losses, accuracies"
   ],
   "execution_count": 9,
   "outputs": []
  },
  {
   "cell_type": "code",
   "metadata": {
    "id": "IM2bTGW966Bw",
    "colab_type": "code",
    "colab": {
     "base_uri": "https://localhost:8080/",
     "height": 1000
    },
    "outputId": "f0f33196-4f23-4152-a63c-de94a0f4c6b4"
   },
   "source": [
    "grid = dict(param_grid)\n",
    "del grid['alpha']\n",
    "\n",
    "grid = ParameterGrid(grid)\n",
    "results = []\n",
    "for config in grid:\n",
    "  photo_dataloader = get_train_loaders(photo, config['batch_size'])\n",
    "  cartoon_eval_dataloader = get_eval_loaders(cartoon, config['batch_size'])\n",
    "  sketch_eval_dataloader = get_eval_loaders(sketch, config['batch_size'])\n",
    "  no_dann_cartoon = get_alexnet(pretrained=True)\n",
    "  criterion_cartoon, optimizer_cartoon, scheduler_cartoon = loss_optmizer_scheduler(no_dann_cartoon, lr=config['lr'], \n",
    "                                                                          step_size=config['step_size'], gamma=config['gamma'])\n",
    "  no_dann_sketch = get_alexnet(pretrained=True)\n",
    "  criterion_sketch, optimizer_sketch, scheduler_sketch = loss_optmizer_scheduler(no_dann_sketch, lr=config['lr'], \n",
    "                                                                          step_size=config['step_size'], gamma=config['gamma'])\n",
    "\n",
    "  cartoon_losses, cartoon_accuracies = train(no_dann_cartoon, photo_dataloader, cartoon_eval_dataloader, \n",
    "                                                           criterion_cartoon, optimizer_cartoon, scheduler_cartoon, max_epoch=config['epochs'])\n",
    "  sketch_losses, sketch_accuracies = train(no_dann_sketch, photo_dataloader, sketch_eval_dataloader, \n",
    "                                                         criterion_sketch, optimizer_sketch, scheduler_sketch, max_epoch=config['epochs'])\n",
    "\n",
    "  curr_result = {'params': config, 'cartoon_losses': cartoon_losses, 'sketch_losses': sketch_losses, \n",
    "                 'best_acc': np.mean([max(cartoon_accuracies), max(sketch_accuracies)])}\n",
    "  results.append(curr_result)\n",
    "  \n",
    "best_conf = max(results, key=lambda x: x['best_acc'])\n",
    "print(f\"Best conf:\\n{best_conf['params']}\")\n",
    "print(f\"Highest accuracy mean: {best_conf['best_acc']}\")\n"
   ],
   "execution_count": 10,
   "outputs": [
    {
     "output_type": "stream",
     "text": [
      "Starting epoch 1/10, LR = [0.005]\n",
      "Step 0, Loss_train 2.289766788482666\n",
      "Step 10, Loss_train 0.3044741451740265\n"
     ],
     "name": "stdout"
    },
    {
     "output_type": "stream",
     "text": [
      "100%|██████████| 19/19 [00:06<00:00,  2.95it/s]"
     ],
     "name": "stderr"
    },
    {
     "output_type": "stream",
     "text": [
      "\tCurrent Accuracy: 0.2680921052631579\n",
      "Starting epoch 2/10, LR = [0.005]\n"
     ],
     "name": "stdout"
    },
    {
     "output_type": "stream",
     "text": [
      "\n"
     ],
     "name": "stderr"
    },
    {
     "output_type": "stream",
     "text": [
      "Step 20, Loss_train 0.09047217667102814\n"
     ],
     "name": "stdout"
    },
    {
     "output_type": "stream",
     "text": [
      "100%|██████████| 19/19 [00:06<00:00,  2.95it/s]"
     ],
     "name": "stderr"
    },
    {
     "output_type": "stream",
     "text": [
      "\tCurrent Accuracy: 0.28536184210526316\n",
      "Starting epoch 3/10, LR = [0.005]\n"
     ],
     "name": "stdout"
    },
    {
     "output_type": "stream",
     "text": [
      "\n"
     ],
     "name": "stderr"
    },
    {
     "output_type": "stream",
     "text": [
      "Step 30, Loss_train 0.060907091945409775\n"
     ],
     "name": "stdout"
    },
    {
     "output_type": "stream",
     "text": [
      "100%|██████████| 19/19 [00:06<00:00,  2.90it/s]"
     ],
     "name": "stderr"
    },
    {
     "output_type": "stream",
     "text": [
      "\tCurrent Accuracy: 0.2837171052631579\n",
      "Starting epoch 4/10, LR = [0.005]\n"
     ],
     "name": "stdout"
    },
    {
     "output_type": "stream",
     "text": [
      "\n"
     ],
     "name": "stderr"
    },
    {
     "output_type": "stream",
     "text": [
      "Step 40, Loss_train 0.02634982019662857\n",
      "Step 50, Loss_train 0.0339554063975811\n"
     ],
     "name": "stdout"
    },
    {
     "output_type": "stream",
     "text": [
      "100%|██████████| 19/19 [00:06<00:00,  2.96it/s]"
     ],
     "name": "stderr"
    },
    {
     "output_type": "stream",
     "text": [
      "\tCurrent Accuracy: 0.36101973684210525\n",
      "Starting epoch 5/10, LR = [0.005]\n"
     ],
     "name": "stdout"
    },
    {
     "output_type": "stream",
     "text": [
      "\n"
     ],
     "name": "stderr"
    },
    {
     "output_type": "stream",
     "text": [
      "Step 60, Loss_train 0.004009738564491272\n"
     ],
     "name": "stdout"
    },
    {
     "output_type": "stream",
     "text": [
      "100%|██████████| 19/19 [00:06<00:00,  2.96it/s]"
     ],
     "name": "stderr"
    },
    {
     "output_type": "stream",
     "text": [
      "\tCurrent Accuracy: 0.27055921052631576\n",
      "Starting epoch 6/10, LR = [0.0025]\n"
     ],
     "name": "stdout"
    },
    {
     "output_type": "stream",
     "text": [
      "\n"
     ],
     "name": "stderr"
    },
    {
     "output_type": "stream",
     "text": [
      "Step 70, Loss_train 0.008068740367889404\n"
     ],
     "name": "stdout"
    },
    {
     "output_type": "stream",
     "text": [
      "100%|██████████| 19/19 [00:06<00:00,  3.07it/s]"
     ],
     "name": "stderr"
    },
    {
     "output_type": "stream",
     "text": [
      "\tCurrent Accuracy: 0.2602796052631579\n",
      "Starting epoch 7/10, LR = [0.0025]\n"
     ],
     "name": "stdout"
    },
    {
     "output_type": "stream",
     "text": [
      "\n"
     ],
     "name": "stderr"
    },
    {
     "output_type": "stream",
     "text": [
      "Step 80, Loss_train 0.0007417276501655579\n"
     ],
     "name": "stdout"
    },
    {
     "output_type": "stream",
     "text": [
      "\r  0%|          | 0/19 [00:00<?, ?it/s]"
     ],
     "name": "stderr"
    },
    {
     "output_type": "stream",
     "text": [
      "Step 90, Loss_train 0.0029790811240673065\n"
     ],
     "name": "stdout"
    },
    {
     "output_type": "stream",
     "text": [
      "100%|██████████| 19/19 [00:06<00:00,  2.94it/s]"
     ],
     "name": "stderr"
    },
    {
     "output_type": "stream",
     "text": [
      "\tCurrent Accuracy: 0.2865953947368421\n",
      "Starting epoch 8/10, LR = [0.0025]\n"
     ],
     "name": "stdout"
    },
    {
     "output_type": "stream",
     "text": [
      "\n"
     ],
     "name": "stderr"
    },
    {
     "output_type": "stream",
     "text": [
      "Step 100, Loss_train 0.003982551395893097\n"
     ],
     "name": "stdout"
    },
    {
     "output_type": "stream",
     "text": [
      "100%|██████████| 19/19 [00:05<00:00,  3.24it/s]"
     ],
     "name": "stderr"
    },
    {
     "output_type": "stream",
     "text": [
      "\tCurrent Accuracy: 0.2964638157894737\n",
      "Starting epoch 9/10, LR = [0.0025]\n"
     ],
     "name": "stdout"
    },
    {
     "output_type": "stream",
     "text": [
      "\n"
     ],
     "name": "stderr"
    },
    {
     "output_type": "stream",
     "text": [
      "Step 110, Loss_train 0.001130174845457077\n"
     ],
     "name": "stdout"
    },
    {
     "output_type": "stream",
     "text": [
      "100%|██████████| 19/19 [00:06<00:00,  3.14it/s]"
     ],
     "name": "stderr"
    },
    {
     "output_type": "stream",
     "text": [
      "\tCurrent Accuracy: 0.2837171052631579\n",
      "Starting epoch 10/10, LR = [0.0025]\n"
     ],
     "name": "stdout"
    },
    {
     "output_type": "stream",
     "text": [
      "\n"
     ],
     "name": "stderr"
    },
    {
     "output_type": "stream",
     "text": [
      "Step 120, Loss_train 0.003415524959564209\n"
     ],
     "name": "stdout"
    },
    {
     "output_type": "stream",
     "text": [
      "100%|██████████| 19/19 [00:05<00:00,  3.24it/s]"
     ],
     "name": "stderr"
    },
    {
     "output_type": "stream",
     "text": [
      "\tCurrent Accuracy: 0.2870065789473684\n",
      "Starting epoch 1/10, LR = [0.005]\n"
     ],
     "name": "stdout"
    },
    {
     "output_type": "stream",
     "text": [
      "\n"
     ],
     "name": "stderr"
    },
    {
     "output_type": "stream",
     "text": [
      "Step 0, Loss_train 1.8470752239227295\n",
      "Step 10, Loss_train 0.2793923020362854\n"
     ],
     "name": "stdout"
    },
    {
     "output_type": "stream",
     "text": [
      "100%|██████████| 31/31 [00:09<00:00,  3.34it/s]"
     ],
     "name": "stderr"
    },
    {
     "output_type": "stream",
     "text": [
      "\tCurrent Accuracy: 0.19178427419354838\n",
      "Starting epoch 2/10, LR = [0.005]\n"
     ],
     "name": "stdout"
    },
    {
     "output_type": "stream",
     "text": [
      "\n"
     ],
     "name": "stderr"
    },
    {
     "output_type": "stream",
     "text": [
      "Step 20, Loss_train 0.07655708491802216\n"
     ],
     "name": "stdout"
    },
    {
     "output_type": "stream",
     "text": [
      "100%|██████████| 31/31 [00:09<00:00,  3.33it/s]"
     ],
     "name": "stderr"
    },
    {
     "output_type": "stream",
     "text": [
      "\tCurrent Accuracy: 0.23639112903225806\n",
      "Starting epoch 3/10, LR = [0.005]\n"
     ],
     "name": "stdout"
    },
    {
     "output_type": "stream",
     "text": [
      "\n"
     ],
     "name": "stderr"
    },
    {
     "output_type": "stream",
     "text": [
      "Step 30, Loss_train 0.05507403984665871\n"
     ],
     "name": "stdout"
    },
    {
     "output_type": "stream",
     "text": [
      "100%|██████████| 31/31 [00:09<00:00,  3.35it/s]"
     ],
     "name": "stderr"
    },
    {
     "output_type": "stream",
     "text": [
      "\tCurrent Accuracy: 0.24369959677419356\n",
      "Starting epoch 4/10, LR = [0.005]\n"
     ],
     "name": "stdout"
    },
    {
     "output_type": "stream",
     "text": [
      "\n"
     ],
     "name": "stderr"
    },
    {
     "output_type": "stream",
     "text": [
      "Step 40, Loss_train 0.006078775972127914\n",
      "Step 50, Loss_train 0.01620924100279808\n"
     ],
     "name": "stdout"
    },
    {
     "output_type": "stream",
     "text": [
      "100%|██████████| 31/31 [00:09<00:00,  3.27it/s]"
     ],
     "name": "stderr"
    },
    {
     "output_type": "stream",
     "text": [
      "\tCurrent Accuracy: 0.2240423387096774\n",
      "Starting epoch 5/10, LR = [0.005]\n"
     ],
     "name": "stdout"
    },
    {
     "output_type": "stream",
     "text": [
      "\n"
     ],
     "name": "stderr"
    },
    {
     "output_type": "stream",
     "text": [
      "Step 60, Loss_train 0.012977097183465958\n"
     ],
     "name": "stdout"
    },
    {
     "output_type": "stream",
     "text": [
      "100%|██████████| 31/31 [00:09<00:00,  3.36it/s]"
     ],
     "name": "stderr"
    },
    {
     "output_type": "stream",
     "text": [
      "\tCurrent Accuracy: 0.20892137096774194\n",
      "Starting epoch 6/10, LR = [0.0025]\n"
     ],
     "name": "stdout"
    },
    {
     "output_type": "stream",
     "text": [
      "\n"
     ],
     "name": "stderr"
    },
    {
     "output_type": "stream",
     "text": [
      "Step 70, Loss_train 0.01124042272567749\n"
     ],
     "name": "stdout"
    },
    {
     "output_type": "stream",
     "text": [
      "100%|██████████| 31/31 [00:09<00:00,  3.32it/s]"
     ],
     "name": "stderr"
    },
    {
     "output_type": "stream",
     "text": [
      "\tCurrent Accuracy: 0.2134576612903226\n",
      "Starting epoch 7/10, LR = [0.0025]\n"
     ],
     "name": "stdout"
    },
    {
     "output_type": "stream",
     "text": [
      "\n"
     ],
     "name": "stderr"
    },
    {
     "output_type": "stream",
     "text": [
      "Step 80, Loss_train 0.002290494740009308\n"
     ],
     "name": "stdout"
    },
    {
     "output_type": "stream",
     "text": [
      "\r  0%|          | 0/31 [00:00<?, ?it/s]"
     ],
     "name": "stderr"
    },
    {
     "output_type": "stream",
     "text": [
      "Step 90, Loss_train 0.0018883496522903442\n"
     ],
     "name": "stdout"
    },
    {
     "output_type": "stream",
     "text": [
      "100%|██████████| 31/31 [00:09<00:00,  3.33it/s]"
     ],
     "name": "stderr"
    },
    {
     "output_type": "stream",
     "text": [
      "\tCurrent Accuracy: 0.22202620967741934\n",
      "Starting epoch 8/10, LR = [0.0025]\n"
     ],
     "name": "stdout"
    },
    {
     "output_type": "stream",
     "text": [
      "\n"
     ],
     "name": "stderr"
    },
    {
     "output_type": "stream",
     "text": [
      "Step 100, Loss_train 0.002028040587902069\n"
     ],
     "name": "stdout"
    },
    {
     "output_type": "stream",
     "text": [
      "100%|██████████| 31/31 [00:09<00:00,  3.42it/s]"
     ],
     "name": "stderr"
    },
    {
     "output_type": "stream",
     "text": [
      "\tCurrent Accuracy: 0.2240423387096774\n",
      "Starting epoch 9/10, LR = [0.0025]\n"
     ],
     "name": "stdout"
    },
    {
     "output_type": "stream",
     "text": [
      "\n"
     ],
     "name": "stderr"
    },
    {
     "output_type": "stream",
     "text": [
      "Step 110, Loss_train 0.0032768212258815765\n"
     ],
     "name": "stdout"
    },
    {
     "output_type": "stream",
     "text": [
      "100%|██████████| 31/31 [00:09<00:00,  3.38it/s]"
     ],
     "name": "stderr"
    },
    {
     "output_type": "stream",
     "text": [
      "\tCurrent Accuracy: 0.2240423387096774\n",
      "Starting epoch 10/10, LR = [0.0025]\n"
     ],
     "name": "stdout"
    },
    {
     "output_type": "stream",
     "text": [
      "\n"
     ],
     "name": "stderr"
    },
    {
     "output_type": "stream",
     "text": [
      "Step 120, Loss_train 0.0003861747682094574\n"
     ],
     "name": "stdout"
    },
    {
     "output_type": "stream",
     "text": [
      "100%|██████████| 31/31 [00:09<00:00,  3.39it/s]\n"
     ],
     "name": "stderr"
    },
    {
     "output_type": "stream",
     "text": [
      "\tCurrent Accuracy: 0.23084677419354838\n",
      "Starting epoch 1/10, LR = [0.008]\n",
      "Step 0, Loss_train 2.116771697998047\n",
      "Step 10, Loss_train 0.30787134170532227\n"
     ],
     "name": "stdout"
    },
    {
     "output_type": "stream",
     "text": [
      "100%|██████████| 19/19 [00:05<00:00,  3.38it/s]"
     ],
     "name": "stderr"
    },
    {
     "output_type": "stream",
     "text": [
      "\tCurrent Accuracy: 0.18133223684210525\n",
      "Starting epoch 2/10, LR = [0.008]\n"
     ],
     "name": "stdout"
    },
    {
     "output_type": "stream",
     "text": [
      "\n"
     ],
     "name": "stderr"
    },
    {
     "output_type": "stream",
     "text": [
      "Step 20, Loss_train 0.1947760432958603\n"
     ],
     "name": "stdout"
    },
    {
     "output_type": "stream",
     "text": [
      "100%|██████████| 19/19 [00:05<00:00,  3.34it/s]"
     ],
     "name": "stderr"
    },
    {
     "output_type": "stream",
     "text": [
      "\tCurrent Accuracy: 0.18832236842105263\n",
      "Starting epoch 3/10, LR = [0.008]\n"
     ],
     "name": "stdout"
    },
    {
     "output_type": "stream",
     "text": [
      "\n"
     ],
     "name": "stderr"
    },
    {
     "output_type": "stream",
     "text": [
      "Step 30, Loss_train 0.035600446164608\n"
     ],
     "name": "stdout"
    },
    {
     "output_type": "stream",
     "text": [
      "100%|██████████| 19/19 [00:05<00:00,  3.31it/s]"
     ],
     "name": "stderr"
    },
    {
     "output_type": "stream",
     "text": [
      "\tCurrent Accuracy: 0.2722039473684211\n",
      "Starting epoch 4/10, LR = [0.008]\n"
     ],
     "name": "stdout"
    },
    {
     "output_type": "stream",
     "text": [
      "\n"
     ],
     "name": "stderr"
    },
    {
     "output_type": "stream",
     "text": [
      "Step 40, Loss_train 0.0775427594780922\n",
      "Step 50, Loss_train 0.11292968690395355\n"
     ],
     "name": "stdout"
    },
    {
     "output_type": "stream",
     "text": [
      "100%|██████████| 19/19 [00:05<00:00,  3.32it/s]"
     ],
     "name": "stderr"
    },
    {
     "output_type": "stream",
     "text": [
      "\tCurrent Accuracy: 0.203125\n",
      "Starting epoch 5/10, LR = [0.008]\n"
     ],
     "name": "stdout"
    },
    {
     "output_type": "stream",
     "text": [
      "\n"
     ],
     "name": "stderr"
    },
    {
     "output_type": "stream",
     "text": [
      "Step 60, Loss_train 0.03206801414489746\n"
     ],
     "name": "stdout"
    },
    {
     "output_type": "stream",
     "text": [
      "100%|██████████| 19/19 [00:05<00:00,  3.33it/s]"
     ],
     "name": "stderr"
    },
    {
     "output_type": "stream",
     "text": [
      "\tCurrent Accuracy: 0.30386513157894735\n",
      "Starting epoch 6/10, LR = [0.004]\n"
     ],
     "name": "stdout"
    },
    {
     "output_type": "stream",
     "text": [
      "\n"
     ],
     "name": "stderr"
    },
    {
     "output_type": "stream",
     "text": [
      "Step 70, Loss_train 0.024610724300146103\n"
     ],
     "name": "stdout"
    },
    {
     "output_type": "stream",
     "text": [
      "100%|██████████| 19/19 [00:05<00:00,  3.33it/s]"
     ],
     "name": "stderr"
    },
    {
     "output_type": "stream",
     "text": [
      "\tCurrent Accuracy: 0.2701480263157895\n",
      "Starting epoch 7/10, LR = [0.004]\n"
     ],
     "name": "stdout"
    },
    {
     "output_type": "stream",
     "text": [
      "\n"
     ],
     "name": "stderr"
    },
    {
     "output_type": "stream",
     "text": [
      "Step 80, Loss_train 0.017799507826566696\n"
     ],
     "name": "stdout"
    },
    {
     "output_type": "stream",
     "text": [
      "\r  0%|          | 0/19 [00:00<?, ?it/s]"
     ],
     "name": "stderr"
    },
    {
     "output_type": "stream",
     "text": [
      "Step 90, Loss_train 0.029188312590122223\n"
     ],
     "name": "stdout"
    },
    {
     "output_type": "stream",
     "text": [
      "100%|██████████| 19/19 [00:05<00:00,  3.28it/s]"
     ],
     "name": "stderr"
    },
    {
     "output_type": "stream",
     "text": [
      "\tCurrent Accuracy: 0.33305921052631576\n",
      "Starting epoch 8/10, LR = [0.004]\n"
     ],
     "name": "stdout"
    },
    {
     "output_type": "stream",
     "text": [
      "\n"
     ],
     "name": "stderr"
    },
    {
     "output_type": "stream",
     "text": [
      "Step 100, Loss_train 0.0033050067722797394\n"
     ],
     "name": "stdout"
    },
    {
     "output_type": "stream",
     "text": [
      "100%|██████████| 19/19 [00:05<00:00,  3.28it/s]"
     ],
     "name": "stderr"
    },
    {
     "output_type": "stream",
     "text": [
      "\tCurrent Accuracy: 0.29851973684210525\n",
      "Starting epoch 9/10, LR = [0.004]\n"
     ],
     "name": "stdout"
    },
    {
     "output_type": "stream",
     "text": [
      "\n"
     ],
     "name": "stderr"
    },
    {
     "output_type": "stream",
     "text": [
      "Step 110, Loss_train 0.0015099868178367615\n"
     ],
     "name": "stdout"
    },
    {
     "output_type": "stream",
     "text": [
      "100%|██████████| 19/19 [00:05<00:00,  3.30it/s]"
     ],
     "name": "stderr"
    },
    {
     "output_type": "stream",
     "text": [
      "\tCurrent Accuracy: 0.2660361842105263\n",
      "Starting epoch 10/10, LR = [0.004]\n"
     ],
     "name": "stdout"
    },
    {
     "output_type": "stream",
     "text": [
      "\n"
     ],
     "name": "stderr"
    },
    {
     "output_type": "stream",
     "text": [
      "Step 120, Loss_train 0.0021855346858501434\n"
     ],
     "name": "stdout"
    },
    {
     "output_type": "stream",
     "text": [
      "100%|██████████| 19/19 [00:05<00:00,  3.30it/s]"
     ],
     "name": "stderr"
    },
    {
     "output_type": "stream",
     "text": [
      "\tCurrent Accuracy: 0.2701480263157895\n",
      "Starting epoch 1/10, LR = [0.008]\n"
     ],
     "name": "stdout"
    },
    {
     "output_type": "stream",
     "text": [
      "\n"
     ],
     "name": "stderr"
    },
    {
     "output_type": "stream",
     "text": [
      "Step 0, Loss_train 2.3087410926818848\n",
      "Step 10, Loss_train 0.2154707908630371\n"
     ],
     "name": "stdout"
    },
    {
     "output_type": "stream",
     "text": [
      "100%|██████████| 31/31 [00:09<00:00,  3.35it/s]"
     ],
     "name": "stderr"
    },
    {
     "output_type": "stream",
     "text": [
      "\tCurrent Accuracy: 0.23084677419354838\n",
      "Starting epoch 2/10, LR = [0.008]\n"
     ],
     "name": "stdout"
    },
    {
     "output_type": "stream",
     "text": [
      "\n"
     ],
     "name": "stderr"
    },
    {
     "output_type": "stream",
     "text": [
      "Step 20, Loss_train 0.10584007203578949\n"
     ],
     "name": "stdout"
    },
    {
     "output_type": "stream",
     "text": [
      "100%|██████████| 31/31 [00:09<00:00,  3.30it/s]"
     ],
     "name": "stderr"
    },
    {
     "output_type": "stream",
     "text": [
      "\tCurrent Accuracy: 0.3014112903225806\n",
      "Starting epoch 3/10, LR = [0.008]\n"
     ],
     "name": "stdout"
    },
    {
     "output_type": "stream",
     "text": [
      "\n"
     ],
     "name": "stderr"
    },
    {
     "output_type": "stream",
     "text": [
      "Step 30, Loss_train 0.06139454245567322\n"
     ],
     "name": "stdout"
    },
    {
     "output_type": "stream",
     "text": [
      "100%|██████████| 31/31 [00:09<00:00,  3.30it/s]"
     ],
     "name": "stderr"
    },
    {
     "output_type": "stream",
     "text": [
      "\tCurrent Accuracy: 0.3346774193548387\n",
      "Starting epoch 4/10, LR = [0.008]\n"
     ],
     "name": "stdout"
    },
    {
     "output_type": "stream",
     "text": [
      "\n"
     ],
     "name": "stderr"
    },
    {
     "output_type": "stream",
     "text": [
      "Step 40, Loss_train 0.032061945647001266\n",
      "Step 50, Loss_train 0.05450665205717087\n"
     ],
     "name": "stdout"
    },
    {
     "output_type": "stream",
     "text": [
      "100%|██████████| 31/31 [00:09<00:00,  3.32it/s]"
     ],
     "name": "stderr"
    },
    {
     "output_type": "stream",
     "text": [
      "\tCurrent Accuracy: 0.3238407258064516\n",
      "Starting epoch 5/10, LR = [0.008]\n"
     ],
     "name": "stdout"
    },
    {
     "output_type": "stream",
     "text": [
      "\n"
     ],
     "name": "stderr"
    },
    {
     "output_type": "stream",
     "text": [
      "Step 60, Loss_train 0.07447466254234314\n"
     ],
     "name": "stdout"
    },
    {
     "output_type": "stream",
     "text": [
      "100%|██████████| 31/31 [00:09<00:00,  3.32it/s]\n"
     ],
     "name": "stderr"
    },
    {
     "output_type": "stream",
     "text": [
      "\tCurrent Accuracy: 0.3046875\n",
      "Starting epoch 6/10, LR = [0.004]\n",
      "Step 70, Loss_train 0.031220003962516785\n"
     ],
     "name": "stdout"
    },
    {
     "output_type": "stream",
     "text": [
      "100%|██████████| 31/31 [00:09<00:00,  3.31it/s]"
     ],
     "name": "stderr"
    },
    {
     "output_type": "stream",
     "text": [
      "\tCurrent Accuracy: 0.3051915322580645\n",
      "Starting epoch 7/10, LR = [0.004]\n"
     ],
     "name": "stdout"
    },
    {
     "output_type": "stream",
     "text": [
      "\n"
     ],
     "name": "stderr"
    },
    {
     "output_type": "stream",
     "text": [
      "Step 80, Loss_train 0.00494963675737381\n"
     ],
     "name": "stdout"
    },
    {
     "output_type": "stream",
     "text": [
      "\r  0%|          | 0/31 [00:00<?, ?it/s]"
     ],
     "name": "stderr"
    },
    {
     "output_type": "stream",
     "text": [
      "Step 90, Loss_train 0.030307084321975708\n"
     ],
     "name": "stdout"
    },
    {
     "output_type": "stream",
     "text": [
      "100%|██████████| 31/31 [00:09<00:00,  3.27it/s]"
     ],
     "name": "stderr"
    },
    {
     "output_type": "stream",
     "text": [
      "\tCurrent Accuracy: 0.3097278225806452\n",
      "Starting epoch 8/10, LR = [0.004]\n"
     ],
     "name": "stdout"
    },
    {
     "output_type": "stream",
     "text": [
      "\n"
     ],
     "name": "stderr"
    },
    {
     "output_type": "stream",
     "text": [
      "Step 100, Loss_train 0.0009204819798469543\n"
     ],
     "name": "stdout"
    },
    {
     "output_type": "stream",
     "text": [
      "100%|██████████| 31/31 [00:09<00:00,  3.29it/s]"
     ],
     "name": "stderr"
    },
    {
     "output_type": "stream",
     "text": [
      "\tCurrent Accuracy: 0.2923387096774194\n",
      "Starting epoch 9/10, LR = [0.004]\n"
     ],
     "name": "stdout"
    },
    {
     "output_type": "stream",
     "text": [
      "\n"
     ],
     "name": "stderr"
    },
    {
     "output_type": "stream",
     "text": [
      "Step 110, Loss_train 0.004683405160903931\n"
     ],
     "name": "stdout"
    },
    {
     "output_type": "stream",
     "text": [
      "100%|██████████| 31/31 [00:09<00:00,  3.31it/s]\n"
     ],
     "name": "stderr"
    },
    {
     "output_type": "stream",
     "text": [
      "\tCurrent Accuracy: 0.31149193548387094\n",
      "Starting epoch 10/10, LR = [0.004]\n",
      "Step 120, Loss_train 0.003962565213441849\n"
     ],
     "name": "stdout"
    },
    {
     "output_type": "stream",
     "text": [
      "100%|██████████| 31/31 [00:09<00:00,  3.25it/s]"
     ],
     "name": "stderr"
    },
    {
     "output_type": "stream",
     "text": [
      "\tCurrent Accuracy: 0.31149193548387094\n",
      "Best conf:\n",
      "{'batch_size': 128, 'epochs': 10, 'gamma': 0.5, 'lr': 0.008, 'step_size': 5}\n",
      "Highest accuracy mean: 0.3338683149405772\n"
     ],
     "name": "stdout"
    },
    {
     "output_type": "stream",
     "text": [
      "\n"
     ],
     "name": "stderr"
    }
   ]
  },
  {
   "cell_type": "code",
   "metadata": {
    "id": "dpmSLmS5eglj",
    "colab_type": "code",
    "colab": {
     "base_uri": "https://localhost:8080/",
     "height": 782
    },
    "outputId": "d03a046c-521b-45ab-9d7a-c14149865ed6"
   },
   "source": [
    "# params = ParameterGrid(param_grid)[0]\n",
    "params = best_conf['params']\n",
    "\n",
    "photo_dataloader = get_train_loaders(photo, batch_size=params['batch_size'])\n",
    "test_dataloader = get_eval_loaders(art, batch_size=params['batch_size'])\n",
    "no_dann = get_alexnet(pretrained=True)\n",
    "criterion, optimizer, scheduler = loss_optmizer_scheduler(no_dann, lr=params['lr'], step_size=params['step_size'], gamma=params['gamma'])\n",
    "\n",
    "losses_no_dann, accuracies_no_dann = train(no_dann, photo_dataloader, test_dataloader, criterion, optimizer, scheduler, max_epoch=params['epochs'])\n",
    "print(f\"Photo transfer to Art accuracy WITHOUT DANN: {max(accuracies_no_dann)}\")\n",
    "\n",
    "saveResults(params, best_conf['best_acc'], accuracies_no_dann, losses_no_dann)\n",
    "# saveResults(params, \"_\", accuracies_no_dann, losses_no_dann)"
   ],
   "execution_count": 12,
   "outputs": [
    {
     "output_type": "stream",
     "text": [
      "Starting epoch 1/10, LR = [0.008]\n",
      "Step 0, Loss_train 2.146091938018799\n",
      "Step 10, Loss_train 0.2671962380409241\n"
     ],
     "name": "stdout"
    },
    {
     "output_type": "stream",
     "text": [
      "100%|██████████| 16/16 [00:04<00:00,  3.22it/s]"
     ],
     "name": "stderr"
    },
    {
     "output_type": "stream",
     "text": [
      "\tCurrent Accuracy: 0.43701171875\n",
      "Starting epoch 2/10, LR = [0.008]\n"
     ],
     "name": "stdout"
    },
    {
     "output_type": "stream",
     "text": [
      "\n"
     ],
     "name": "stderr"
    },
    {
     "output_type": "stream",
     "text": [
      "Step 20, Loss_train 0.1514684110879898\n"
     ],
     "name": "stdout"
    },
    {
     "output_type": "stream",
     "text": [
      "100%|██████████| 16/16 [00:04<00:00,  3.24it/s]"
     ],
     "name": "stderr"
    },
    {
     "output_type": "stream",
     "text": [
      "\tCurrent Accuracy: 0.45263671875\n",
      "Starting epoch 3/10, LR = [0.008]\n"
     ],
     "name": "stdout"
    },
    {
     "output_type": "stream",
     "text": [
      "\n"
     ],
     "name": "stderr"
    },
    {
     "output_type": "stream",
     "text": [
      "Step 30, Loss_train 0.04397158324718475\n"
     ],
     "name": "stdout"
    },
    {
     "output_type": "stream",
     "text": [
      "100%|██████████| 16/16 [00:04<00:00,  3.27it/s]\n"
     ],
     "name": "stderr"
    },
    {
     "output_type": "stream",
     "text": [
      "\tCurrent Accuracy: 0.52294921875\n",
      "Starting epoch 4/10, LR = [0.008]\n",
      "Step 40, Loss_train 0.04097859561443329\n",
      "Step 50, Loss_train 0.035247016698122025\n"
     ],
     "name": "stdout"
    },
    {
     "output_type": "stream",
     "text": [
      "100%|██████████| 16/16 [00:04<00:00,  3.24it/s]"
     ],
     "name": "stderr"
    },
    {
     "output_type": "stream",
     "text": [
      "\tCurrent Accuracy: 0.49072265625\n",
      "Starting epoch 5/10, LR = [0.008]\n"
     ],
     "name": "stdout"
    },
    {
     "output_type": "stream",
     "text": [
      "\n"
     ],
     "name": "stderr"
    },
    {
     "output_type": "stream",
     "text": [
      "Step 60, Loss_train 0.00792117789387703\n"
     ],
     "name": "stdout"
    },
    {
     "output_type": "stream",
     "text": [
      "100%|██████████| 16/16 [00:04<00:00,  3.28it/s]"
     ],
     "name": "stderr"
    },
    {
     "output_type": "stream",
     "text": [
      "\tCurrent Accuracy: 0.51171875\n",
      "Starting epoch 6/10, LR = [0.004]\n"
     ],
     "name": "stdout"
    },
    {
     "output_type": "stream",
     "text": [
      "\n"
     ],
     "name": "stderr"
    },
    {
     "output_type": "stream",
     "text": [
      "Step 70, Loss_train 0.006049424409866333\n"
     ],
     "name": "stdout"
    },
    {
     "output_type": "stream",
     "text": [
      "100%|██████████| 16/16 [00:04<00:00,  3.23it/s]"
     ],
     "name": "stderr"
    },
    {
     "output_type": "stream",
     "text": [
      "\tCurrent Accuracy: 0.51220703125\n",
      "Starting epoch 7/10, LR = [0.004]\n"
     ],
     "name": "stdout"
    },
    {
     "output_type": "stream",
     "text": [
      "\n"
     ],
     "name": "stderr"
    },
    {
     "output_type": "stream",
     "text": [
      "Step 80, Loss_train 0.0022067278623580933\n"
     ],
     "name": "stdout"
    },
    {
     "output_type": "stream",
     "text": [
      "\r  0%|          | 0/16 [00:00<?, ?it/s]"
     ],
     "name": "stderr"
    },
    {
     "output_type": "stream",
     "text": [
      "Step 90, Loss_train 0.0038901381194591522\n"
     ],
     "name": "stdout"
    },
    {
     "output_type": "stream",
     "text": [
      "100%|██████████| 16/16 [00:04<00:00,  3.22it/s]"
     ],
     "name": "stderr"
    },
    {
     "output_type": "stream",
     "text": [
      "\tCurrent Accuracy: 0.51171875\n",
      "Starting epoch 8/10, LR = [0.004]\n"
     ],
     "name": "stdout"
    },
    {
     "output_type": "stream",
     "text": [
      "\n"
     ],
     "name": "stderr"
    },
    {
     "output_type": "stream",
     "text": [
      "Step 100, Loss_train 0.000965118408203125\n"
     ],
     "name": "stdout"
    },
    {
     "output_type": "stream",
     "text": [
      "100%|██████████| 16/16 [00:04<00:00,  3.26it/s]\n"
     ],
     "name": "stderr"
    },
    {
     "output_type": "stream",
     "text": [
      "\tCurrent Accuracy: 0.50244140625\n",
      "Starting epoch 9/10, LR = [0.004]\n",
      "Step 110, Loss_train 0.002092026174068451\n"
     ],
     "name": "stdout"
    },
    {
     "output_type": "stream",
     "text": [
      "100%|██████████| 16/16 [00:04<00:00,  3.26it/s]"
     ],
     "name": "stderr"
    },
    {
     "output_type": "stream",
     "text": [
      "\tCurrent Accuracy: 0.5009765625\n",
      "Starting epoch 10/10, LR = [0.004]\n"
     ],
     "name": "stdout"
    },
    {
     "output_type": "stream",
     "text": [
      "\n"
     ],
     "name": "stderr"
    },
    {
     "output_type": "stream",
     "text": [
      "Step 120, Loss_train 0.0005147606134414673\n"
     ],
     "name": "stdout"
    },
    {
     "output_type": "stream",
     "text": [
      "100%|██████████| 16/16 [00:04<00:00,  3.31it/s]\n"
     ],
     "name": "stderr"
    },
    {
     "output_type": "stream",
     "text": [
      "\tCurrent Accuracy: 0.50341796875\n",
      "Photo transfer to Art accuracy WITHOUT DANN: 0.52294921875\n",
      "********* FILE SAVED *********\n"
     ],
     "name": "stdout"
    }
   ]
  },
  {
   "cell_type": "markdown",
   "metadata": {
    "id": "vXNY7Wnw7IQm",
    "colab_type": "text"
   },
   "source": [
    "**Training with DANN**"
   ]
  },
  {
   "cell_type": "code",
   "metadata": {
    "id": "SCp3Tzfw7Kwq",
    "colab_type": "code",
    "colab": {}
   },
   "source": [
    "import math\n",
    "def dann_train_test(net, src_dataloader, tgt_dataloader, test_dataloader, criterion,\n",
    "                    optimizer, scheduler, max_epoch=NUM_EPOCHS, alpha=ALPHA, file_path=BASE_FILE_PATH, device=DEVICE):\n",
    "    \n",
    "    class_losses = []\n",
    "    domain_losses = []\n",
    "    accuracies = []\n",
    "    tolerance = 0\n",
    "    \n",
    "    net = net.to(device)\n",
    "    cudnn.benchmark\n",
    "    \n",
    "    current_step = 0\n",
    "    for epoch in range(max_epoch):\n",
    "        print('Starting epoch {}/{}, LR = {}'.format(epoch+1, max_epoch, scheduler.get_last_lr()))\n",
    "        class_loss, domain_loss, current_step = dann_train_src_target(net, src_dataloader, \n",
    "                                          tgt_dataloader, optimizer, criterion, current_step,\n",
    "                                          epoch, max_epoch, alpha=alpha, device=device)\n",
    "        scheduler.step()\n",
    "        if math.isnan(class_loss) or math.isnan(domain_loss):\n",
    "          tolerance += 1\n",
    "          if tolerance >= 3:\n",
    "            print(\"EARLY STOPPING\")\n",
    "            break\n",
    "        class_losses.append(class_loss)\n",
    "        domain_losses.append(domain_loss)\n",
    "\n",
    "        accuracy = test_target(net, test_dataloader, device) / float(len(test_dataloader)*BATCH_SIZE)\n",
    "        accuracies.append(accuracy)\n",
    "        print(f\"Accuracy on test set: {accuracy}\")\n",
    "        \n",
    "    return class_losses, domain_losses, accuracies"
   ],
   "execution_count": 15,
   "outputs": []
  },
  {
   "cell_type": "code",
   "metadata": {
    "id": "MgNktK57mCff",
    "colab_type": "code",
    "colab": {
     "base_uri": "https://localhost:8080/",
     "height": 1000
    },
    "outputId": "b9c03067-9604-4011-940e-deb544c4b4e0"
   },
   "source": [
    "grid = ParameterGrid(param_grid)\n",
    "dann_results = []\n",
    "for config in grid:\n",
    "  photo_dataloader = get_train_loaders(photo, config['batch_size'])\n",
    "  cartoon_dataloader = get_train_loaders(cartoon, config['batch_size'])\n",
    "  cartoon_eval_dataloader = get_eval_loaders(cartoon, config['batch_size'])\n",
    "  sketch_dataloader = get_train_loaders(sketch, config['batch_size'])\n",
    "  sketch_test_dataloader = get_eval_loaders(sketch, config['batch_size'])\n",
    "  \n",
    "  dann_cartoon = get_alexnet(pretrained=True)\n",
    "  cartoon_criterion, optimizer_cartoon, scheduler_cartoon = loss_optmizer_scheduler(dann_cartoon, lr=config['lr'], \n",
    "                                                                          step_size=config['step_size'], gamma=config['gamma'])\n",
    "  dann_sketch = get_alexnet(pretrained=True)\n",
    "  sketch_criterion, optimizer_sketch, scheduler_sketch = loss_optmizer_scheduler(dann_sketch, lr=config['lr'], \n",
    "                                                                          step_size=config['step_size'], gamma=config['gamma'])\n",
    "\n",
    "  class_losses_cartoon, domain_losses_cartoon, accuracies_cartoon = dann_train_test(\n",
    "      dann_cartoon, photo_dataloader, cartoon_dataloader, cartoon_eval_dataloader,\n",
    "      cartoon_criterion, optimizer_cartoon, scheduler_cartoon, max_epoch=config['epochs'], alpha=config['alpha']\n",
    "  )\n",
    "\n",
    "  class_losses_sketch, domain_losses_sketch, accuracies_sketch = dann_train_test(\n",
    "      dann_sketch, photo_dataloader, sketch_dataloader, sketch_test_dataloader,\n",
    "      sketch_criterion, optimizer_sketch, scheduler_sketch, max_epoch=config['epochs'], alpha=config['alpha']\n",
    "  )\n",
    "\n",
    "  curr_result = {'params': config, 'cartoon_losses': (class_losses_cartoon, domain_losses_cartoon), 'sketch_losses': (class_losses_sketch, domain_losses_sketch),\n",
    "                 'best_acc': np.mean([max(accuracies_cartoon), max(accuracies_sketch)])}\n",
    "  dann_results.append(curr_result)\n",
    "  \n",
    "best_conf = max(dann_results, key=lambda x: x['best_acc'])\n",
    "print(f\"Best configuration is:\\n{best_conf['params']}\")\n",
    "print(f\"Highest mean accuracy: {best_conf['best_acc']}\")\n"
   ],
   "execution_count": 16,
   "outputs": [
    {
     "output_type": "stream",
     "text": [
      "Starting epoch 1/10, LR = [0.005]\n",
      "Step 0\n",
      "Class Loss 2.205806255340576, Domain Loss 1.4957263469696045\n",
      "Step 10\n",
      "Class Loss 0.158843994140625, Domain Loss 0.2693244516849518\n"
     ],
     "name": "stdout"
    },
    {
     "output_type": "stream",
     "text": [
      "100%|██████████| 19/19 [00:05<00:00,  3.59it/s]\n"
     ],
     "name": "stderr"
    },
    {
     "output_type": "stream",
     "text": [
      "Accuracy on test set: 0.24342105263157895\n",
      "Starting epoch 2/10, LR = [0.005]\n",
      "Step 20\n",
      "Class Loss 0.14871039986610413, Domain Loss 0.37165355682373047\n"
     ],
     "name": "stdout"
    },
    {
     "output_type": "stream",
     "text": [
      "100%|██████████| 19/19 [00:05<00:00,  3.58it/s]\n"
     ],
     "name": "stderr"
    },
    {
     "output_type": "stream",
     "text": [
      "Accuracy on test set: 0.4309210526315789\n",
      "Starting epoch 3/10, LR = [0.005]\n",
      "Step 30\n",
      "Class Loss 0.12302426248788834, Domain Loss 0.11611158400774002\n"
     ],
     "name": "stdout"
    },
    {
     "output_type": "stream",
     "text": [
      "100%|██████████| 19/19 [00:05<00:00,  3.64it/s]"
     ],
     "name": "stderr"
    },
    {
     "output_type": "stream",
     "text": [
      "Accuracy on test set: 0.375\n",
      "Starting epoch 4/10, LR = [0.005]\n"
     ],
     "name": "stdout"
    },
    {
     "output_type": "stream",
     "text": [
      "\n"
     ],
     "name": "stderr"
    },
    {
     "output_type": "stream",
     "text": [
      "Step 40\n",
      "Class Loss 0.06086934357881546, Domain Loss 0.20963750779628754\n",
      "Step 50\n",
      "Class Loss 0.10796117037534714, Domain Loss 0.4777374565601349\n"
     ],
     "name": "stdout"
    },
    {
     "output_type": "stream",
     "text": [
      "100%|██████████| 19/19 [00:05<00:00,  3.63it/s]"
     ],
     "name": "stderr"
    },
    {
     "output_type": "stream",
     "text": [
      "Accuracy on test set: 0.37088815789473684\n",
      "Starting epoch 5/10, LR = [0.005]\n"
     ],
     "name": "stdout"
    },
    {
     "output_type": "stream",
     "text": [
      "\n"
     ],
     "name": "stderr"
    },
    {
     "output_type": "stream",
     "text": [
      "Step 60\n",
      "Class Loss 0.04595693573355675, Domain Loss 0.13693766295909882\n"
     ],
     "name": "stdout"
    },
    {
     "output_type": "stream",
     "text": [
      "100%|██████████| 19/19 [00:05<00:00,  3.57it/s]"
     ],
     "name": "stderr"
    },
    {
     "output_type": "stream",
     "text": [
      "Accuracy on test set: 0.37582236842105265\n",
      "Starting epoch 6/10, LR = [0.0025]\n"
     ],
     "name": "stdout"
    },
    {
     "output_type": "stream",
     "text": [
      "\n"
     ],
     "name": "stderr"
    },
    {
     "output_type": "stream",
     "text": [
      "Step 70\n",
      "Class Loss 0.01508660614490509, Domain Loss 0.19524049758911133\n"
     ],
     "name": "stdout"
    },
    {
     "output_type": "stream",
     "text": [
      "100%|██████████| 19/19 [00:05<00:00,  3.62it/s]"
     ],
     "name": "stderr"
    },
    {
     "output_type": "stream",
     "text": [
      "Accuracy on test set: 0.3918585526315789\n",
      "Starting epoch 7/10, LR = [0.0025]\n"
     ],
     "name": "stdout"
    },
    {
     "output_type": "stream",
     "text": [
      "\n"
     ],
     "name": "stderr"
    },
    {
     "output_type": "stream",
     "text": [
      "Step 80\n",
      "Class Loss 0.0089179165661335, Domain Loss 0.2353200614452362\n",
      "Step 90\n",
      "Class Loss 0.008168350905179977, Domain Loss 0.26562052965164185\n"
     ],
     "name": "stdout"
    },
    {
     "output_type": "stream",
     "text": [
      "100%|██████████| 19/19 [00:05<00:00,  3.59it/s]"
     ],
     "name": "stderr"
    },
    {
     "output_type": "stream",
     "text": [
      "Accuracy on test set: 0.3988486842105263\n",
      "Starting epoch 8/10, LR = [0.0025]\n"
     ],
     "name": "stdout"
    },
    {
     "output_type": "stream",
     "text": [
      "\n"
     ],
     "name": "stderr"
    },
    {
     "output_type": "stream",
     "text": [
      "Step 100\n",
      "Class Loss 0.011519428342580795, Domain Loss 0.254185289144516\n"
     ],
     "name": "stdout"
    },
    {
     "output_type": "stream",
     "text": [
      "100%|██████████| 19/19 [00:05<00:00,  3.61it/s]\n"
     ],
     "name": "stderr"
    },
    {
     "output_type": "stream",
     "text": [
      "Accuracy on test set: 0.44243421052631576\n",
      "Starting epoch 9/10, LR = [0.0025]\n",
      "Step 110\n",
      "Class Loss 0.11470871418714523, Domain Loss 0.24090071022510529\n"
     ],
     "name": "stdout"
    },
    {
     "output_type": "stream",
     "text": [
      "100%|██████████| 19/19 [00:05<00:00,  3.58it/s]\n"
     ],
     "name": "stderr"
    },
    {
     "output_type": "stream",
     "text": [
      "Accuracy on test set: 0.47368421052631576\n",
      "Starting epoch 10/10, LR = [0.0025]\n",
      "Step 120\n",
      "Class Loss 0.02871619537472725, Domain Loss 0.15836010873317719\n"
     ],
     "name": "stdout"
    },
    {
     "output_type": "stream",
     "text": [
      "100%|██████████| 19/19 [00:05<00:00,  3.61it/s]"
     ],
     "name": "stderr"
    },
    {
     "output_type": "stream",
     "text": [
      "Accuracy on test set: 0.46957236842105265\n",
      "Starting epoch 1/10, LR = [0.005]\n"
     ],
     "name": "stdout"
    },
    {
     "output_type": "stream",
     "text": [
      "\n"
     ],
     "name": "stderr"
    },
    {
     "output_type": "stream",
     "text": [
      "Step 0\n",
      "Class Loss 1.979315996170044, Domain Loss 1.5037400722503662\n",
      "Step 10\n",
      "Class Loss 0.17769107222557068, Domain Loss 1.0691583156585693e-06\n"
     ],
     "name": "stdout"
    },
    {
     "output_type": "stream",
     "text": [
      "100%|██████████| 31/31 [00:08<00:00,  3.63it/s]\n"
     ],
     "name": "stderr"
    },
    {
     "output_type": "stream",
     "text": [
      "Accuracy on test set: 0.2469758064516129\n",
      "Starting epoch 2/10, LR = [0.005]\n",
      "Step 20\n",
      "Class Loss 0.1406419277191162, Domain Loss 1.475214958190918e-06\n"
     ],
     "name": "stdout"
    },
    {
     "output_type": "stream",
     "text": [
      "100%|██████████| 31/31 [00:08<00:00,  3.52it/s]\n"
     ],
     "name": "stderr"
    },
    {
     "output_type": "stream",
     "text": [
      "Accuracy on test set: 0.26461693548387094\n",
      "Starting epoch 3/10, LR = [0.005]\n",
      "Step 30\n",
      "Class Loss 0.14329206943511963, Domain Loss 1.1175870895385742e-08\n"
     ],
     "name": "stdout"
    },
    {
     "output_type": "stream",
     "text": [
      "100%|██████████| 31/31 [00:08<00:00,  3.59it/s]\n"
     ],
     "name": "stderr"
    },
    {
     "output_type": "stream",
     "text": [
      "Accuracy on test set: 0.3024193548387097\n",
      "Starting epoch 4/10, LR = [0.005]\n",
      "Step 40\n",
      "Class Loss 0.025893371552228928, Domain Loss 0.0003823013976216316\n",
      "Step 50\n",
      "Class Loss 0.02625785581767559, Domain Loss 0.017537517473101616\n"
     ],
     "name": "stdout"
    },
    {
     "output_type": "stream",
     "text": [
      "100%|██████████| 31/31 [00:08<00:00,  3.62it/s]\n"
     ],
     "name": "stderr"
    },
    {
     "output_type": "stream",
     "text": [
      "Accuracy on test set: 0.3303931451612903\n",
      "Starting epoch 5/10, LR = [0.005]\n",
      "Step 60\n",
      "Class Loss 0.041273560374975204, Domain Loss 8.884509086608887\n"
     ],
     "name": "stdout"
    },
    {
     "output_type": "stream",
     "text": [
      "100%|██████████| 31/31 [00:08<00:00,  3.63it/s]"
     ],
     "name": "stderr"
    },
    {
     "output_type": "stream",
     "text": [
      "Accuracy on test set: 0.19455645161290322\n",
      "Starting epoch 6/10, LR = [0.0025]\n"
     ],
     "name": "stdout"
    },
    {
     "output_type": "stream",
     "text": [
      "\n"
     ],
     "name": "stderr"
    },
    {
     "output_type": "stream",
     "text": [
      "Step 70\n",
      "Class Loss nan, Domain Loss nan\n"
     ],
     "name": "stdout"
    },
    {
     "output_type": "stream",
     "text": [
      "100%|██████████| 31/31 [00:08<00:00,  3.56it/s]"
     ],
     "name": "stderr"
    },
    {
     "output_type": "stream",
     "text": [
      "Accuracy on test set: 0.19455645161290322\n",
      "Starting epoch 7/10, LR = [0.0025]\n"
     ],
     "name": "stdout"
    },
    {
     "output_type": "stream",
     "text": [
      "\n"
     ],
     "name": "stderr"
    },
    {
     "output_type": "stream",
     "text": [
      "Step 80\n",
      "Class Loss nan, Domain Loss nan\n",
      "Step 90\n",
      "Class Loss nan, Domain Loss nan\n"
     ],
     "name": "stdout"
    },
    {
     "output_type": "stream",
     "text": [
      "100%|██████████| 31/31 [00:08<00:00,  3.61it/s]"
     ],
     "name": "stderr"
    },
    {
     "output_type": "stream",
     "text": [
      "Accuracy on test set: 0.19455645161290322\n",
      "Starting epoch 8/10, LR = [0.0025]\n"
     ],
     "name": "stdout"
    },
    {
     "output_type": "stream",
     "text": [
      "\n"
     ],
     "name": "stderr"
    },
    {
     "output_type": "stream",
     "text": [
      "Step 100\n",
      "Class Loss nan, Domain Loss nan\n",
      "EARLY STOPPING\n",
      "Starting epoch 1/10, LR = [0.008]\n",
      "Step 0\n",
      "Class Loss 2.2652194499969482, Domain Loss 1.6457195281982422\n",
      "Step 10\n",
      "Class Loss 0.29257988929748535, Domain Loss 0.13709327578544617\n"
     ],
     "name": "stdout"
    },
    {
     "output_type": "stream",
     "text": [
      "100%|██████████| 19/19 [00:05<00:00,  3.44it/s]\n"
     ],
     "name": "stderr"
    },
    {
     "output_type": "stream",
     "text": [
      "Accuracy on test set: 0.3490953947368421\n",
      "Starting epoch 2/10, LR = [0.008]\n",
      "Step 20\n",
      "Class Loss 0.09130348265171051, Domain Loss 0.32739442586898804\n"
     ],
     "name": "stdout"
    },
    {
     "output_type": "stream",
     "text": [
      "100%|██████████| 19/19 [00:05<00:00,  3.46it/s]"
     ],
     "name": "stderr"
    },
    {
     "output_type": "stream",
     "text": [
      "Accuracy on test set: 0.15583881578947367\n",
      "Starting epoch 3/10, LR = [0.008]\n"
     ],
     "name": "stdout"
    },
    {
     "output_type": "stream",
     "text": [
      "\n"
     ],
     "name": "stderr"
    },
    {
     "output_type": "stream",
     "text": [
      "Step 30\n",
      "Class Loss 0.06549721211194992, Domain Loss 0.23730076849460602\n"
     ],
     "name": "stdout"
    },
    {
     "output_type": "stream",
     "text": [
      "100%|██████████| 19/19 [00:05<00:00,  3.53it/s]"
     ],
     "name": "stderr"
    },
    {
     "output_type": "stream",
     "text": [
      "Accuracy on test set: 0.33881578947368424\n",
      "Starting epoch 4/10, LR = [0.008]\n"
     ],
     "name": "stdout"
    },
    {
     "output_type": "stream",
     "text": [
      "\n"
     ],
     "name": "stderr"
    },
    {
     "output_type": "stream",
     "text": [
      "Step 40\n",
      "Class Loss 0.14043709635734558, Domain Loss 0.8378159403800964\n",
      "Step 50\n",
      "Class Loss 0.41940486431121826, Domain Loss 0.9407992362976074\n"
     ],
     "name": "stdout"
    },
    {
     "output_type": "stream",
     "text": [
      "100%|██████████| 19/19 [00:05<00:00,  3.50it/s]"
     ],
     "name": "stderr"
    },
    {
     "output_type": "stream",
     "text": [
      "Accuracy on test set: 0.34292763157894735\n",
      "Starting epoch 5/10, LR = [0.008]\n"
     ],
     "name": "stdout"
    },
    {
     "output_type": "stream",
     "text": [
      "\n"
     ],
     "name": "stderr"
    },
    {
     "output_type": "stream",
     "text": [
      "Step 60\n",
      "Class Loss 0.1749807745218277, Domain Loss 0.5357317924499512\n"
     ],
     "name": "stdout"
    },
    {
     "output_type": "stream",
     "text": [
      "100%|██████████| 19/19 [00:05<00:00,  3.45it/s]\n"
     ],
     "name": "stderr"
    },
    {
     "output_type": "stream",
     "text": [
      "Accuracy on test set: 0.4527138157894737\n",
      "Starting epoch 6/10, LR = [0.004]\n",
      "Step 70\n",
      "Class Loss 0.05892064422369003, Domain Loss 0.3258771300315857\n"
     ],
     "name": "stdout"
    },
    {
     "output_type": "stream",
     "text": [
      "100%|██████████| 19/19 [00:05<00:00,  3.57it/s]\n"
     ],
     "name": "stderr"
    },
    {
     "output_type": "stream",
     "text": [
      "Accuracy on test set: 0.48067434210526316\n",
      "Starting epoch 7/10, LR = [0.004]\n",
      "Step 80\n",
      "Class Loss 0.04146399721503258, Domain Loss 0.3435855209827423\n",
      "Step 90\n",
      "Class Loss 0.02043055184185505, Domain Loss 0.29543501138687134\n"
     ],
     "name": "stdout"
    },
    {
     "output_type": "stream",
     "text": [
      "100%|██████████| 19/19 [00:05<00:00,  3.46it/s]"
     ],
     "name": "stderr"
    },
    {
     "output_type": "stream",
     "text": [
      "Accuracy on test set: 0.4350328947368421\n",
      "Starting epoch 8/10, LR = [0.004]\n"
     ],
     "name": "stdout"
    },
    {
     "output_type": "stream",
     "text": [
      "\n"
     ],
     "name": "stderr"
    },
    {
     "output_type": "stream",
     "text": [
      "Step 100\n",
      "Class Loss 0.025964099913835526, Domain Loss 0.18420559167861938\n"
     ],
     "name": "stdout"
    },
    {
     "output_type": "stream",
     "text": [
      "100%|██████████| 19/19 [00:05<00:00,  3.52it/s]\n"
     ],
     "name": "stderr"
    },
    {
     "output_type": "stream",
     "text": [
      "Accuracy on test set: 0.5160361842105263\n",
      "Starting epoch 9/10, LR = [0.004]\n",
      "Step 110\n",
      "Class Loss 0.016337305307388306, Domain Loss 0.27221137285232544\n"
     ],
     "name": "stdout"
    },
    {
     "output_type": "stream",
     "text": [
      "100%|██████████| 19/19 [00:05<00:00,  3.52it/s]\n"
     ],
     "name": "stderr"
    },
    {
     "output_type": "stream",
     "text": [
      "Accuracy on test set: 0.537828947368421\n",
      "Starting epoch 10/10, LR = [0.004]\n",
      "Step 120\n",
      "Class Loss 0.025811506435275078, Domain Loss 0.2278991937637329\n"
     ],
     "name": "stdout"
    },
    {
     "output_type": "stream",
     "text": [
      "100%|██████████| 19/19 [00:05<00:00,  3.60it/s]"
     ],
     "name": "stderr"
    },
    {
     "output_type": "stream",
     "text": [
      "Accuracy on test set: 0.537828947368421\n",
      "Starting epoch 1/10, LR = [0.008]\n"
     ],
     "name": "stdout"
    },
    {
     "output_type": "stream",
     "text": [
      "\n"
     ],
     "name": "stderr"
    },
    {
     "output_type": "stream",
     "text": [
      "Step 0\n",
      "Class Loss 2.0843443870544434, Domain Loss 1.131620168685913\n",
      "Step 10\n",
      "Class Loss 0.2520465552806854, Domain Loss 1.169741153717041e-06\n"
     ],
     "name": "stdout"
    },
    {
     "output_type": "stream",
     "text": [
      "100%|██████████| 31/31 [00:08<00:00,  3.67it/s]\n"
     ],
     "name": "stderr"
    },
    {
     "output_type": "stream",
     "text": [
      "Accuracy on test set: 0.22933467741935484\n",
      "Starting epoch 2/10, LR = [0.008]\n",
      "Step 20\n",
      "Class Loss 0.23489603400230408, Domain Loss 0.003930720500648022\n"
     ],
     "name": "stdout"
    },
    {
     "output_type": "stream",
     "text": [
      "100%|██████████| 31/31 [00:08<00:00,  3.69it/s]"
     ],
     "name": "stderr"
    },
    {
     "output_type": "stream",
     "text": [
      "Accuracy on test set: 0.2210181451612903\n",
      "Starting epoch 3/10, LR = [0.008]\n"
     ],
     "name": "stdout"
    },
    {
     "output_type": "stream",
     "text": [
      "\n"
     ],
     "name": "stderr"
    },
    {
     "output_type": "stream",
     "text": [
      "Step 30\n",
      "Class Loss 0.07883342355489731, Domain Loss 0.0\n"
     ],
     "name": "stdout"
    },
    {
     "output_type": "stream",
     "text": [
      "100%|██████████| 31/31 [00:08<00:00,  3.66it/s]"
     ],
     "name": "stderr"
    },
    {
     "output_type": "stream",
     "text": [
      "Accuracy on test set: 0.16003024193548387\n",
      "Starting epoch 4/10, LR = [0.008]\n"
     ],
     "name": "stdout"
    },
    {
     "output_type": "stream",
     "text": [
      "\n"
     ],
     "name": "stderr"
    },
    {
     "output_type": "stream",
     "text": [
      "Step 40\n",
      "Class Loss 0.012986551970243454, Domain Loss 0.08733315765857697\n",
      "Step 50\n",
      "Class Loss 378829216.0, Domain Loss 129136050176.0\n"
     ],
     "name": "stdout"
    },
    {
     "output_type": "stream",
     "text": [
      "100%|██████████| 31/31 [00:08<00:00,  3.71it/s]"
     ],
     "name": "stderr"
    },
    {
     "output_type": "stream",
     "text": [
      "Accuracy on test set: 0.19455645161290322\n",
      "Starting epoch 5/10, LR = [0.008]\n"
     ],
     "name": "stdout"
    },
    {
     "output_type": "stream",
     "text": [
      "\n"
     ],
     "name": "stderr"
    },
    {
     "output_type": "stream",
     "text": [
      "Step 60\n",
      "Class Loss nan, Domain Loss nan\n"
     ],
     "name": "stdout"
    },
    {
     "output_type": "stream",
     "text": [
      "100%|██████████| 31/31 [00:08<00:00,  3.70it/s]"
     ],
     "name": "stderr"
    },
    {
     "output_type": "stream",
     "text": [
      "Accuracy on test set: 0.19455645161290322\n",
      "Starting epoch 6/10, LR = [0.004]\n"
     ],
     "name": "stdout"
    },
    {
     "output_type": "stream",
     "text": [
      "\n"
     ],
     "name": "stderr"
    },
    {
     "output_type": "stream",
     "text": [
      "Step 70\n",
      "Class Loss nan, Domain Loss nan\n",
      "EARLY STOPPING\n",
      "Best configuration is:\n",
      "{'alpha': 0.1, 'batch_size': 128, 'epochs': 10, 'gamma': 0.5, 'lr': 0.005, 'step_size': 5}\n",
      "Highest mean accuracy: 0.40203867784380304\n"
     ],
     "name": "stdout"
    }
   ]
  },
  {
   "cell_type": "code",
   "metadata": {
    "id": "0bibb5WjFqaX",
    "colab_type": "code",
    "colab": {
     "base_uri": "https://localhost:8080/",
     "height": 1000
    },
    "outputId": "579c8a1b-024e-42da-c18c-8c26f8f57f1c"
   },
   "source": [
    "params = best_conf['params']\n",
    "# params = ParameterGrid(param_grid)[0]\n",
    "\n",
    "photo_dataloader = get_train_loaders(photo, params['batch_size'])\n",
    "target_dataloader = get_train_loaders(art, params['batch_size'])\n",
    "test_dataloader = get_eval_loaders(art, params['batch_size'])\n",
    "\n",
    "dann = get_alexnet(pretrained=True)\n",
    "class_criterion, optimizer, scheduler = loss_optmizer_scheduler(dann, lr=params['lr'], step_size=params['step_size'],\n",
    "                                                                           gamma=params['gamma'])\n",
    "class_losses, domain_losses, accuracies_dann = dann_train_test(dann, photo_dataloader, target_dataloader,\n",
    "                          test_dataloader, class_criterion, optimizer, scheduler, max_epoch=params['epochs'], alpha=params['alpha'])\n",
    "\n",
    "print(f\"Photo transfer to Art accuracy DANN: {max(accuracies_dann)}\")\n",
    "saveResults(params, best_conf['best_acc'], accuracies_dann, class_losses, domain_losses=domain_losses,\n",
    "            dann=True, append=True)\n",
    "\"\"\"saveResults(params, \"_\", accuracies_dann, class_losses, domain_losses=domain_losses,\n",
    "            dann=True, append=True)\"\"\""
   ],
   "execution_count": 17,
   "outputs": [
    {
     "output_type": "stream",
     "text": [
      "Starting epoch 1/10, LR = [0.005]\n",
      "Step 0\n",
      "Class Loss 2.489631414413452, Domain Loss 1.8300917148590088\n",
      "Step 10\n",
      "Class Loss 0.13670220971107483, Domain Loss 0.5993434190750122\n"
     ],
     "name": "stdout"
    },
    {
     "output_type": "stream",
     "text": [
      "100%|██████████| 16/16 [00:04<00:00,  3.43it/s]\n"
     ],
     "name": "stderr"
    },
    {
     "output_type": "stream",
     "text": [
      "Accuracy on test set: 0.455078125\n",
      "Starting epoch 2/10, LR = [0.005]\n",
      "Step 20\n",
      "Class Loss 0.0661679208278656, Domain Loss 0.4451800286769867\n"
     ],
     "name": "stdout"
    },
    {
     "output_type": "stream",
     "text": [
      "100%|██████████| 16/16 [00:04<00:00,  3.35it/s]\n"
     ],
     "name": "stderr"
    },
    {
     "output_type": "stream",
     "text": [
      "Accuracy on test set: 0.46728515625\n",
      "Starting epoch 3/10, LR = [0.005]\n",
      "Step 30\n",
      "Class Loss 0.035510867834091187, Domain Loss 0.5779753923416138\n"
     ],
     "name": "stdout"
    },
    {
     "output_type": "stream",
     "text": [
      "100%|██████████| 16/16 [00:04<00:00,  3.44it/s]\n"
     ],
     "name": "stderr"
    },
    {
     "output_type": "stream",
     "text": [
      "Accuracy on test set: 0.47412109375\n",
      "Starting epoch 4/10, LR = [0.005]\n",
      "Step 40\n",
      "Class Loss 0.043584469705820084, Domain Loss 0.4876585006713867\n",
      "Step 50\n",
      "Class Loss 0.03070886805653572, Domain Loss 0.27418044209480286\n"
     ],
     "name": "stdout"
    },
    {
     "output_type": "stream",
     "text": [
      "100%|██████████| 16/16 [00:04<00:00,  3.35it/s]"
     ],
     "name": "stderr"
    },
    {
     "output_type": "stream",
     "text": [
      "Accuracy on test set: 0.45703125\n",
      "Starting epoch 5/10, LR = [0.005]\n"
     ],
     "name": "stdout"
    },
    {
     "output_type": "stream",
     "text": [
      "\n"
     ],
     "name": "stderr"
    },
    {
     "output_type": "stream",
     "text": [
      "Step 60\n",
      "Class Loss 0.03988689184188843, Domain Loss 0.1727486103773117\n"
     ],
     "name": "stdout"
    },
    {
     "output_type": "stream",
     "text": [
      "100%|██████████| 16/16 [00:04<00:00,  3.35it/s]"
     ],
     "name": "stderr"
    },
    {
     "output_type": "stream",
     "text": [
      "Accuracy on test set: 0.4716796875\n",
      "Starting epoch 6/10, LR = [0.0025]\n"
     ],
     "name": "stdout"
    },
    {
     "output_type": "stream",
     "text": [
      "\n"
     ],
     "name": "stderr"
    },
    {
     "output_type": "stream",
     "text": [
      "Step 70\n",
      "Class Loss 0.003283817321062088, Domain Loss 0.14059028029441833\n"
     ],
     "name": "stdout"
    },
    {
     "output_type": "stream",
     "text": [
      "100%|██████████| 16/16 [00:04<00:00,  3.41it/s]\n"
     ],
     "name": "stderr"
    },
    {
     "output_type": "stream",
     "text": [
      "Accuracy on test set: 0.494140625\n",
      "Starting epoch 7/10, LR = [0.0025]\n",
      "Step 80\n",
      "Class Loss 0.00299091637134552, Domain Loss 0.061213769018650055\n",
      "Step 90\n",
      "Class Loss 0.0020192712545394897, Domain Loss 0.11211389303207397\n"
     ],
     "name": "stdout"
    },
    {
     "output_type": "stream",
     "text": [
      "100%|██████████| 16/16 [00:04<00:00,  3.40it/s]\n"
     ],
     "name": "stderr"
    },
    {
     "output_type": "stream",
     "text": [
      "Accuracy on test set: 0.498046875\n",
      "Starting epoch 8/10, LR = [0.0025]\n",
      "Step 100\n",
      "Class Loss 0.007447302341461182, Domain Loss 0.07631897926330566\n"
     ],
     "name": "stdout"
    },
    {
     "output_type": "stream",
     "text": [
      "100%|██████████| 16/16 [00:04<00:00,  3.37it/s]\n"
     ],
     "name": "stderr"
    },
    {
     "output_type": "stream",
     "text": [
      "Accuracy on test set: 0.4921875\n",
      "Starting epoch 9/10, LR = [0.0025]\n",
      "Step 110\n",
      "Class Loss 0.016114860773086548, Domain Loss 0.0849895253777504\n"
     ],
     "name": "stdout"
    },
    {
     "output_type": "stream",
     "text": [
      "100%|██████████| 16/16 [00:04<00:00,  3.39it/s]\n"
     ],
     "name": "stderr"
    },
    {
     "output_type": "stream",
     "text": [
      "Accuracy on test set: 0.5\n",
      "Starting epoch 10/10, LR = [0.0025]\n",
      "Step 120\n",
      "Class Loss 0.001305554062128067, Domain Loss 0.10307952761650085\n"
     ],
     "name": "stdout"
    },
    {
     "output_type": "stream",
     "text": [
      "100%|██████████| 16/16 [00:04<00:00,  3.45it/s]"
     ],
     "name": "stderr"
    },
    {
     "output_type": "stream",
     "text": [
      "Accuracy on test set: 0.494140625\n",
      "Photo transfer to Art accuracy DANN: 0.5\n",
      "********* FILE SAVED *********\n"
     ],
     "name": "stdout"
    },
    {
     "output_type": "stream",
     "text": [
      "\n"
     ],
     "name": "stderr"
    },
    {
     "output_type": "execute_result",
     "data": {
      "application/vnd.google.colaboratory.intrinsic": {
       "type": "string"
      },
      "text/plain": [
       "'saveResults(params, \"_\", accuracies_dann, class_losses, domain_losses=domain_losses,\\n            dann=True, append=True)'"
      ]
     },
     "metadata": {
      "tags": []
     },
     "execution_count": 17
    }
   ]
  }
 ]
}