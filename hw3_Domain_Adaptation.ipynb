{
 "nbformat": 4,
 "nbformat_minor": 0,
 "metadata": {
  "kernelspec": {
   "display_name": "Python 3",
   "language": "python",
   "name": "python3"
  },
  "language_info": {
   "codemirror_mode": {
    "name": "ipython",
    "version": 2
   },
   "file_extension": ".py",
   "mimetype": "text/x-python",
   "name": "python",
   "nbconvert_exporter": "python",
   "pygments_lexer": "ipython2",
   "version": "2.7.6"
  },
  "pycharm": {
   "stem_cell": {
    "cell_type": "raw",
    "source": [],
    "metadata": {
     "collapsed": false
    }
   }
  },
  "colab": {
   "name": "hw3-Domain Adaptation.ipynb",
   "provenance": [],
   "collapsed_sections": []
  },
  "accelerator": "GPU"
 },
 "cells": [
  {
   "cell_type": "code",
   "metadata": {
    "id": "2_6xQu_Fp1S1",
    "colab_type": "code",
    "colab": {
     "base_uri": "https://localhost:8080/",
     "height": 51
    },
    "outputId": "a6e8c8b1-f50f-43e6-e210-07cd5ea30720"
   },
   "source": [
    "# memory footprint support libraries/code\n",
    "!ln -sf /opt/bin/nvidia-smi /usr/bin/nvidia-smi\n",
    "!pip install gputil\n",
    "\n",
    "import GPUtil as GPU\n",
    "\n",
    "GPUs = GPU.getGPUs()\n",
    "# XXX: only one GPU on Colab and isn’t guaranteed\n",
    "gpu = GPUs[0]\n",
    "print(gpu.name)"
   ],
   "execution_count": 1,
   "outputs": [
    {
     "output_type": "stream",
     "text": [
      "Requirement already satisfied: gputil in /usr/local/lib/python3.6/dist-packages (1.4.0)\n",
      "Tesla P100-PCIE-16GB\n"
     ],
     "name": "stdout"
    }
   ]
  },
  {
   "cell_type": "code",
   "metadata": {
    "pycharm": {
     "name": "#%%\n",
     "is_executing": false
    },
    "id": "7byL80PWb83r",
    "colab_type": "code",
    "colab": {}
   },
   "source": [
    "import os\n",
    "if not os.path.isdir('./Pacs'):\n",
    "  !git clone https://github.com/lore-lml/machine-learning2020-hw3.git\n",
    "  !mv 'machine-learning2020-hw3' 'Pacs'\n",
    "  !rm './Pacs/hw3.ipynb'\n",
    "  !rm './Pacs/README.md'\n",
    "\n",
    "import logging\n",
    "import numpy as np\n",
    "import torch\n",
    "import torch.nn as nn\n",
    "import torch.optim as optim\n",
    "from torch.utils.data import Subset, DataLoader\n",
    "from torch.backends import cudnn\n",
    "from sklearn.model_selection import ParameterGrid\n",
    "from Pacs.dann import alexnet\n",
    "from Pacs.dann import train_no_dann, test_target, dann_train_src_target\n",
    "import matplotlib.pyplot as plt\n",
    "import torchvision\n",
    "from torchvision import transforms\n",
    "from Pacs.pacs_dataset import Pacs\n",
    "from PIL import Image\n",
    "from tqdm import tqdm\n",
    "%matplotlib inline"
   ],
   "execution_count": 2,
   "outputs": []
  },
  {
   "cell_type": "markdown",
   "metadata": {
    "collapsed": false,
    "pycharm": {
     "name": "#%% md\n"
    },
    "id": "9Fmn_TeAb83t",
    "colab_type": "text"
   },
   "source": [
    "**Set Arguments**"
   ]
  },
  {
   "cell_type": "code",
   "metadata": {
    "pycharm": {
     "name": "#%%\n",
     "is_executing": false
    },
    "id": "BKmhLZ0xb83t",
    "colab_type": "code",
    "colab": {}
   },
   "source": [
    "DEVICE = 'cuda'\n",
    "\n",
    "NUM_CLASSES = 7\n",
    "\n",
    "BATCH_SIZE = 128      # Higher batch sizes allows for larger learning rates. An empirical heuristic suggests that, when changing\n",
    "                      # the batch size, learning rate should change by the same factor to have comparable results\n",
    "\n",
    "LR = 1e-3             # The initial Learning Rate\n",
    "MOMENTUM = 0.9        # Hyperparameter for SGD, keep this at 0.9 when using SGD\n",
    "WEIGHT_DECAY = 5e-5   \n",
    "\n",
    "NUM_EPOCHS = 10       # Total number of training epochs (iterations over dataset)\n",
    "STEP_SIZE = 3         # How many epochs before decreasing learning rate (if using a step-down policy)\n",
    "GAMMA = 0.5           # Multiplicative factor for learning rate step-down\n",
    "\n",
    "ALPHA = 'dynamic'\n",
    "\n",
    "param_grid = {\n",
    "    \"batch_size\": [128],\n",
    "    \"epochs\": [10],\n",
    "    \"lr\": [5e-3, 8e-3],\n",
    "    \"gamma\": [0.5],\n",
    "    \"step_size\": [5, 10],\n",
    "    \"alpha\": [0.1, 0.2, 'dynamic']\n",
    "}\n",
    "\n",
    "BASE_FILE_PATH = \"RUN_3\""
   ],
   "execution_count": 3,
   "outputs": []
  },
  {
   "cell_type": "markdown",
   "metadata": {
    "collapsed": false,
    "pycharm": {
     "name": "#%% md\n"
    },
    "id": "6sa6Y8Pzb83v",
    "colab_type": "text"
   },
   "source": [
    "**Define Data Preprocessing**"
   ]
  },
  {
   "cell_type": "code",
   "metadata": {
    "pycharm": {
     "name": "#%%\n",
     "is_executing": false
    },
    "id": "A5W7Cni-b83w",
    "colab_type": "code",
    "colab": {}
   },
   "source": [
    "transforms = transforms.Compose([transforms.Resize(256),      # Resizes short size of the PIL image to 256\n",
    "                                      transforms.CenterCrop(224),  # Crops a central square patch of the image\n",
    "                                                                   # 224 because torchvision's AlexNet needs a 224x224 input!\n",
    "                                                                   # Remember this when applying different transformations, otherwise you get an error\n",
    "                                      transforms.ToTensor(), # Turn PIL Image to torch.Tensor\n",
    "                                      transforms.Normalize((0.485, 0.456, 0.406), (0.229, 0.224, 0.225)) # Normalizes tensor with mean and standard deviation\n",
    "])"
   ],
   "execution_count": 4,
   "outputs": []
  },
  {
   "cell_type": "markdown",
   "metadata": {
    "collapsed": false,
    "pycharm": {
     "name": "#%% md\n"
    },
    "id": "P6EG9H2ob83y",
    "colab_type": "text"
   },
   "source": [
    "**Prepare Dataset**"
   ]
  },
  {
   "cell_type": "code",
   "metadata": {
    "pycharm": {
     "name": "#%%\n",
     "is_executing": false
    },
    "id": "D39D-n0Qb83y",
    "colab_type": "code",
    "colab": {
     "base_uri": "https://localhost:8080/",
     "height": 170
    },
    "outputId": "2cbf6123-1be8-4db7-8f77-ba200b70150f"
   },
   "source": [
    "ROOT = 'Pacs/PACS'\n",
    "\n",
    "photo = Pacs(ROOT, transform=transforms, source='photo')\n",
    "cartoon = Pacs(ROOT, transform=transforms, source='cartoon')\n",
    "sketch = Pacs(ROOT, transform=transforms, source='sketch')\n",
    "art = Pacs(ROOT, transform=transforms, source='art_painting')\n",
    "\n",
    "_, photo_labels = photo.get_img_with_labels()\n",
    "_, cartoon_labels = cartoon.get_img_with_labels()\n",
    "_, sketch_labels = sketch.get_img_with_labels()\n",
    "_, art_labels = art.get_img_with_labels()\n",
    "\n",
    "print(f\"# classes source_data: {len(set(photo_labels))}\")\n",
    "print(f\"# classes cartoon_data: {len(set(cartoon_labels))}\")\n",
    "print(f\"# classes sketch_data: {len(set(sketch_labels))}\")\n",
    "print(f\"# classes target_data: {len(set(art_labels))}\")\n",
    "print(f\"source_data: {len(photo)} elements\")\n",
    "print(f\"cartoon_data: {len(cartoon)} elements\")\n",
    "print(f\"sketch_data: {len(sketch)} elements\")\n",
    "print(f\"target_data: {len(art)} elements\")\n",
    "print(f\"total images: {len(photo) + len(cartoon) + len(sketch) + len(art)}\")"
   ],
   "execution_count": 5,
   "outputs": [
    {
     "output_type": "stream",
     "text": [
      "# classes source_data: 7\n",
      "# classes cartoon_data: 7\n",
      "# classes sketch_data: 7\n",
      "# classes target_data: 7\n",
      "source_data: 1670 elements\n",
      "cartoon_data: 2344 elements\n",
      "sketch_data: 3929 elements\n",
      "target_data: 2048 elements\n",
      "total images: 9991\n"
     ],
     "name": "stdout"
    }
   ]
  },
  {
   "cell_type": "markdown",
   "metadata": {
    "collapsed": false,
    "pycharm": {
     "name": "#%% md\n"
    },
    "id": "BK7TcuLPb830",
    "colab_type": "text"
   },
   "source": [
    "**Prepare Dataloaders**"
   ]
  },
  {
   "cell_type": "code",
   "metadata": {
    "pycharm": {
     "name": "#%%\n",
     "is_executing": false
    },
    "id": "ou9I6xRrb831",
    "colab_type": "code",
    "colab": {}
   },
   "source": [
    "def get_train_loaders(dataset, batch_size=BATCH_SIZE):\n",
    "  return DataLoader(dataset, batch_size=batch_size, shuffle=True, num_workers=4, drop_last=True)\n",
    "\n",
    "def get_eval_loaders(dataset, batch_size=BATCH_SIZE):\n",
    "  return  DataLoader(dataset, batch_size=batch_size, shuffle=False, num_workers=4, drop_last=False)\n"
   ],
   "execution_count": 7,
   "outputs": []
  },
  {
   "cell_type": "markdown",
   "metadata": {
    "collapsed": false,
    "pycharm": {
     "name": "#%% md\n"
    },
    "id": "9-Olxfg0b833",
    "colab_type": "text"
   },
   "source": [
    "**Prepare Network**"
   ]
  },
  {
   "cell_type": "code",
   "metadata": {
    "pycharm": {
     "name": "#%%\n",
     "is_executing": false
    },
    "id": "GJ3NssxCb833",
    "colab_type": "code",
    "colab": {}
   },
   "source": [
    "def get_alexnet(pretrained=False):\n",
    "    return alexnet(pretrained)\n",
    "\n",
    "def loss_optmizer_scheduler(model, lr=LR, step_size=STEP_SIZE, gamma=GAMMA):\n",
    "  \n",
    "  # Define loss function\n",
    "  criterion = nn.CrossEntropyLoss() # for classification, we use Cross Entropy\n",
    "  parameters_to_optimize = model.parameters() # In this case we optimize over all the parameters of AlexNet\n",
    "  \n",
    "  optimizer = optim.SGD(parameters_to_optimize, lr=lr, momentum=MOMENTUM, weight_decay=WEIGHT_DECAY)\n",
    "  #optimizer = optim.Adam(parameters_to_optimize, lr=lr,amsgrad=True)\n",
    "  #optimizer = optim.AdamW(parameters_to_optimize, lr=lr,amsgrad=True, weight_decay=WEIGHT_DECAY)\n",
    "  scheduler = optim.lr_scheduler.StepLR(optimizer, step_size=step_size, gamma=gamma)\n",
    "\n",
    "  return criterion, optimizer, scheduler"
   ],
   "execution_count": 8,
   "outputs": []
  },
  {
   "cell_type": "markdown",
   "metadata": {
    "collapsed": false,
    "pycharm": {
     "name": "#%% md\n"
    },
    "id": "s0JrvlXOb835",
    "colab_type": "text"
   },
   "source": [
    "**Training**"
   ]
  },
  {
   "cell_type": "code",
   "metadata": {
    "id": "QIizYiGruKpg",
    "colab_type": "code",
    "colab": {}
   },
   "source": [
    "def saveResults(configuration, best_mean_accuracy, accuracies_test, class_losses, domain_losses=None,\n",
    "                dann=False, append=False, base_path=BASE_FILE_PATH):\n",
    "  suffix_path = \"_results.txt\"\n",
    "  mode = \"a\" if append else \"w\"\n",
    "  with open(f\"{base_path}{suffix_path}\", mode, encoding='utf-8') as f:\n",
    "      title = \"********** WITHOUD DANN **********\" if not dann else \"********** WITH DANN **********\"\n",
    "      f.write(f\"{title}\\n\")\n",
    "      f.write(f\"Best Configuration:\\n{configuration}\\n\\n\")\n",
    "      f.write(f\"Best Mean Accuracy: {best_mean_accuracy}\\n\")\n",
    "      f.write(f\"Accuracies on Target:\\n\")\n",
    "      join = \",\".join(list(map(lambda x: str(x), accuracies_test)))\n",
    "      f.write(f\"{join}\\n\")\n",
    "      f.write(f\"Best Accuracy on Target: {max(accuracies_test)}\\n\")\n",
    "      f.write(\"Class Losses:\\n\")\n",
    "      join = \",\".join(list(map(lambda x: str(x), class_losses)))\n",
    "      f.write(f\"{join}\\n\")\n",
    "      if dann and domain_losses is not None:\n",
    "        f.write(\"Domain Losses:\\n\")\n",
    "        join = \",\".join(list(map(lambda x: str(x), domain_losses)))\n",
    "        f.write(f\"{join}\\n\")\n",
    "      f.write(\"\\n\\n\")\n",
    "\n",
    "  print(\"********* FILE SAVED *********\")"
   ],
   "execution_count": 9,
   "outputs": []
  },
  {
   "cell_type": "code",
   "metadata": {
    "pycharm": {
     "name": "#%%\n"
    },
    "id": "VnMriGBgb836",
    "colab_type": "code",
    "colab": {}
   },
   "source": [
    "def train(net, src_dataloader, test_dataloader, criterion, optimizer, scheduler, max_epoch=NUM_EPOCHS, device=DEVICE):\n",
    "    train_losses = []\n",
    "    accuracies = []\n",
    "    \n",
    "    net = net.to(device)\n",
    "    cudnn.benchmark\n",
    "    \n",
    "    current_step = 0\n",
    "    for epoch in range(max_epoch):\n",
    "        print('Starting epoch {}/{}, LR = {}'.format(epoch+1, max_epoch, scheduler.get_last_lr()))\n",
    "        cumulative_loss, current_step = train_no_dann(net, src_dataloader, optimizer, criterion, current_step, device)\n",
    "        curr_loss = cumulative_loss / len(src_dataloader)\n",
    "        train_losses.append(curr_loss)\n",
    "        \n",
    "        curr_accuracy = test_target(net, test_dataloader, device) / float(len(test_dataloader)*BATCH_SIZE)\n",
    "        accuracies.append(curr_accuracy)\n",
    "        print(f\"\\tCurrent Accuracy: {curr_accuracy}\")\n",
    "        \n",
    "        scheduler.step()\n",
    "        \n",
    "    return train_losses, accuracies"
   ],
   "execution_count": 10,
   "outputs": []
  },
  {
   "cell_type": "code",
   "metadata": {
    "id": "IM2bTGW966Bw",
    "colab_type": "code",
    "colab": {
     "base_uri": "https://localhost:8080/",
     "height": 1000
    },
    "outputId": "5d6237e4-1c37-46f4-dceb-cc864dffdc44"
   },
   "source": [
    "grid = dict(param_grid)\n",
    "del grid['alpha']\n",
    "\n",
    "grid = ParameterGrid(grid)\n",
    "results = []\n",
    "for config in grid:\n",
    "  photo_dataloader = get_train_loaders(photo, config['batch_size'])\n",
    "  cartoon_eval_dataloader = get_eval_loaders(cartoon, config['batch_size'])\n",
    "  sketch_eval_dataloader = get_eval_loaders(sketch, config['batch_size'])\n",
    "  no_dann_cartoon = get_alexnet(pretrained=True)\n",
    "  criterion_cartoon, optimizer_cartoon, scheduler_cartoon = loss_optmizer_scheduler(no_dann_cartoon, lr=config['lr'], \n",
    "                                                                          step_size=config['step_size'], gamma=config['gamma'])\n",
    "  no_dann_sketch = get_alexnet(pretrained=True)\n",
    "  criterion_sketch, optimizer_sketch, scheduler_sketch = loss_optmizer_scheduler(no_dann_sketch, lr=config['lr'], \n",
    "                                                                          step_size=config['step_size'], gamma=config['gamma'])\n",
    "\n",
    "  cartoon_losses, cartoon_accuracies = train_no_dann(no_dann_cartoon, photo_dataloader, cartoon_eval_dataloader, \n",
    "                                                           criterion_cartoon, optimizer_cartoon, scheduler_cartoon, max_epoch=config['epochs'])\n",
    "  sketch_losses, sketch_accuracies = train_no_dann(no_dann_sketch, photo_dataloader, sketch_eval_dataloader, \n",
    "                                                         criterion_sketch, optimizer_sketch, scheduler_sketch, max_epoch=config['epochs'])\n",
    "\n",
    "  curr_result = {'params': config, 'cartoon_losses': cartoon_losses, 'sketch_losses': sketch_losses, \n",
    "                 'best_acc': np.mean([max(cartoon_accuracies), max(sketch_accuracies)])}\n",
    "  results.append(curr_result)\n",
    "  \n",
    "best_conf = max(results, key=lambda x: x['best_acc'])\n",
    "print(f\"Best conf:\\n{best_conf['params']}\")\n",
    "print(f\"Highest accuracy mean: {best_conf['best_acc']}\")\n"
   ],
   "execution_count": null,
   "outputs": [
    {
     "output_type": "stream",
     "text": [
      "Starting epoch 1/10, LR = [0.005]\n"
     ],
     "name": "stdout"
    },
    {
     "output_type": "stream",
     "text": [
      "/usr/local/lib/python3.6/dist-packages/torch/optim/lr_scheduler.py:351: UserWarning: To get the last learning rate computed by the scheduler, please use `get_last_lr()`.\n",
      "  \"please use `get_last_lr()`.\", UserWarning)\n"
     ],
     "name": "stderr"
    },
    {
     "output_type": "stream",
     "text": [
      "Step 0, Loss_train 2.273390769958496\n",
      "Step 10, Loss_train 0.26789918541908264\n"
     ],
     "name": "stdout"
    },
    {
     "output_type": "stream",
     "text": [
      "100%|██████████| 19/19 [00:06<00:00,  2.95it/s]"
     ],
     "name": "stderr"
    },
    {
     "output_type": "stream",
     "text": [
      "Current Accuracy: 0.23779296875\n",
      "Starting epoch 2/10, LR = [0.005]\n"
     ],
     "name": "stdout"
    },
    {
     "output_type": "stream",
     "text": [
      "\n"
     ],
     "name": "stderr"
    },
    {
     "output_type": "stream",
     "text": [
      "Step 20, Loss_train 0.07214878499507904\n"
     ],
     "name": "stdout"
    },
    {
     "output_type": "stream",
     "text": [
      "100%|██████████| 19/19 [00:06<00:00,  2.98it/s]"
     ],
     "name": "stderr"
    },
    {
     "output_type": "stream",
     "text": [
      "Current Accuracy: 0.30078125\n",
      "Starting epoch 3/10, LR = [0.005]\n"
     ],
     "name": "stdout"
    },
    {
     "output_type": "stream",
     "text": [
      "\n"
     ],
     "name": "stderr"
    },
    {
     "output_type": "stream",
     "text": [
      "Step 30, Loss_train 0.08313610404729843\n"
     ],
     "name": "stdout"
    },
    {
     "output_type": "stream",
     "text": [
      "100%|██████████| 19/19 [00:06<00:00,  3.03it/s]"
     ],
     "name": "stderr"
    },
    {
     "output_type": "stream",
     "text": [
      "Current Accuracy: 0.39892578125\n",
      "Starting epoch 4/10, LR = [0.005]\n"
     ],
     "name": "stdout"
    },
    {
     "output_type": "stream",
     "text": [
      "\n"
     ],
     "name": "stderr"
    },
    {
     "output_type": "stream",
     "text": [
      "Step 40, Loss_train 0.02156943827867508\n",
      "Step 50, Loss_train 0.011700045317411423\n"
     ],
     "name": "stdout"
    },
    {
     "output_type": "stream",
     "text": [
      "100%|██████████| 19/19 [00:06<00:00,  2.98it/s]"
     ],
     "name": "stderr"
    },
    {
     "output_type": "stream",
     "text": [
      "Current Accuracy: 0.3505859375\n",
      "Starting epoch 5/10, LR = [0.005]\n"
     ],
     "name": "stdout"
    },
    {
     "output_type": "stream",
     "text": [
      "\n"
     ],
     "name": "stderr"
    },
    {
     "output_type": "stream",
     "text": [
      "Step 60, Loss_train 0.010178126394748688\n"
     ],
     "name": "stdout"
    },
    {
     "output_type": "stream",
     "text": [
      "100%|██████████| 19/19 [00:06<00:00,  2.95it/s]"
     ],
     "name": "stderr"
    },
    {
     "output_type": "stream",
     "text": [
      "Current Accuracy: 0.357421875\n",
      "Starting epoch 6/10, LR = [0.00125]\n"
     ],
     "name": "stdout"
    },
    {
     "output_type": "stream",
     "text": [
      "\n"
     ],
     "name": "stderr"
    },
    {
     "output_type": "stream",
     "text": [
      "Step 70, Loss_train 0.007176686078310013\n"
     ],
     "name": "stdout"
    },
    {
     "output_type": "stream",
     "text": [
      "100%|██████████| 19/19 [00:06<00:00,  2.97it/s]"
     ],
     "name": "stderr"
    },
    {
     "output_type": "stream",
     "text": [
      "Current Accuracy: 0.35400390625\n",
      "Starting epoch 7/10, LR = [0.0025]\n"
     ],
     "name": "stdout"
    },
    {
     "output_type": "stream",
     "text": [
      "\n"
     ],
     "name": "stderr"
    },
    {
     "output_type": "stream",
     "text": [
      "Step 80, Loss_train 0.0033468715846538544\n",
      "Step 90, Loss_train 0.003712169826030731\n"
     ],
     "name": "stdout"
    },
    {
     "output_type": "stream",
     "text": [
      "100%|██████████| 19/19 [00:06<00:00,  2.95it/s]"
     ],
     "name": "stderr"
    },
    {
     "output_type": "stream",
     "text": [
      "Current Accuracy: 0.3251953125\n",
      "Starting epoch 8/10, LR = [0.0025]\n"
     ],
     "name": "stdout"
    },
    {
     "output_type": "stream",
     "text": [
      "\n"
     ],
     "name": "stderr"
    },
    {
     "output_type": "stream",
     "text": [
      "Step 100, Loss_train 0.003467969596385956\n"
     ],
     "name": "stdout"
    },
    {
     "output_type": "stream",
     "text": [
      "100%|██████████| 19/19 [00:06<00:00,  2.97it/s]"
     ],
     "name": "stderr"
    },
    {
     "output_type": "stream",
     "text": [
      "Current Accuracy: 0.34814453125\n",
      "Starting epoch 9/10, LR = [0.0025]\n"
     ],
     "name": "stdout"
    },
    {
     "output_type": "stream",
     "text": [
      "\n"
     ],
     "name": "stderr"
    },
    {
     "output_type": "stream",
     "text": [
      "Step 110, Loss_train 0.0011091679334640503\n"
     ],
     "name": "stdout"
    },
    {
     "output_type": "stream",
     "text": [
      "100%|██████████| 19/19 [00:06<00:00,  2.97it/s]"
     ],
     "name": "stderr"
    },
    {
     "output_type": "stream",
     "text": [
      "Current Accuracy: 0.3701171875\n",
      "Starting epoch 10/10, LR = [0.0025]\n"
     ],
     "name": "stdout"
    },
    {
     "output_type": "stream",
     "text": [
      "\n"
     ],
     "name": "stderr"
    },
    {
     "output_type": "stream",
     "text": [
      "Step 120, Loss_train 0.0006769336760044098\n"
     ],
     "name": "stdout"
    },
    {
     "output_type": "stream",
     "text": [
      "100%|██████████| 19/19 [00:06<00:00,  2.99it/s]"
     ],
     "name": "stderr"
    },
    {
     "output_type": "stream",
     "text": [
      "Current Accuracy: 0.36669921875\n",
      "Starting epoch 1/10, LR = [0.005]\n"
     ],
     "name": "stdout"
    },
    {
     "output_type": "stream",
     "text": [
      "\n"
     ],
     "name": "stderr"
    },
    {
     "output_type": "stream",
     "text": [
      "Step 0, Loss_train 2.2945613861083984\n",
      "Step 10, Loss_train 0.1820831000804901\n"
     ],
     "name": "stdout"
    },
    {
     "output_type": "stream",
     "text": [
      "100%|██████████| 31/31 [00:10<00:00,  3.09it/s]"
     ],
     "name": "stderr"
    },
    {
     "output_type": "stream",
     "text": [
      "Current Accuracy: 0.39111328125\n",
      "Starting epoch 2/10, LR = [0.005]\n"
     ],
     "name": "stdout"
    },
    {
     "output_type": "stream",
     "text": [
      "\n"
     ],
     "name": "stderr"
    },
    {
     "output_type": "stream",
     "text": [
      "Step 20, Loss_train 0.04857730120420456\n"
     ],
     "name": "stdout"
    },
    {
     "output_type": "stream",
     "text": [
      "100%|██████████| 31/31 [00:10<00:00,  3.08it/s]"
     ],
     "name": "stderr"
    },
    {
     "output_type": "stream",
     "text": [
      "Current Accuracy: 0.54541015625\n",
      "Starting epoch 3/10, LR = [0.005]\n"
     ],
     "name": "stdout"
    },
    {
     "output_type": "stream",
     "text": [
      "\n"
     ],
     "name": "stderr"
    },
    {
     "output_type": "stream",
     "text": [
      "Step 30, Loss_train 0.034166641533374786\n"
     ],
     "name": "stdout"
    },
    {
     "output_type": "stream",
     "text": [
      "100%|██████████| 31/31 [00:10<00:00,  3.09it/s]"
     ],
     "name": "stderr"
    },
    {
     "output_type": "stream",
     "text": [
      "Current Accuracy: 0.50048828125\n",
      "Starting epoch 4/10, LR = [0.005]\n"
     ],
     "name": "stdout"
    },
    {
     "output_type": "stream",
     "text": [
      "\n"
     ],
     "name": "stderr"
    },
    {
     "output_type": "stream",
     "text": [
      "Step 40, Loss_train 0.028646765276789665\n",
      "Step 50, Loss_train 0.034060992300510406\n"
     ],
     "name": "stdout"
    },
    {
     "output_type": "stream",
     "text": [
      "100%|██████████| 31/31 [00:09<00:00,  3.10it/s]"
     ],
     "name": "stderr"
    },
    {
     "output_type": "stream",
     "text": [
      "Current Accuracy: 0.5625\n",
      "Starting epoch 5/10, LR = [0.005]\n"
     ],
     "name": "stdout"
    },
    {
     "output_type": "stream",
     "text": [
      "\n"
     ],
     "name": "stderr"
    },
    {
     "output_type": "stream",
     "text": [
      "Step 60, Loss_train 0.01955336332321167\n"
     ],
     "name": "stdout"
    },
    {
     "output_type": "stream",
     "text": [
      "100%|██████████| 31/31 [00:10<00:00,  3.07it/s]"
     ],
     "name": "stderr"
    },
    {
     "output_type": "stream",
     "text": [
      "Current Accuracy: 0.5634765625\n",
      "Starting epoch 6/10, LR = [0.00125]\n"
     ],
     "name": "stdout"
    },
    {
     "output_type": "stream",
     "text": [
      "\n"
     ],
     "name": "stderr"
    },
    {
     "output_type": "stream",
     "text": [
      "Step 70, Loss_train 0.002257034182548523\n"
     ],
     "name": "stdout"
    },
    {
     "output_type": "stream",
     "text": [
      "100%|██████████| 31/31 [00:10<00:00,  3.05it/s]"
     ],
     "name": "stderr"
    },
    {
     "output_type": "stream",
     "text": [
      "Current Accuracy: 0.5830078125\n",
      "Starting epoch 7/10, LR = [0.0025]\n"
     ],
     "name": "stdout"
    },
    {
     "output_type": "stream",
     "text": [
      "\n"
     ],
     "name": "stderr"
    },
    {
     "output_type": "stream",
     "text": [
      "Step 80, Loss_train 0.004640601575374603\n",
      "Step 90, Loss_train 0.0018635578453540802\n"
     ],
     "name": "stdout"
    },
    {
     "output_type": "stream",
     "text": [
      "100%|██████████| 31/31 [00:10<00:00,  3.09it/s]"
     ],
     "name": "stderr"
    },
    {
     "output_type": "stream",
     "text": [
      "Current Accuracy: 0.580078125\n",
      "Starting epoch 8/10, LR = [0.0025]\n"
     ],
     "name": "stdout"
    },
    {
     "output_type": "stream",
     "text": [
      "\n"
     ],
     "name": "stderr"
    },
    {
     "output_type": "stream",
     "text": [
      "Step 100, Loss_train 0.0038894079625606537\n"
     ],
     "name": "stdout"
    },
    {
     "output_type": "stream",
     "text": [
      "100%|██████████| 31/31 [00:10<00:00,  3.00it/s]"
     ],
     "name": "stderr"
    },
    {
     "output_type": "stream",
     "text": [
      "Current Accuracy: 0.58349609375\n",
      "Starting epoch 9/10, LR = [0.0025]\n"
     ],
     "name": "stdout"
    },
    {
     "output_type": "stream",
     "text": [
      "\n"
     ],
     "name": "stderr"
    },
    {
     "output_type": "stream",
     "text": [
      "Step 110, Loss_train 0.0003662481904029846\n"
     ],
     "name": "stdout"
    },
    {
     "output_type": "stream",
     "text": [
      "100%|██████████| 31/31 [00:10<00:00,  3.09it/s]"
     ],
     "name": "stderr"
    },
    {
     "output_type": "stream",
     "text": [
      "Current Accuracy: 0.58251953125\n",
      "Starting epoch 10/10, LR = [0.0025]\n"
     ],
     "name": "stdout"
    },
    {
     "output_type": "stream",
     "text": [
      "\n"
     ],
     "name": "stderr"
    },
    {
     "output_type": "stream",
     "text": [
      "Step 120, Loss_train 0.0013030245900154114\n"
     ],
     "name": "stdout"
    },
    {
     "output_type": "stream",
     "text": [
      "100%|██████████| 31/31 [00:10<00:00,  3.09it/s]\n"
     ],
     "name": "stderr"
    },
    {
     "output_type": "stream",
     "text": [
      "Current Accuracy: 0.57763671875\n",
      "Starting epoch 1/10, LR = [0.005]\n",
      "Step 0, Loss_train 2.4561870098114014\n",
      "Step 10, Loss_train 0.35899507999420166\n"
     ],
     "name": "stdout"
    },
    {
     "output_type": "stream",
     "text": [
      "100%|██████████| 19/19 [00:06<00:00,  2.96it/s]"
     ],
     "name": "stderr"
    },
    {
     "output_type": "stream",
     "text": [
      "Current Accuracy: 0.267578125\n",
      "Starting epoch 2/10, LR = [0.005]\n"
     ],
     "name": "stdout"
    },
    {
     "output_type": "stream",
     "text": [
      "\n"
     ],
     "name": "stderr"
    },
    {
     "output_type": "stream",
     "text": [
      "Step 20, Loss_train 0.13062700629234314\n"
     ],
     "name": "stdout"
    },
    {
     "output_type": "stream",
     "text": [
      "100%|██████████| 19/19 [00:06<00:00,  2.94it/s]"
     ],
     "name": "stderr"
    },
    {
     "output_type": "stream",
     "text": [
      "Current Accuracy: 0.35693359375\n",
      "Starting epoch 3/10, LR = [0.005]\n"
     ],
     "name": "stdout"
    },
    {
     "output_type": "stream",
     "text": [
      "\n"
     ],
     "name": "stderr"
    },
    {
     "output_type": "stream",
     "text": [
      "Step 30, Loss_train 0.034585919231176376\n"
     ],
     "name": "stdout"
    },
    {
     "output_type": "stream",
     "text": [
      "100%|██████████| 19/19 [00:06<00:00,  2.94it/s]"
     ],
     "name": "stderr"
    },
    {
     "output_type": "stream",
     "text": [
      "Current Accuracy: 0.30810546875\n",
      "Starting epoch 4/10, LR = [0.005]\n"
     ],
     "name": "stdout"
    },
    {
     "output_type": "stream",
     "text": [
      "\n"
     ],
     "name": "stderr"
    },
    {
     "output_type": "stream",
     "text": [
      "Step 40, Loss_train 0.016523417085409164\n",
      "Step 50, Loss_train 0.005702085793018341\n"
     ],
     "name": "stdout"
    },
    {
     "output_type": "stream",
     "text": [
      "100%|██████████| 19/19 [00:06<00:00,  2.96it/s]"
     ],
     "name": "stderr"
    },
    {
     "output_type": "stream",
     "text": [
      "Current Accuracy: 0.3876953125\n",
      "Starting epoch 5/10, LR = [0.005]\n"
     ],
     "name": "stdout"
    },
    {
     "output_type": "stream",
     "text": [
      "\n"
     ],
     "name": "stderr"
    },
    {
     "output_type": "stream",
     "text": [
      "Step 60, Loss_train 0.019483724609017372\n"
     ],
     "name": "stdout"
    },
    {
     "output_type": "stream",
     "text": [
      "100%|██████████| 19/19 [00:06<00:00,  2.99it/s]"
     ],
     "name": "stderr"
    },
    {
     "output_type": "stream",
     "text": [
      "Current Accuracy: 0.3359375\n",
      "Starting epoch 6/10, LR = [0.005]\n"
     ],
     "name": "stdout"
    },
    {
     "output_type": "stream",
     "text": [
      "\n"
     ],
     "name": "stderr"
    },
    {
     "output_type": "stream",
     "text": [
      "Step 70, Loss_train 0.01444980874657631\n"
     ],
     "name": "stdout"
    },
    {
     "output_type": "stream",
     "text": [
      "100%|██████████| 19/19 [00:06<00:00,  2.96it/s]"
     ],
     "name": "stderr"
    },
    {
     "output_type": "stream",
     "text": [
      "Current Accuracy: 0.36083984375\n",
      "Starting epoch 7/10, LR = [0.005]\n"
     ],
     "name": "stdout"
    },
    {
     "output_type": "stream",
     "text": [
      "\n"
     ],
     "name": "stderr"
    },
    {
     "output_type": "stream",
     "text": [
      "Step 80, Loss_train 0.004599522799253464\n",
      "Step 90, Loss_train 0.0026515908539295197\n"
     ],
     "name": "stdout"
    },
    {
     "output_type": "stream",
     "text": [
      "100%|██████████| 19/19 [00:06<00:00,  2.95it/s]"
     ],
     "name": "stderr"
    },
    {
     "output_type": "stream",
     "text": [
      "Current Accuracy: 0.35498046875\n",
      "Starting epoch 8/10, LR = [0.005]\n"
     ],
     "name": "stdout"
    },
    {
     "output_type": "stream",
     "text": [
      "\n"
     ],
     "name": "stderr"
    },
    {
     "output_type": "stream",
     "text": [
      "Step 100, Loss_train 0.012900669127702713\n"
     ],
     "name": "stdout"
    },
    {
     "output_type": "stream",
     "text": [
      "100%|██████████| 19/19 [00:06<00:00,  2.98it/s]"
     ],
     "name": "stderr"
    },
    {
     "output_type": "stream",
     "text": [
      "Current Accuracy: 0.37548828125\n",
      "Starting epoch 9/10, LR = [0.005]\n"
     ],
     "name": "stdout"
    },
    {
     "output_type": "stream",
     "text": [
      "\n"
     ],
     "name": "stderr"
    },
    {
     "output_type": "stream",
     "text": [
      "Step 110, Loss_train 0.0017520412802696228\n"
     ],
     "name": "stdout"
    },
    {
     "output_type": "stream",
     "text": [
      "100%|██████████| 19/19 [00:06<00:00,  2.92it/s]"
     ],
     "name": "stderr"
    },
    {
     "output_type": "stream",
     "text": [
      "Current Accuracy: 0.39453125\n",
      "Starting epoch 10/10, LR = [0.005]\n"
     ],
     "name": "stdout"
    },
    {
     "output_type": "stream",
     "text": [
      "\n"
     ],
     "name": "stderr"
    },
    {
     "output_type": "stream",
     "text": [
      "Step 120, Loss_train 0.007005322724580765\n"
     ],
     "name": "stdout"
    },
    {
     "output_type": "stream",
     "text": [
      "100%|██████████| 19/19 [00:06<00:00,  2.97it/s]"
     ],
     "name": "stderr"
    },
    {
     "output_type": "stream",
     "text": [
      "Current Accuracy: 0.318359375\n",
      "Starting epoch 1/10, LR = [0.005]\n"
     ],
     "name": "stdout"
    },
    {
     "output_type": "stream",
     "text": [
      "\n"
     ],
     "name": "stderr"
    },
    {
     "output_type": "stream",
     "text": [
      "Step 0, Loss_train 2.3968958854675293\n",
      "Step 10, Loss_train 0.19062386453151703\n"
     ],
     "name": "stdout"
    },
    {
     "output_type": "stream",
     "text": [
      "100%|██████████| 31/31 [00:10<00:00,  3.04it/s]"
     ],
     "name": "stderr"
    },
    {
     "output_type": "stream",
     "text": [
      "Current Accuracy: 0.3984375\n",
      "Starting epoch 2/10, LR = [0.005]\n"
     ],
     "name": "stdout"
    },
    {
     "output_type": "stream",
     "text": [
      "\n"
     ],
     "name": "stderr"
    },
    {
     "output_type": "stream",
     "text": [
      "Step 20, Loss_train 0.23337072134017944\n"
     ],
     "name": "stdout"
    },
    {
     "output_type": "stream",
     "text": [
      "100%|██████████| 31/31 [00:10<00:00,  3.05it/s]"
     ],
     "name": "stderr"
    },
    {
     "output_type": "stream",
     "text": [
      "Current Accuracy: 0.37548828125\n",
      "Starting epoch 3/10, LR = [0.005]\n"
     ],
     "name": "stdout"
    },
    {
     "output_type": "stream",
     "text": [
      "\n"
     ],
     "name": "stderr"
    },
    {
     "output_type": "stream",
     "text": [
      "Step 30, Loss_train 0.08400734513998032\n"
     ],
     "name": "stdout"
    },
    {
     "output_type": "stream",
     "text": [
      "100%|██████████| 31/31 [00:10<00:00,  3.06it/s]"
     ],
     "name": "stderr"
    },
    {
     "output_type": "stream",
     "text": [
      "Current Accuracy: 0.6005859375\n",
      "Starting epoch 4/10, LR = [0.005]\n"
     ],
     "name": "stdout"
    },
    {
     "output_type": "stream",
     "text": [
      "\n"
     ],
     "name": "stderr"
    },
    {
     "output_type": "stream",
     "text": [
      "Step 40, Loss_train 0.058161426335573196\n",
      "Step 50, Loss_train 0.09347901493310928\n"
     ],
     "name": "stdout"
    },
    {
     "output_type": "stream",
     "text": [
      "100%|██████████| 31/31 [00:10<00:00,  3.05it/s]"
     ],
     "name": "stderr"
    },
    {
     "output_type": "stream",
     "text": [
      "Current Accuracy: 0.4033203125\n",
      "Starting epoch 5/10, LR = [0.005]\n"
     ],
     "name": "stdout"
    },
    {
     "output_type": "stream",
     "text": [
      "\n"
     ],
     "name": "stderr"
    },
    {
     "output_type": "stream",
     "text": [
      "Step 60, Loss_train 0.009089048951864243\n"
     ],
     "name": "stdout"
    },
    {
     "output_type": "stream",
     "text": [
      "100%|██████████| 31/31 [00:10<00:00,  3.07it/s]"
     ],
     "name": "stderr"
    },
    {
     "output_type": "stream",
     "text": [
      "Current Accuracy: 0.43701171875\n",
      "Starting epoch 6/10, LR = [0.005]\n"
     ],
     "name": "stdout"
    },
    {
     "output_type": "stream",
     "text": [
      "\n"
     ],
     "name": "stderr"
    },
    {
     "output_type": "stream",
     "text": [
      "Step 70, Loss_train 0.005106613039970398\n"
     ],
     "name": "stdout"
    },
    {
     "output_type": "stream",
     "text": [
      "100%|██████████| 31/31 [00:10<00:00,  3.08it/s]"
     ],
     "name": "stderr"
    },
    {
     "output_type": "stream",
     "text": [
      "Current Accuracy: 0.47314453125\n",
      "Starting epoch 7/10, LR = [0.005]\n"
     ],
     "name": "stdout"
    },
    {
     "output_type": "stream",
     "text": [
      "\n"
     ],
     "name": "stderr"
    },
    {
     "output_type": "stream",
     "text": [
      "Step 80, Loss_train 0.0024895071983337402\n",
      "Step 90, Loss_train 0.0036395788192749023\n"
     ],
     "name": "stdout"
    },
    {
     "output_type": "stream",
     "text": [
      "100%|██████████| 31/31 [00:10<00:00,  3.08it/s]"
     ],
     "name": "stderr"
    },
    {
     "output_type": "stream",
     "text": [
      "Current Accuracy: 0.57421875\n",
      "Starting epoch 8/10, LR = [0.005]\n"
     ],
     "name": "stdout"
    },
    {
     "output_type": "stream",
     "text": [
      "\n"
     ],
     "name": "stderr"
    },
    {
     "output_type": "stream",
     "text": [
      "Step 100, Loss_train 0.0010228008031845093\n"
     ],
     "name": "stdout"
    },
    {
     "output_type": "stream",
     "text": [
      "100%|██████████| 31/31 [00:10<00:00,  3.08it/s]"
     ],
     "name": "stderr"
    },
    {
     "output_type": "stream",
     "text": [
      "Current Accuracy: 0.58447265625\n",
      "Starting epoch 9/10, LR = [0.005]\n"
     ],
     "name": "stdout"
    },
    {
     "output_type": "stream",
     "text": [
      "\n"
     ],
     "name": "stderr"
    },
    {
     "output_type": "stream",
     "text": [
      "Step 110, Loss_train 0.003578703850507736\n"
     ],
     "name": "stdout"
    },
    {
     "output_type": "stream",
     "text": [
      "100%|██████████| 31/31 [00:10<00:00,  3.06it/s]"
     ],
     "name": "stderr"
    },
    {
     "output_type": "stream",
     "text": [
      "Current Accuracy: 0.55419921875\n",
      "Starting epoch 10/10, LR = [0.005]\n"
     ],
     "name": "stdout"
    },
    {
     "output_type": "stream",
     "text": [
      "\n"
     ],
     "name": "stderr"
    },
    {
     "output_type": "stream",
     "text": [
      "Step 120, Loss_train 0.003405846655368805\n"
     ],
     "name": "stdout"
    },
    {
     "output_type": "stream",
     "text": [
      "100%|██████████| 31/31 [00:10<00:00,  3.05it/s]\n"
     ],
     "name": "stderr"
    },
    {
     "output_type": "stream",
     "text": [
      "Current Accuracy: 0.52392578125\n",
      "Starting epoch 1/10, LR = [0.008]\n",
      "Step 0, Loss_train 2.2995643615722656\n",
      "Step 10, Loss_train 0.08320620656013489\n"
     ],
     "name": "stdout"
    },
    {
     "output_type": "stream",
     "text": [
      "100%|██████████| 19/19 [00:06<00:00,  2.97it/s]"
     ],
     "name": "stderr"
    },
    {
     "output_type": "stream",
     "text": [
      "Current Accuracy: 0.2138671875\n",
      "Starting epoch 2/10, LR = [0.008]\n"
     ],
     "name": "stdout"
    },
    {
     "output_type": "stream",
     "text": [
      "\n"
     ],
     "name": "stderr"
    },
    {
     "output_type": "stream",
     "text": [
      "Step 20, Loss_train 0.27151647210121155\n"
     ],
     "name": "stdout"
    },
    {
     "output_type": "stream",
     "text": [
      "100%|██████████| 19/19 [00:06<00:00,  3.00it/s]"
     ],
     "name": "stderr"
    },
    {
     "output_type": "stream",
     "text": [
      "Current Accuracy: 0.3564453125\n",
      "Starting epoch 3/10, LR = [0.008]\n"
     ],
     "name": "stdout"
    },
    {
     "output_type": "stream",
     "text": [
      "\n"
     ],
     "name": "stderr"
    },
    {
     "output_type": "stream",
     "text": [
      "Step 30, Loss_train 0.15829280018806458\n"
     ],
     "name": "stdout"
    },
    {
     "output_type": "stream",
     "text": [
      "100%|██████████| 19/19 [00:06<00:00,  3.00it/s]"
     ],
     "name": "stderr"
    },
    {
     "output_type": "stream",
     "text": [
      "Current Accuracy: 0.43115234375\n",
      "Starting epoch 4/10, LR = [0.008]\n"
     ],
     "name": "stdout"
    },
    {
     "output_type": "stream",
     "text": [
      "\n"
     ],
     "name": "stderr"
    },
    {
     "output_type": "stream",
     "text": [
      "Step 40, Loss_train 0.10401333123445511\n",
      "Step 50, Loss_train 0.057746149599552155\n"
     ],
     "name": "stdout"
    },
    {
     "output_type": "stream",
     "text": [
      "100%|██████████| 19/19 [00:06<00:00,  2.94it/s]"
     ],
     "name": "stderr"
    },
    {
     "output_type": "stream",
     "text": [
      "Current Accuracy: 0.388671875\n",
      "Starting epoch 5/10, LR = [0.008]\n"
     ],
     "name": "stdout"
    },
    {
     "output_type": "stream",
     "text": [
      "\n"
     ],
     "name": "stderr"
    },
    {
     "output_type": "stream",
     "text": [
      "Step 60, Loss_train 0.02018493413925171\n"
     ],
     "name": "stdout"
    },
    {
     "output_type": "stream",
     "text": [
      "100%|██████████| 19/19 [00:06<00:00,  2.99it/s]"
     ],
     "name": "stderr"
    },
    {
     "output_type": "stream",
     "text": [
      "Current Accuracy: 0.41064453125\n",
      "Starting epoch 6/10, LR = [0.002]\n"
     ],
     "name": "stdout"
    },
    {
     "output_type": "stream",
     "text": [
      "\n"
     ],
     "name": "stderr"
    },
    {
     "output_type": "stream",
     "text": [
      "Step 70, Loss_train 0.02194177731871605\n"
     ],
     "name": "stdout"
    },
    {
     "output_type": "stream",
     "text": [
      "100%|██████████| 19/19 [00:06<00:00,  2.96it/s]"
     ],
     "name": "stderr"
    },
    {
     "output_type": "stream",
     "text": [
      "Current Accuracy: 0.34716796875\n",
      "Starting epoch 7/10, LR = [0.004]\n"
     ],
     "name": "stdout"
    },
    {
     "output_type": "stream",
     "text": [
      "\n"
     ],
     "name": "stderr"
    },
    {
     "output_type": "stream",
     "text": [
      "Step 80, Loss_train 0.004924781620502472\n",
      "Step 90, Loss_train 0.0030493587255477905\n"
     ],
     "name": "stdout"
    },
    {
     "output_type": "stream",
     "text": [
      "100%|██████████| 19/19 [00:06<00:00,  2.96it/s]"
     ],
     "name": "stderr"
    },
    {
     "output_type": "stream",
     "text": [
      "Current Accuracy: 0.369140625\n",
      "Starting epoch 8/10, LR = [0.004]\n"
     ],
     "name": "stdout"
    },
    {
     "output_type": "stream",
     "text": [
      "\n"
     ],
     "name": "stderr"
    },
    {
     "output_type": "stream",
     "text": [
      "Step 100, Loss_train 0.0031921155750751495\n"
     ],
     "name": "stdout"
    },
    {
     "output_type": "stream",
     "text": [
      "100%|██████████| 19/19 [00:06<00:00,  2.97it/s]"
     ],
     "name": "stderr"
    },
    {
     "output_type": "stream",
     "text": [
      "Current Accuracy: 0.353515625\n",
      "Starting epoch 9/10, LR = [0.004]\n"
     ],
     "name": "stdout"
    },
    {
     "output_type": "stream",
     "text": [
      "\n"
     ],
     "name": "stderr"
    },
    {
     "output_type": "stream",
     "text": [
      "Step 110, Loss_train 0.0005500204861164093\n"
     ],
     "name": "stdout"
    },
    {
     "output_type": "stream",
     "text": [
      "100%|██████████| 19/19 [00:06<00:00,  2.96it/s]"
     ],
     "name": "stderr"
    },
    {
     "output_type": "stream",
     "text": [
      "Current Accuracy: 0.3564453125\n",
      "Starting epoch 10/10, LR = [0.004]\n"
     ],
     "name": "stdout"
    },
    {
     "output_type": "stream",
     "text": [
      "\n"
     ],
     "name": "stderr"
    },
    {
     "output_type": "stream",
     "text": [
      "Step 120, Loss_train 0.0009457096457481384\n"
     ],
     "name": "stdout"
    },
    {
     "output_type": "stream",
     "text": [
      "100%|██████████| 19/19 [00:06<00:00,  2.99it/s]"
     ],
     "name": "stderr"
    },
    {
     "output_type": "stream",
     "text": [
      "Current Accuracy: 0.3564453125\n",
      "Starting epoch 1/10, LR = [0.008]\n"
     ],
     "name": "stdout"
    },
    {
     "output_type": "stream",
     "text": [
      "\n"
     ],
     "name": "stderr"
    },
    {
     "output_type": "stream",
     "text": [
      "Step 0, Loss_train 2.0136783123016357\n",
      "Step 10, Loss_train 0.20733821392059326\n"
     ],
     "name": "stdout"
    },
    {
     "output_type": "stream",
     "text": [
      "100%|██████████| 31/31 [00:10<00:00,  3.08it/s]"
     ],
     "name": "stderr"
    },
    {
     "output_type": "stream",
     "text": [
      "Current Accuracy: 0.33642578125\n",
      "Starting epoch 2/10, LR = [0.008]\n"
     ],
     "name": "stdout"
    },
    {
     "output_type": "stream",
     "text": [
      "\n"
     ],
     "name": "stderr"
    },
    {
     "output_type": "stream",
     "text": [
      "Step 20, Loss_train 0.18370430171489716\n"
     ],
     "name": "stdout"
    },
    {
     "output_type": "stream",
     "text": [
      "100%|██████████| 31/31 [00:10<00:00,  3.06it/s]"
     ],
     "name": "stderr"
    },
    {
     "output_type": "stream",
     "text": [
      "Current Accuracy: 0.5849609375\n",
      "Starting epoch 3/10, LR = [0.008]\n"
     ],
     "name": "stdout"
    },
    {
     "output_type": "stream",
     "text": [
      "\n"
     ],
     "name": "stderr"
    },
    {
     "output_type": "stream",
     "text": [
      "Step 30, Loss_train 0.08710829168558121\n"
     ],
     "name": "stdout"
    },
    {
     "output_type": "stream",
     "text": [
      "100%|██████████| 31/31 [00:10<00:00,  3.07it/s]"
     ],
     "name": "stderr"
    },
    {
     "output_type": "stream",
     "text": [
      "Current Accuracy: 0.47802734375\n",
      "Starting epoch 4/10, LR = [0.008]\n"
     ],
     "name": "stdout"
    },
    {
     "output_type": "stream",
     "text": [
      "\n"
     ],
     "name": "stderr"
    },
    {
     "output_type": "stream",
     "text": [
      "Step 40, Loss_train 0.051378048956394196\n",
      "Step 50, Loss_train 0.09717179089784622\n"
     ],
     "name": "stdout"
    },
    {
     "output_type": "stream",
     "text": [
      "100%|██████████| 31/31 [00:10<00:00,  3.10it/s]"
     ],
     "name": "stderr"
    },
    {
     "output_type": "stream",
     "text": [
      "Current Accuracy: 0.5419921875\n",
      "Starting epoch 5/10, LR = [0.008]\n"
     ],
     "name": "stdout"
    },
    {
     "output_type": "stream",
     "text": [
      "\n"
     ],
     "name": "stderr"
    },
    {
     "output_type": "stream",
     "text": [
      "Step 60, Loss_train 0.047330521047115326\n"
     ],
     "name": "stdout"
    },
    {
     "output_type": "stream",
     "text": [
      "100%|██████████| 31/31 [00:10<00:00,  3.08it/s]"
     ],
     "name": "stderr"
    },
    {
     "output_type": "stream",
     "text": [
      "Current Accuracy: 0.5693359375\n",
      "Starting epoch 6/10, LR = [0.002]\n"
     ],
     "name": "stdout"
    },
    {
     "output_type": "stream",
     "text": [
      "\n"
     ],
     "name": "stderr"
    },
    {
     "output_type": "stream",
     "text": [
      "Step 70, Loss_train 0.0646921694278717\n"
     ],
     "name": "stdout"
    },
    {
     "output_type": "stream",
     "text": [
      "100%|██████████| 31/31 [00:10<00:00,  3.09it/s]"
     ],
     "name": "stderr"
    },
    {
     "output_type": "stream",
     "text": [
      "Current Accuracy: 0.54736328125\n",
      "Starting epoch 7/10, LR = [0.004]\n"
     ],
     "name": "stdout"
    },
    {
     "output_type": "stream",
     "text": [
      "\n"
     ],
     "name": "stderr"
    },
    {
     "output_type": "stream",
     "text": [
      "Step 80, Loss_train 0.02516009658575058\n",
      "Step 90, Loss_train 0.00820085033774376\n"
     ],
     "name": "stdout"
    },
    {
     "output_type": "stream",
     "text": [
      "100%|██████████| 31/31 [00:10<00:00,  3.07it/s]"
     ],
     "name": "stderr"
    },
    {
     "output_type": "stream",
     "text": [
      "Current Accuracy: 0.53125\n",
      "Starting epoch 8/10, LR = [0.004]\n"
     ],
     "name": "stdout"
    },
    {
     "output_type": "stream",
     "text": [
      "\n"
     ],
     "name": "stderr"
    },
    {
     "output_type": "stream",
     "text": [
      "Step 100, Loss_train 0.0024701766669750214\n"
     ],
     "name": "stdout"
    },
    {
     "output_type": "stream",
     "text": [
      "100%|██████████| 31/31 [00:10<00:00,  3.08it/s]"
     ],
     "name": "stderr"
    },
    {
     "output_type": "stream",
     "text": [
      "Current Accuracy: 0.54345703125\n",
      "Starting epoch 9/10, LR = [0.004]\n"
     ],
     "name": "stdout"
    },
    {
     "output_type": "stream",
     "text": [
      "\n"
     ],
     "name": "stderr"
    },
    {
     "output_type": "stream",
     "text": [
      "Step 110, Loss_train 0.007500886917114258\n"
     ],
     "name": "stdout"
    },
    {
     "output_type": "stream",
     "text": [
      "100%|██████████| 31/31 [00:10<00:00,  3.07it/s]"
     ],
     "name": "stderr"
    },
    {
     "output_type": "stream",
     "text": [
      "Current Accuracy: 0.5205078125\n",
      "Starting epoch 10/10, LR = [0.004]\n"
     ],
     "name": "stdout"
    },
    {
     "output_type": "stream",
     "text": [
      "\n"
     ],
     "name": "stderr"
    },
    {
     "output_type": "stream",
     "text": [
      "Step 120, Loss_train 0.0002980232238769531\n"
     ],
     "name": "stdout"
    },
    {
     "output_type": "stream",
     "text": [
      "100%|██████████| 31/31 [00:10<00:00,  3.07it/s]\n"
     ],
     "name": "stderr"
    },
    {
     "output_type": "stream",
     "text": [
      "Current Accuracy: 0.5556640625\n",
      "Starting epoch 1/10, LR = [0.008]\n",
      "Step 0, Loss_train 1.9099472761154175\n",
      "Step 10, Loss_train 0.23943760991096497\n"
     ],
     "name": "stdout"
    },
    {
     "output_type": "stream",
     "text": [
      "100%|██████████| 19/19 [00:06<00:00,  2.83it/s]"
     ],
     "name": "stderr"
    },
    {
     "output_type": "stream",
     "text": [
      "Current Accuracy: 0.232421875\n",
      "Starting epoch 2/10, LR = [0.008]\n"
     ],
     "name": "stdout"
    },
    {
     "output_type": "stream",
     "text": [
      "\n"
     ],
     "name": "stderr"
    },
    {
     "output_type": "stream",
     "text": [
      "Step 20, Loss_train 0.20773054659366608\n"
     ],
     "name": "stdout"
    },
    {
     "output_type": "stream",
     "text": [
      "100%|██████████| 19/19 [00:06<00:00,  2.97it/s]"
     ],
     "name": "stderr"
    },
    {
     "output_type": "stream",
     "text": [
      "Current Accuracy: 0.22900390625\n",
      "Starting epoch 3/10, LR = [0.008]\n"
     ],
     "name": "stdout"
    },
    {
     "output_type": "stream",
     "text": [
      "\n"
     ],
     "name": "stderr"
    },
    {
     "output_type": "stream",
     "text": [
      "Step 30, Loss_train 0.17344799637794495\n"
     ],
     "name": "stdout"
    },
    {
     "output_type": "stream",
     "text": [
      "100%|██████████| 19/19 [00:06<00:00,  2.97it/s]"
     ],
     "name": "stderr"
    },
    {
     "output_type": "stream",
     "text": [
      "Current Accuracy: 0.3486328125\n",
      "Starting epoch 4/10, LR = [0.008]\n"
     ],
     "name": "stdout"
    },
    {
     "output_type": "stream",
     "text": [
      "\n"
     ],
     "name": "stderr"
    },
    {
     "output_type": "stream",
     "text": [
      "Step 40, Loss_train 0.07647845149040222\n",
      "Step 50, Loss_train 0.03779572993516922\n"
     ],
     "name": "stdout"
    },
    {
     "output_type": "stream",
     "text": [
      "100%|██████████| 19/19 [00:06<00:00,  2.97it/s]"
     ],
     "name": "stderr"
    },
    {
     "output_type": "stream",
     "text": [
      "Current Accuracy: 0.41162109375\n",
      "Starting epoch 5/10, LR = [0.008]\n"
     ],
     "name": "stdout"
    },
    {
     "output_type": "stream",
     "text": [
      "\n"
     ],
     "name": "stderr"
    },
    {
     "output_type": "stream",
     "text": [
      "Step 60, Loss_train 0.015084613114595413\n"
     ],
     "name": "stdout"
    },
    {
     "output_type": "stream",
     "text": [
      "100%|██████████| 19/19 [00:06<00:00,  2.99it/s]"
     ],
     "name": "stderr"
    },
    {
     "output_type": "stream",
     "text": [
      "Current Accuracy: 0.26513671875\n",
      "Starting epoch 6/10, LR = [0.008]\n"
     ],
     "name": "stdout"
    },
    {
     "output_type": "stream",
     "text": [
      "\n"
     ],
     "name": "stderr"
    },
    {
     "output_type": "stream",
     "text": [
      "Step 70, Loss_train 0.000722743570804596\n"
     ],
     "name": "stdout"
    },
    {
     "output_type": "stream",
     "text": [
      "100%|██████████| 19/19 [00:06<00:00,  2.94it/s]"
     ],
     "name": "stderr"
    },
    {
     "output_type": "stream",
     "text": [
      "Current Accuracy: 0.32666015625\n",
      "Starting epoch 7/10, LR = [0.008]\n"
     ],
     "name": "stdout"
    },
    {
     "output_type": "stream",
     "text": [
      "\n"
     ],
     "name": "stderr"
    },
    {
     "output_type": "stream",
     "text": [
      "Step 80, Loss_train 0.0055718570947647095\n",
      "Step 90, Loss_train 0.03842061012983322\n"
     ],
     "name": "stdout"
    },
    {
     "output_type": "stream",
     "text": [
      "100%|██████████| 19/19 [00:06<00:00,  2.99it/s]"
     ],
     "name": "stderr"
    },
    {
     "output_type": "stream",
     "text": [
      "Current Accuracy: 0.3154296875\n",
      "Starting epoch 8/10, LR = [0.008]\n"
     ],
     "name": "stdout"
    },
    {
     "output_type": "stream",
     "text": [
      "\n"
     ],
     "name": "stderr"
    },
    {
     "output_type": "stream",
     "text": [
      "Step 100, Loss_train 0.007779229432344437\n"
     ],
     "name": "stdout"
    },
    {
     "output_type": "stream",
     "text": [
      "100%|██████████| 19/19 [00:06<00:00,  3.01it/s]"
     ],
     "name": "stderr"
    },
    {
     "output_type": "stream",
     "text": [
      "Current Accuracy: 0.2724609375\n",
      "Starting epoch 9/10, LR = [0.008]\n"
     ],
     "name": "stdout"
    },
    {
     "output_type": "stream",
     "text": [
      "\n"
     ],
     "name": "stderr"
    },
    {
     "output_type": "stream",
     "text": [
      "Step 110, Loss_train 0.01815054379403591\n"
     ],
     "name": "stdout"
    },
    {
     "output_type": "stream",
     "text": [
      "100%|██████████| 19/19 [00:06<00:00,  3.01it/s]"
     ],
     "name": "stderr"
    },
    {
     "output_type": "stream",
     "text": [
      "Current Accuracy: 0.31103515625\n",
      "Starting epoch 10/10, LR = [0.008]\n"
     ],
     "name": "stdout"
    },
    {
     "output_type": "stream",
     "text": [
      "\n"
     ],
     "name": "stderr"
    },
    {
     "output_type": "stream",
     "text": [
      "Step 120, Loss_train 0.035768773406744\n"
     ],
     "name": "stdout"
    },
    {
     "output_type": "stream",
     "text": [
      "100%|██████████| 19/19 [00:06<00:00,  2.97it/s]"
     ],
     "name": "stderr"
    },
    {
     "output_type": "stream",
     "text": [
      "Current Accuracy: 0.27783203125\n",
      "Starting epoch 1/10, LR = [0.008]\n"
     ],
     "name": "stdout"
    },
    {
     "output_type": "stream",
     "text": [
      "\n"
     ],
     "name": "stderr"
    },
    {
     "output_type": "stream",
     "text": [
      "Step 0, Loss_train 2.0530078411102295\n",
      "Step 10, Loss_train 0.25748348236083984\n"
     ],
     "name": "stdout"
    },
    {
     "output_type": "stream",
     "text": [
      "100%|██████████| 31/31 [00:10<00:00,  3.09it/s]"
     ],
     "name": "stderr"
    },
    {
     "output_type": "stream",
     "text": [
      "Current Accuracy: 0.69580078125\n",
      "Starting epoch 2/10, LR = [0.008]\n"
     ],
     "name": "stdout"
    },
    {
     "output_type": "stream",
     "text": [
      "\n"
     ],
     "name": "stderr"
    },
    {
     "output_type": "stream",
     "text": [
      "Step 20, Loss_train 0.17543494701385498\n"
     ],
     "name": "stdout"
    },
    {
     "output_type": "stream",
     "text": [
      "100%|██████████| 31/31 [00:10<00:00,  3.09it/s]"
     ],
     "name": "stderr"
    },
    {
     "output_type": "stream",
     "text": [
      "Current Accuracy: 0.53173828125\n",
      "Starting epoch 3/10, LR = [0.008]\n"
     ],
     "name": "stdout"
    },
    {
     "output_type": "stream",
     "text": [
      "\n"
     ],
     "name": "stderr"
    },
    {
     "output_type": "stream",
     "text": [
      "Step 30, Loss_train 0.07801245152950287\n"
     ],
     "name": "stdout"
    },
    {
     "output_type": "stream",
     "text": [
      "100%|██████████| 31/31 [00:10<00:00,  3.08it/s]"
     ],
     "name": "stderr"
    },
    {
     "output_type": "stream",
     "text": [
      "Current Accuracy: 0.3486328125\n",
      "Starting epoch 4/10, LR = [0.008]\n"
     ],
     "name": "stdout"
    },
    {
     "output_type": "stream",
     "text": [
      "\n"
     ],
     "name": "stderr"
    },
    {
     "output_type": "stream",
     "text": [
      "Step 40, Loss_train 0.035418856889009476\n",
      "Step 50, Loss_train 0.04253789782524109\n"
     ],
     "name": "stdout"
    },
    {
     "output_type": "stream",
     "text": [
      "100%|██████████| 31/31 [00:10<00:00,  3.08it/s]"
     ],
     "name": "stderr"
    },
    {
     "output_type": "stream",
     "text": [
      "Current Accuracy: 0.48779296875\n",
      "Starting epoch 5/10, LR = [0.008]\n"
     ],
     "name": "stdout"
    },
    {
     "output_type": "stream",
     "text": [
      "\n"
     ],
     "name": "stderr"
    },
    {
     "output_type": "stream",
     "text": [
      "Step 60, Loss_train 0.03454751521348953\n"
     ],
     "name": "stdout"
    },
    {
     "output_type": "stream",
     "text": [
      "100%|██████████| 31/31 [00:10<00:00,  3.10it/s]"
     ],
     "name": "stderr"
    },
    {
     "output_type": "stream",
     "text": [
      "Current Accuracy: 0.53955078125\n",
      "Starting epoch 6/10, LR = [0.008]\n"
     ],
     "name": "stdout"
    },
    {
     "output_type": "stream",
     "text": [
      "\n"
     ],
     "name": "stderr"
    },
    {
     "output_type": "stream",
     "text": [
      "Step 70, Loss_train 0.0325142927467823\n"
     ],
     "name": "stdout"
    },
    {
     "output_type": "stream",
     "text": [
      "100%|██████████| 31/31 [00:10<00:00,  3.09it/s]"
     ],
     "name": "stderr"
    },
    {
     "output_type": "stream",
     "text": [
      "Current Accuracy: 0.59228515625\n",
      "Starting epoch 7/10, LR = [0.008]\n"
     ],
     "name": "stdout"
    },
    {
     "output_type": "stream",
     "text": [
      "\n"
     ],
     "name": "stderr"
    },
    {
     "output_type": "stream",
     "text": [
      "Step 80, Loss_train 0.012929379940032959\n",
      "Step 90, Loss_train 0.008737999945878983\n"
     ],
     "name": "stdout"
    },
    {
     "output_type": "stream",
     "text": [
      "100%|██████████| 31/31 [00:10<00:00,  3.07it/s]"
     ],
     "name": "stderr"
    },
    {
     "output_type": "stream",
     "text": [
      "Current Accuracy: 0.59619140625\n",
      "Starting epoch 8/10, LR = [0.008]\n"
     ],
     "name": "stdout"
    },
    {
     "output_type": "stream",
     "text": [
      "\n"
     ],
     "name": "stderr"
    },
    {
     "output_type": "stream",
     "text": [
      "Step 100, Loss_train 0.005413942039012909\n"
     ],
     "name": "stdout"
    },
    {
     "output_type": "stream",
     "text": [
      "100%|██████████| 31/31 [00:09<00:00,  3.11it/s]"
     ],
     "name": "stderr"
    },
    {
     "output_type": "stream",
     "text": [
      "Current Accuracy: 0.546875\n",
      "Starting epoch 9/10, LR = [0.008]\n"
     ],
     "name": "stdout"
    },
    {
     "output_type": "stream",
     "text": [
      "\n"
     ],
     "name": "stderr"
    },
    {
     "output_type": "stream",
     "text": [
      "Step 110, Loss_train 0.0005046650767326355\n"
     ],
     "name": "stdout"
    },
    {
     "output_type": "stream",
     "text": [
      "100%|██████████| 31/31 [00:10<00:00,  3.10it/s]"
     ],
     "name": "stderr"
    },
    {
     "output_type": "stream",
     "text": [
      "Current Accuracy: 0.51904296875\n",
      "Starting epoch 10/10, LR = [0.008]\n"
     ],
     "name": "stdout"
    },
    {
     "output_type": "stream",
     "text": [
      "\n"
     ],
     "name": "stderr"
    },
    {
     "output_type": "stream",
     "text": [
      "Step 120, Loss_train 0.0018434301018714905\n"
     ],
     "name": "stdout"
    },
    {
     "output_type": "stream",
     "text": [
      "100%|██████████| 31/31 [00:10<00:00,  3.10it/s]"
     ],
     "name": "stderr"
    },
    {
     "output_type": "stream",
     "text": [
      "Current Accuracy: 0.59619140625\n",
      "Best configuration is:\n",
      "{'batch_size': 128, 'epochs': 10, 'gamma': 0.5, 'lr': 0.008, 'step_size': 10}\n",
      "Highest mean accuracy: 0.5537109375\n"
     ],
     "name": "stdout"
    },
    {
     "output_type": "stream",
     "text": [
      "\n"
     ],
     "name": "stderr"
    }
   ]
  },
  {
   "cell_type": "code",
   "metadata": {
    "id": "dpmSLmS5eglj",
    "colab_type": "code",
    "colab": {
     "base_uri": "https://localhost:8080/",
     "height": 836
    },
    "outputId": "d0446e66-ab27-44b2-9d88-34178c1a5d7c"
   },
   "source": [
    "# params = ParameterGrid(param_grid)[0]\n",
    "params = best_conf['params']\n",
    "\n",
    "photo_dataloader = get_train_loaders(photo, batch_size=params['batch_size'])\n",
    "test_dataloader = get_eval_loaders(art, batch_size=params['batch_size'])\n",
    "no_dann = get_alexnet(pretrained=True)\n",
    "criterion, optimizer, scheduler = loss_optmizer_scheduler(no_dann, lr=params['lr'], step_size=params['step_size'], gamma=params['gamma'])\n",
    "\n",
    "losses_no_dann, accuracies_no_dann = train_no_dann(no_dann, photo_dataloader, test_dataloader, criterion, optimizer, scheduler, max_epoch=params['epochs'])\n",
    "print(f\"Photo transfer to Art accuracy WITHOUT DANN: {max(accuracies_no_dann)}\")\n",
    "\n",
    "saveResults(params, best_conf['best_acc'], accuracies_no_dann, losses_no_dann)\n",
    "# saveResults(params, \"_\", accuracies_no_dann, losses_no_dann)"
   ],
   "execution_count": null,
   "outputs": [
    {
     "output_type": "stream",
     "text": [
      "Starting epoch 1/10, LR = [0.008]\n"
     ],
     "name": "stdout"
    },
    {
     "output_type": "stream",
     "text": [
      "/usr/local/lib/python3.6/dist-packages/torch/optim/lr_scheduler.py:351: UserWarning: To get the last learning rate computed by the scheduler, please use `get_last_lr()`.\n",
      "  \"please use `get_last_lr()`.\", UserWarning)\n"
     ],
     "name": "stderr"
    },
    {
     "output_type": "stream",
     "text": [
      "Step 0, Loss_train 2.373612403869629\n",
      "Step 10, Loss_train 0.19540229439735413\n"
     ],
     "name": "stdout"
    },
    {
     "output_type": "stream",
     "text": [
      "100%|██████████| 16/16 [00:05<00:00,  2.83it/s]"
     ],
     "name": "stderr"
    },
    {
     "output_type": "stream",
     "text": [
      "Current Accuracy: 0.4580078125\n",
      "Starting epoch 2/10, LR = [0.008]\n"
     ],
     "name": "stdout"
    },
    {
     "output_type": "stream",
     "text": [
      "\n"
     ],
     "name": "stderr"
    },
    {
     "output_type": "stream",
     "text": [
      "Step 20, Loss_train 0.06967906653881073\n"
     ],
     "name": "stdout"
    },
    {
     "output_type": "stream",
     "text": [
      "100%|██████████| 16/16 [00:05<00:00,  2.74it/s]"
     ],
     "name": "stderr"
    },
    {
     "output_type": "stream",
     "text": [
      "Current Accuracy: 0.4306640625\n",
      "Starting epoch 3/10, LR = [0.008]\n"
     ],
     "name": "stdout"
    },
    {
     "output_type": "stream",
     "text": [
      "\n"
     ],
     "name": "stderr"
    },
    {
     "output_type": "stream",
     "text": [
      "Step 30, Loss_train 0.043653395026922226\n"
     ],
     "name": "stdout"
    },
    {
     "output_type": "stream",
     "text": [
      "100%|██████████| 16/16 [00:05<00:00,  2.79it/s]"
     ],
     "name": "stderr"
    },
    {
     "output_type": "stream",
     "text": [
      "Current Accuracy: 0.44970703125\n",
      "Starting epoch 4/10, LR = [0.008]\n"
     ],
     "name": "stdout"
    },
    {
     "output_type": "stream",
     "text": [
      "\n"
     ],
     "name": "stderr"
    },
    {
     "output_type": "stream",
     "text": [
      "Step 40, Loss_train 0.015135224908590317\n",
      "Step 50, Loss_train 0.031396374106407166\n"
     ],
     "name": "stdout"
    },
    {
     "output_type": "stream",
     "text": [
      "100%|██████████| 16/16 [00:05<00:00,  2.81it/s]"
     ],
     "name": "stderr"
    },
    {
     "output_type": "stream",
     "text": [
      "Current Accuracy: 0.46923828125\n",
      "Starting epoch 5/10, LR = [0.008]\n"
     ],
     "name": "stdout"
    },
    {
     "output_type": "stream",
     "text": [
      "\n"
     ],
     "name": "stderr"
    },
    {
     "output_type": "stream",
     "text": [
      "Step 60, Loss_train 0.04447929561138153\n"
     ],
     "name": "stdout"
    },
    {
     "output_type": "stream",
     "text": [
      "100%|██████████| 16/16 [00:05<00:00,  2.80it/s]"
     ],
     "name": "stderr"
    },
    {
     "output_type": "stream",
     "text": [
      "Current Accuracy: 0.48828125\n",
      "Starting epoch 6/10, LR = [0.008]\n"
     ],
     "name": "stdout"
    },
    {
     "output_type": "stream",
     "text": [
      "\n"
     ],
     "name": "stderr"
    },
    {
     "output_type": "stream",
     "text": [
      "Step 70, Loss_train 0.030320432037115097\n"
     ],
     "name": "stdout"
    },
    {
     "output_type": "stream",
     "text": [
      "100%|██████████| 16/16 [00:05<00:00,  2.76it/s]"
     ],
     "name": "stderr"
    },
    {
     "output_type": "stream",
     "text": [
      "Current Accuracy: 0.49462890625\n",
      "Starting epoch 7/10, LR = [0.008]\n"
     ],
     "name": "stdout"
    },
    {
     "output_type": "stream",
     "text": [
      "\n"
     ],
     "name": "stderr"
    },
    {
     "output_type": "stream",
     "text": [
      "Step 80, Loss_train 0.011574678122997284\n",
      "Step 90, Loss_train 0.0015117600560188293\n"
     ],
     "name": "stdout"
    },
    {
     "output_type": "stream",
     "text": [
      "100%|██████████| 16/16 [00:05<00:00,  2.80it/s]"
     ],
     "name": "stderr"
    },
    {
     "output_type": "stream",
     "text": [
      "Current Accuracy: 0.494140625\n",
      "Starting epoch 8/10, LR = [0.008]\n"
     ],
     "name": "stdout"
    },
    {
     "output_type": "stream",
     "text": [
      "\n"
     ],
     "name": "stderr"
    },
    {
     "output_type": "stream",
     "text": [
      "Step 100, Loss_train 0.002087309956550598\n"
     ],
     "name": "stdout"
    },
    {
     "output_type": "stream",
     "text": [
      "100%|██████████| 16/16 [00:05<00:00,  2.81it/s]"
     ],
     "name": "stderr"
    },
    {
     "output_type": "stream",
     "text": [
      "Current Accuracy: 0.50732421875\n",
      "Starting epoch 9/10, LR = [0.008]\n"
     ],
     "name": "stdout"
    },
    {
     "output_type": "stream",
     "text": [
      "\n"
     ],
     "name": "stderr"
    },
    {
     "output_type": "stream",
     "text": [
      "Step 110, Loss_train 0.042605988681316376\n"
     ],
     "name": "stdout"
    },
    {
     "output_type": "stream",
     "text": [
      "100%|██████████| 16/16 [00:05<00:00,  2.82it/s]"
     ],
     "name": "stderr"
    },
    {
     "output_type": "stream",
     "text": [
      "Current Accuracy: 0.49169921875\n",
      "Starting epoch 10/10, LR = [0.008]\n"
     ],
     "name": "stdout"
    },
    {
     "output_type": "stream",
     "text": [
      "\n"
     ],
     "name": "stderr"
    },
    {
     "output_type": "stream",
     "text": [
      "Step 120, Loss_train 0.03942044451832771\n"
     ],
     "name": "stdout"
    },
    {
     "output_type": "stream",
     "text": [
      "100%|██████████| 16/16 [00:05<00:00,  2.82it/s]"
     ],
     "name": "stderr"
    },
    {
     "output_type": "stream",
     "text": [
      "Current Accuracy: 0.46240234375\n",
      "Photo transfer to Art accuracy WITHOUT DANN: 0.50732421875\n",
      "********* FILE SAVED *********\n"
     ],
     "name": "stdout"
    },
    {
     "output_type": "stream",
     "text": [
      "\n"
     ],
     "name": "stderr"
    }
   ]
  },
  {
   "cell_type": "markdown",
   "metadata": {
    "id": "vXNY7Wnw7IQm",
    "colab_type": "text"
   },
   "source": [
    "**Training with DANN**"
   ]
  },
  {
   "cell_type": "code",
   "metadata": {
    "id": "SCp3Tzfw7Kwq",
    "colab_type": "code",
    "colab": {}
   },
   "source": [
    "import math\n",
    "def dann_train_test(net, src_dataloader, tgt_dataloader, test_dataloader, criterion,\n",
    "                    optimizer, scheduler, max_epoch=NUM_EPOCHS, alpha=ALPHA, file_path=BASE_FILE_PATH, device=DEVICE):\n",
    "    \n",
    "    class_losses = []\n",
    "    domain_losses = []\n",
    "    accuracies = []\n",
    "    accuracy_max = 0\n",
    "    tolerance = 0\n",
    "    \n",
    "    net = net.to(device)\n",
    "    cudnn.benchmark\n",
    "    \n",
    "    current_step = 0\n",
    "    for epoch in range(max_epoch):\n",
    "        print('Starting epoch {}/{}, LR = {}'.format(epoch+1, max_epoch, scheduler.get_lr()))\n",
    "        class_loss, domain_loss, current_step = dann_train_src_target(net, src_dataloader, \n",
    "                                          tgt_dataloader, optimizer, criterion, current_step,\n",
    "                                          epoch, max_epoch, alpha=alpha, device=device)\n",
    "        \n",
    "        if math.isnan(class_loss) or math.isnan(domain_loss):\n",
    "          tolerance += 1\n",
    "          if tolerance >= 3:\n",
    "            print(\"EARLY STOPPING\")\n",
    "            break\n",
    "        class_losses.append(class_loss)\n",
    "        domain_losses.append(domain_loss)\n",
    "\n",
    "        accuracy = test_target(net, test_dataloader, device) / float(len(test_dataloader)*BATCH_SIZE)\n",
    "        accuracies.append(accuracy)\n",
    "        print(f\"Accuracy on test set: {accuracy}\")\n",
    "        if accuracy_max < accuracy:\n",
    "          accuracy_max = accuracy\n",
    "          torch.save(net, f\"{file_path}_best_model_dann.pth\")\n",
    "        scheduler.step()\n",
    "        \n",
    "    return class_losses, domain_losses, accuracies"
   ],
   "execution_count": null,
   "outputs": []
  },
  {
   "cell_type": "code",
   "metadata": {
    "id": "MgNktK57mCff",
    "colab_type": "code",
    "colab": {
     "base_uri": "https://localhost:8080/",
     "height": 1000
    },
    "outputId": "fb171463-6a20-4d75-a3a4-4458c7ee2599"
   },
   "source": [
    "grid = ParameterGrid(param_grid)\n",
    "dann_results = []\n",
    "for config in grid:\n",
    "  photo_dataloader = get_train_loaders(photo, config['batch_size'])\n",
    "  cartoon_dataloader = get_train_loaders(cartoon, config['batch_size'])\n",
    "  cartoon_eval_dataloader = get_eval_loaders(cartoon, config['batch_size'])\n",
    "  sketch_dataloader = get_train_loaders(sketch, config['batch_size'])\n",
    "  sketch_test_dataloader = get_eval_loaders(sketch, config['batch_size'])\n",
    "  \n",
    "  dann_cartoon = get_alexnet(pretrained=True)\n",
    "  cartoon_criterion, optimizer_cartoon, scheduler_cartoon = loss_optmizer_scheduler(dann_cartoon, lr=config['lr'], \n",
    "                                                                          step_size=config['step_size'], gamma=config['gamma'])\n",
    "  dann_sketch = get_alexnet(pretrained=True)\n",
    "  sketch_criterion, optimizer_sketch, scheduler_sketch = loss_optmizer_scheduler(dann_sketch, lr=config['lr'], \n",
    "                                                                          step_size=config['step_size'], gamma=config['gamma'])\n",
    "\n",
    "  class_losses_cartoon, domain_losses_cartoon, accuracies_cartoon = dann_train_test(\n",
    "      dann_cartoon, photo_dataloader, cartoon_dataloader, cartoon_eval_dataloader,\n",
    "      cartoon_criterion, optimizer_cartoon, scheduler_cartoon, max_epoch=config['epochs'], alpha=config['alpha']\n",
    "  )\n",
    "\n",
    "  class_losses_sketch, domain_losses_sketch, accuracies_sketch = dann_train_test(\n",
    "      dann_sketch, photo_dataloader, sketch_dataloader, sketch_test_dataloader,\n",
    "      sketch_criterion, optimizer_sketch, scheduler_sketch, max_epoch=config['epochs'], alpha=config['alpha']\n",
    "  )\n",
    "\n",
    "  curr_result = {'params': config, 'cartoon_losses': (class_losses_cartoon, domain_losses_cartoon), 'sketch_losses': (class_losses_sketch, domain_losses_sketch),\n",
    "                 'best_acc': np.mean([max(accuracies_cartoon), max(accuracies_sketch)])}\n",
    "  dann_results.append(curr_result)\n",
    "  \n",
    "best_conf = max(dann_results, key=lambda x: x['best_acc'])\n",
    "print(f\"Best configuration is:\\n{best_conf['params']}\")\n",
    "print(f\"Highest mean accuracy: {best_conf['best_acc']}\")\n"
   ],
   "execution_count": null,
   "outputs": [
    {
     "output_type": "stream",
     "text": [
      "Starting epoch 1/10, LR = [0.005]\n"
     ],
     "name": "stdout"
    },
    {
     "output_type": "stream",
     "text": [
      "/usr/local/lib/python3.6/dist-packages/torch/optim/lr_scheduler.py:351: UserWarning: To get the last learning rate computed by the scheduler, please use `get_last_lr()`.\n",
      "  \"please use `get_last_lr()`.\", UserWarning)\n"
     ],
     "name": "stderr"
    },
    {
     "output_type": "stream",
     "text": [
      "Step 0\n",
      "Class Loss 1.9876419305801392, Domain Loss 1.5479285717010498\n",
      "Step 10\n",
      "Class Loss 0.1101231575012207, Domain Loss 0.8229183554649353\n"
     ],
     "name": "stdout"
    },
    {
     "output_type": "stream",
     "text": [
      "100%|██████████| 19/19 [00:06<00:00,  3.06it/s]\n"
     ],
     "name": "stderr"
    },
    {
     "output_type": "stream",
     "text": [
      "Accuracy on test set: 0.37841796875\n",
      "Starting epoch 2/10, LR = [0.005]\n",
      "Step 20\n",
      "Class Loss 0.7117107510566711, Domain Loss 2.0302131175994873\n"
     ],
     "name": "stdout"
    },
    {
     "output_type": "stream",
     "text": [
      "100%|██████████| 19/19 [00:06<00:00,  3.06it/s]\n"
     ],
     "name": "stderr"
    },
    {
     "output_type": "stream",
     "text": [
      "Accuracy on test set: 0.5283203125\n",
      "Starting epoch 3/10, LR = [0.005]\n",
      "Step 30\n",
      "Class Loss 1.4680312871932983, Domain Loss 2.5010457038879395\n"
     ],
     "name": "stdout"
    },
    {
     "output_type": "stream",
     "text": [
      "100%|██████████| 19/19 [00:06<00:00,  3.10it/s]"
     ],
     "name": "stderr"
    },
    {
     "output_type": "stream",
     "text": [
      "Accuracy on test set: 0.505859375\n",
      "Starting epoch 4/10, LR = [0.005]\n"
     ],
     "name": "stdout"
    },
    {
     "output_type": "stream",
     "text": [
      "\n"
     ],
     "name": "stderr"
    },
    {
     "output_type": "stream",
     "text": [
      "Step 40\n",
      "Class Loss 0.335206538438797, Domain Loss 1.0891973972320557\n",
      "Step 50\n",
      "Class Loss 0.36404144763946533, Domain Loss 1.4146015644073486\n"
     ],
     "name": "stdout"
    },
    {
     "output_type": "stream",
     "text": [
      "100%|██████████| 19/19 [00:06<00:00,  3.09it/s]"
     ],
     "name": "stderr"
    },
    {
     "output_type": "stream",
     "text": [
      "Accuracy on test set: 0.3681640625\n",
      "Starting epoch 5/10, LR = [0.005]\n"
     ],
     "name": "stdout"
    },
    {
     "output_type": "stream",
     "text": [
      "\n"
     ],
     "name": "stderr"
    },
    {
     "output_type": "stream",
     "text": [
      "Step 60\n",
      "Class Loss 0.21446767449378967, Domain Loss 0.779227077960968\n"
     ],
     "name": "stdout"
    },
    {
     "output_type": "stream",
     "text": [
      "100%|██████████| 19/19 [00:06<00:00,  3.08it/s]\n"
     ],
     "name": "stderr"
    },
    {
     "output_type": "stream",
     "text": [
      "Accuracy on test set: 0.615234375\n",
      "Starting epoch 6/10, LR = [0.00125]\n",
      "Step 70\n",
      "Class Loss 0.08236493915319443, Domain Loss 0.555504560470581\n"
     ],
     "name": "stdout"
    },
    {
     "output_type": "stream",
     "text": [
      "100%|██████████| 19/19 [00:06<00:00,  3.13it/s]"
     ],
     "name": "stderr"
    },
    {
     "output_type": "stream",
     "text": [
      "Accuracy on test set: 0.6015625\n",
      "Starting epoch 7/10, LR = [0.0025]\n"
     ],
     "name": "stdout"
    },
    {
     "output_type": "stream",
     "text": [
      "\n"
     ],
     "name": "stderr"
    },
    {
     "output_type": "stream",
     "text": [
      "Step 80\n",
      "Class Loss 0.09737934917211533, Domain Loss 0.5557608604431152\n",
      "Step 90\n",
      "Class Loss 0.04695214331150055, Domain Loss 0.39570140838623047\n"
     ],
     "name": "stdout"
    },
    {
     "output_type": "stream",
     "text": [
      "100%|██████████| 19/19 [00:06<00:00,  3.06it/s]\n"
     ],
     "name": "stderr"
    },
    {
     "output_type": "stream",
     "text": [
      "Accuracy on test set: 0.62109375\n",
      "Starting epoch 8/10, LR = [0.0025]\n",
      "Step 100\n",
      "Class Loss 0.02276657335460186, Domain Loss 0.6366754770278931\n"
     ],
     "name": "stdout"
    },
    {
     "output_type": "stream",
     "text": [
      "100%|██████████| 19/19 [00:06<00:00,  3.11it/s]"
     ],
     "name": "stderr"
    },
    {
     "output_type": "stream",
     "text": [
      "Accuracy on test set: 0.61376953125\n",
      "Starting epoch 9/10, LR = [0.0025]\n"
     ],
     "name": "stdout"
    },
    {
     "output_type": "stream",
     "text": [
      "\n"
     ],
     "name": "stderr"
    },
    {
     "output_type": "stream",
     "text": [
      "Step 110\n",
      "Class Loss 0.018450774252414703, Domain Loss 0.4603773355484009\n"
     ],
     "name": "stdout"
    },
    {
     "output_type": "stream",
     "text": [
      "100%|██████████| 19/19 [00:06<00:00,  3.10it/s]"
     ],
     "name": "stderr"
    },
    {
     "output_type": "stream",
     "text": [
      "Accuracy on test set: 0.607421875\n",
      "Starting epoch 10/10, LR = [0.0025]\n"
     ],
     "name": "stdout"
    },
    {
     "output_type": "stream",
     "text": [
      "\n"
     ],
     "name": "stderr"
    },
    {
     "output_type": "stream",
     "text": [
      "Step 120\n",
      "Class Loss 0.025314409285783768, Domain Loss 0.28529053926467896\n"
     ],
     "name": "stdout"
    },
    {
     "output_type": "stream",
     "text": [
      "100%|██████████| 19/19 [00:06<00:00,  3.09it/s]"
     ],
     "name": "stderr"
    },
    {
     "output_type": "stream",
     "text": [
      "Accuracy on test set: 0.6044921875\n",
      "Starting epoch 1/10, LR = [0.005]\n"
     ],
     "name": "stdout"
    },
    {
     "output_type": "stream",
     "text": [
      "\n"
     ],
     "name": "stderr"
    },
    {
     "output_type": "stream",
     "text": [
      "Step 0\n",
      "Class Loss 1.8283661603927612, Domain Loss 1.0221081972122192\n",
      "Step 10\n",
      "Class Loss 0.3680991530418396, Domain Loss 0.006357839331030846\n"
     ],
     "name": "stdout"
    },
    {
     "output_type": "stream",
     "text": [
      "100%|██████████| 31/31 [00:10<00:00,  3.08it/s]\n"
     ],
     "name": "stderr"
    },
    {
     "output_type": "stream",
     "text": [
      "Accuracy on test set: 0.607421875\n",
      "Starting epoch 2/10, LR = [0.005]\n",
      "Step 20\n",
      "Class Loss 0.06377919018268585, Domain Loss 0.0\n"
     ],
     "name": "stdout"
    },
    {
     "output_type": "stream",
     "text": [
      "100%|██████████| 31/31 [00:09<00:00,  3.14it/s]"
     ],
     "name": "stderr"
    },
    {
     "output_type": "stream",
     "text": [
      "Accuracy on test set: 0.5888671875\n",
      "Starting epoch 3/10, LR = [0.005]\n"
     ],
     "name": "stdout"
    },
    {
     "output_type": "stream",
     "text": [
      "\n"
     ],
     "name": "stderr"
    },
    {
     "output_type": "stream",
     "text": [
      "Step 30\n",
      "Class Loss 0.058883484452962875, Domain Loss 7.450580596923828e-09\n"
     ],
     "name": "stdout"
    },
    {
     "output_type": "stream",
     "text": [
      "100%|██████████| 31/31 [00:09<00:00,  3.16it/s]"
     ],
     "name": "stderr"
    },
    {
     "output_type": "stream",
     "text": [
      "Accuracy on test set: 0.5654296875\n",
      "Starting epoch 4/10, LR = [0.005]\n"
     ],
     "name": "stdout"
    },
    {
     "output_type": "stream",
     "text": [
      "\n"
     ],
     "name": "stderr"
    },
    {
     "output_type": "stream",
     "text": [
      "Step 40\n",
      "Class Loss 0.06835954636335373, Domain Loss 0.007514985278248787\n",
      "Step 50\n",
      "Class Loss 0.0490606315433979, Domain Loss 4.868954420089722e-06\n"
     ],
     "name": "stdout"
    },
    {
     "output_type": "stream",
     "text": [
      "100%|██████████| 31/31 [00:09<00:00,  3.12it/s]"
     ],
     "name": "stderr"
    },
    {
     "output_type": "stream",
     "text": [
      "Accuracy on test set: 0.5546875\n",
      "Starting epoch 5/10, LR = [0.005]\n"
     ],
     "name": "stdout"
    },
    {
     "output_type": "stream",
     "text": [
      "\n"
     ],
     "name": "stderr"
    },
    {
     "output_type": "stream",
     "text": [
      "Step 60\n",
      "Class Loss 0.00886392593383789, Domain Loss 8.791685104370117e-07\n"
     ],
     "name": "stdout"
    },
    {
     "output_type": "stream",
     "text": [
      "100%|██████████| 31/31 [00:09<00:00,  3.14it/s]\n"
     ],
     "name": "stderr"
    },
    {
     "output_type": "stream",
     "text": [
      "Accuracy on test set: 0.6064453125\n",
      "Starting epoch 6/10, LR = [0.00125]\n",
      "Step 70\n",
      "Class Loss 0.020225565880537033, Domain Loss 7.82310962677002e-08\n"
     ],
     "name": "stdout"
    },
    {
     "output_type": "stream",
     "text": [
      "100%|██████████| 31/31 [00:09<00:00,  3.14it/s]\n"
     ],
     "name": "stderr"
    },
    {
     "output_type": "stream",
     "text": [
      "Accuracy on test set: 0.6083984375\n",
      "Starting epoch 7/10, LR = [0.0025]\n",
      "Step 80\n",
      "Class Loss 0.009713917970657349, Domain Loss 3.3527612686157227e-08\n",
      "Step 90\n",
      "Class Loss 0.002640973776578903, Domain Loss 0.0\n"
     ],
     "name": "stdout"
    },
    {
     "output_type": "stream",
     "text": [
      "100%|██████████| 31/31 [00:09<00:00,  3.15it/s]"
     ],
     "name": "stderr"
    },
    {
     "output_type": "stream",
     "text": [
      "Accuracy on test set: 0.6005859375\n",
      "Starting epoch 8/10, LR = [0.0025]\n"
     ],
     "name": "stdout"
    },
    {
     "output_type": "stream",
     "text": [
      "\n"
     ],
     "name": "stderr"
    },
    {
     "output_type": "stream",
     "text": [
      "Step 100\n",
      "Class Loss 0.00586286187171936, Domain Loss 0.0\n"
     ],
     "name": "stdout"
    },
    {
     "output_type": "stream",
     "text": [
      "100%|██████████| 31/31 [00:09<00:00,  3.16it/s]"
     ],
     "name": "stderr"
    },
    {
     "output_type": "stream",
     "text": [
      "Accuracy on test set: 0.60107421875\n",
      "Starting epoch 9/10, LR = [0.0025]\n"
     ],
     "name": "stdout"
    },
    {
     "output_type": "stream",
     "text": [
      "\n"
     ],
     "name": "stderr"
    },
    {
     "output_type": "stream",
     "text": [
      "Step 110\n",
      "Class Loss 0.001744333654642105, Domain Loss 0.0\n"
     ],
     "name": "stdout"
    },
    {
     "output_type": "stream",
     "text": [
      "100%|██████████| 31/31 [00:09<00:00,  3.17it/s]\n"
     ],
     "name": "stderr"
    },
    {
     "output_type": "stream",
     "text": [
      "Accuracy on test set: 0.6015625\n",
      "Starting epoch 10/10, LR = [0.0025]\n",
      "Step 120\n",
      "Class Loss 0.002232629805803299, Domain Loss 0.0\n"
     ],
     "name": "stdout"
    },
    {
     "output_type": "stream",
     "text": [
      "100%|██████████| 31/31 [00:09<00:00,  3.16it/s]\n"
     ],
     "name": "stderr"
    },
    {
     "output_type": "stream",
     "text": [
      "Accuracy on test set: 0.60595703125\n",
      "Starting epoch 1/10, LR = [0.005]\n",
      "Step 0\n",
      "Class Loss 2.131509304046631, Domain Loss 1.6721630096435547\n",
      "Step 10\n",
      "Class Loss 0.17248943448066711, Domain Loss 1.0811448097229004\n"
     ],
     "name": "stdout"
    },
    {
     "output_type": "stream",
     "text": [
      "100%|██████████| 19/19 [00:06<00:00,  3.07it/s]\n"
     ],
     "name": "stderr"
    },
    {
     "output_type": "stream",
     "text": [
      "Accuracy on test set: 0.32568359375\n",
      "Starting epoch 2/10, LR = [0.005]\n",
      "Step 20\n",
      "Class Loss 0.1736266314983368, Domain Loss 0.08865915238857269\n"
     ],
     "name": "stdout"
    },
    {
     "output_type": "stream",
     "text": [
      "100%|██████████| 19/19 [00:06<00:00,  3.06it/s]\n"
     ],
     "name": "stderr"
    },
    {
     "output_type": "stream",
     "text": [
      "Accuracy on test set: 0.34619140625\n",
      "Starting epoch 3/10, LR = [0.005]\n",
      "Step 30\n",
      "Class Loss 0.12168178707361221, Domain Loss 0.2833094000816345\n"
     ],
     "name": "stdout"
    },
    {
     "output_type": "stream",
     "text": [
      "100%|██████████| 19/19 [00:06<00:00,  3.05it/s]\n"
     ],
     "name": "stderr"
    },
    {
     "output_type": "stream",
     "text": [
      "Accuracy on test set: 0.513671875\n",
      "Starting epoch 4/10, LR = [0.005]\n",
      "Step 40\n",
      "Class Loss 0.07511615753173828, Domain Loss 0.40213721990585327\n",
      "Step 50\n",
      "Class Loss 0.0711241289973259, Domain Loss 0.2950764298439026\n"
     ],
     "name": "stdout"
    },
    {
     "output_type": "stream",
     "text": [
      "100%|██████████| 19/19 [00:06<00:00,  3.07it/s]\n"
     ],
     "name": "stderr"
    },
    {
     "output_type": "stream",
     "text": [
      "Accuracy on test set: 0.3603515625\n",
      "Starting epoch 5/10, LR = [0.005]\n",
      "Step 60\n",
      "Class Loss 0.06686673313379288, Domain Loss 0.6057472825050354\n"
     ],
     "name": "stdout"
    },
    {
     "output_type": "stream",
     "text": [
      "100%|██████████| 19/19 [00:06<00:00,  3.06it/s]"
     ],
     "name": "stderr"
    },
    {
     "output_type": "stream",
     "text": [
      "Accuracy on test set: 0.3994140625\n",
      "Starting epoch 6/10, LR = [0.005]\n"
     ],
     "name": "stdout"
    },
    {
     "output_type": "stream",
     "text": [
      "\n"
     ],
     "name": "stderr"
    },
    {
     "output_type": "stream",
     "text": [
      "Step 70\n",
      "Class Loss 0.03357505798339844, Domain Loss 0.3181709051132202\n"
     ],
     "name": "stdout"
    },
    {
     "output_type": "stream",
     "text": [
      "100%|██████████| 19/19 [00:06<00:00,  3.04it/s]"
     ],
     "name": "stderr"
    },
    {
     "output_type": "stream",
     "text": [
      "Accuracy on test set: 0.41552734375\n",
      "Starting epoch 7/10, LR = [0.005]\n"
     ],
     "name": "stdout"
    },
    {
     "output_type": "stream",
     "text": [
      "\n"
     ],
     "name": "stderr"
    },
    {
     "output_type": "stream",
     "text": [
      "Step 80\n",
      "Class Loss 0.02361154928803444, Domain Loss 0.13106483221054077\n",
      "Step 90\n",
      "Class Loss 0.01953301951289177, Domain Loss 0.10548190772533417\n"
     ],
     "name": "stdout"
    },
    {
     "output_type": "stream",
     "text": [
      "100%|██████████| 19/19 [00:06<00:00,  3.02it/s]"
     ],
     "name": "stderr"
    },
    {
     "output_type": "stream",
     "text": [
      "Accuracy on test set: 0.421875\n",
      "Starting epoch 8/10, LR = [0.005]\n"
     ],
     "name": "stdout"
    },
    {
     "output_type": "stream",
     "text": [
      "\n"
     ],
     "name": "stderr"
    },
    {
     "output_type": "stream",
     "text": [
      "Step 100\n",
      "Class Loss 0.016647713258862495, Domain Loss 0.05723299831151962\n"
     ],
     "name": "stdout"
    },
    {
     "output_type": "stream",
     "text": [
      "100%|██████████| 19/19 [00:06<00:00,  3.09it/s]"
     ],
     "name": "stderr"
    },
    {
     "output_type": "stream",
     "text": [
      "Accuracy on test set: 0.50146484375\n",
      "Starting epoch 9/10, LR = [0.005]\n"
     ],
     "name": "stdout"
    },
    {
     "output_type": "stream",
     "text": [
      "\n"
     ],
     "name": "stderr"
    },
    {
     "output_type": "stream",
     "text": [
      "Step 110\n",
      "Class Loss 0.03890688717365265, Domain Loss 0.2912607789039612\n"
     ],
     "name": "stdout"
    },
    {
     "output_type": "stream",
     "text": [
      "100%|██████████| 19/19 [00:06<00:00,  3.05it/s]\n"
     ],
     "name": "stderr"
    },
    {
     "output_type": "stream",
     "text": [
      "Accuracy on test set: 0.544921875\n",
      "Starting epoch 10/10, LR = [0.005]\n",
      "Step 120\n",
      "Class Loss 0.030507393181324005, Domain Loss 0.1954396516084671\n"
     ],
     "name": "stdout"
    },
    {
     "output_type": "stream",
     "text": [
      "100%|██████████| 19/19 [00:06<00:00,  3.09it/s]\n"
     ],
     "name": "stderr"
    },
    {
     "output_type": "stream",
     "text": [
      "Accuracy on test set: 0.55517578125\n",
      "Starting epoch 1/10, LR = [0.005]\n",
      "Step 0\n",
      "Class Loss 2.3012380599975586, Domain Loss 1.9828674793243408\n",
      "Step 10\n",
      "Class Loss 0.299216628074646, Domain Loss 0.2802632749080658\n"
     ],
     "name": "stdout"
    },
    {
     "output_type": "stream",
     "text": [
      "100%|██████████| 31/31 [00:09<00:00,  3.14it/s]\n"
     ],
     "name": "stderr"
    },
    {
     "output_type": "stream",
     "text": [
      "Accuracy on test set: 0.5654296875\n",
      "Starting epoch 2/10, LR = [0.005]\n",
      "Step 20\n",
      "Class Loss 0.08704404532909393, Domain Loss 0.0\n"
     ],
     "name": "stdout"
    },
    {
     "output_type": "stream",
     "text": [
      "100%|██████████| 31/31 [00:09<00:00,  3.16it/s]\n"
     ],
     "name": "stderr"
    },
    {
     "output_type": "stream",
     "text": [
      "Accuracy on test set: 0.5771484375\n",
      "Starting epoch 3/10, LR = [0.005]\n",
      "Step 30\n",
      "Class Loss 0.11827594041824341, Domain Loss 0.004261673428118229\n"
     ],
     "name": "stdout"
    },
    {
     "output_type": "stream",
     "text": [
      "100%|██████████| 31/31 [00:09<00:00,  3.14it/s]\n"
     ],
     "name": "stderr"
    },
    {
     "output_type": "stream",
     "text": [
      "Accuracy on test set: 0.63720703125\n",
      "Starting epoch 4/10, LR = [0.005]\n",
      "Step 40\n",
      "Class Loss 0.017812339588999748, Domain Loss 0.029257405549287796\n",
      "Step 50\n",
      "Class Loss 0.044829703867435455, Domain Loss 0.04869913309812546\n"
     ],
     "name": "stdout"
    },
    {
     "output_type": "stream",
     "text": [
      "100%|██████████| 31/31 [00:09<00:00,  3.17it/s]"
     ],
     "name": "stderr"
    },
    {
     "output_type": "stream",
     "text": [
      "Accuracy on test set: 0.4541015625\n",
      "Starting epoch 5/10, LR = [0.005]\n"
     ],
     "name": "stdout"
    },
    {
     "output_type": "stream",
     "text": [
      "\n"
     ],
     "name": "stderr"
    },
    {
     "output_type": "stream",
     "text": [
      "Step 60\n",
      "Class Loss nan, Domain Loss nan\n"
     ],
     "name": "stdout"
    },
    {
     "output_type": "stream",
     "text": [
      "100%|██████████| 31/31 [00:09<00:00,  3.18it/s]"
     ],
     "name": "stderr"
    },
    {
     "output_type": "stream",
     "text": [
      "Accuracy on test set: 0.376953125\n",
      "Starting epoch 6/10, LR = [0.005]\n"
     ],
     "name": "stdout"
    },
    {
     "output_type": "stream",
     "text": [
      "\n"
     ],
     "name": "stderr"
    },
    {
     "output_type": "stream",
     "text": [
      "Step 70\n",
      "Class Loss nan, Domain Loss nan\n"
     ],
     "name": "stdout"
    },
    {
     "output_type": "stream",
     "text": [
      "100%|██████████| 31/31 [00:09<00:00,  3.16it/s]\n"
     ],
     "name": "stderr"
    },
    {
     "output_type": "stream",
     "text": [
      "Accuracy on test set: 0.376953125\n",
      "Starting epoch 7/10, LR = [0.005]\n",
      "Step 80\n",
      "Class Loss nan, Domain Loss nan\n",
      "Step 90\n",
      "Class Loss nan, Domain Loss nan\n",
      "EARLY STOPPING\n",
      "Starting epoch 1/10, LR = [0.008]\n",
      "Step 0\n",
      "Class Loss 2.079557180404663, Domain Loss 1.874749779701233\n",
      "Step 10\n",
      "Class Loss 0.278403103351593, Domain Loss 0.5252795219421387\n"
     ],
     "name": "stdout"
    },
    {
     "output_type": "stream",
     "text": [
      "100%|██████████| 19/19 [00:06<00:00,  3.03it/s]\n"
     ],
     "name": "stderr"
    },
    {
     "output_type": "stream",
     "text": [
      "Accuracy on test set: 0.38037109375\n",
      "Starting epoch 2/10, LR = [0.008]\n",
      "Step 20\n",
      "Class Loss 534853.6875, Domain Loss 37342364.0\n"
     ],
     "name": "stdout"
    },
    {
     "output_type": "stream",
     "text": [
      "100%|██████████| 19/19 [00:06<00:00,  3.07it/s]"
     ],
     "name": "stderr"
    },
    {
     "output_type": "stream",
     "text": [
      "Accuracy on test set: 0.18994140625\n",
      "Starting epoch 3/10, LR = [0.008]\n"
     ],
     "name": "stdout"
    },
    {
     "output_type": "stream",
     "text": [
      "\n"
     ],
     "name": "stderr"
    },
    {
     "output_type": "stream",
     "text": [
      "Step 30\n",
      "Class Loss nan, Domain Loss nan\n"
     ],
     "name": "stdout"
    },
    {
     "output_type": "stream",
     "text": [
      "100%|██████████| 19/19 [00:06<00:00,  3.07it/s]"
     ],
     "name": "stderr"
    },
    {
     "output_type": "stream",
     "text": [
      "Accuracy on test set: 0.18994140625\n",
      "Starting epoch 4/10, LR = [0.008]\n"
     ],
     "name": "stdout"
    },
    {
     "output_type": "stream",
     "text": [
      "\n"
     ],
     "name": "stderr"
    },
    {
     "output_type": "stream",
     "text": [
      "Step 40\n",
      "Class Loss nan, Domain Loss nan\n",
      "Step 50\n",
      "Class Loss nan, Domain Loss nan\n",
      "EARLY STOPPING\n",
      "Starting epoch 1/10, LR = [0.008]\n",
      "Step 0\n",
      "Class Loss 2.0007612705230713, Domain Loss 1.3993558883666992\n",
      "Step 10\n",
      "Class Loss 0.1251015067100525, Domain Loss 7.450580596923828e-08\n"
     ],
     "name": "stdout"
    },
    {
     "output_type": "stream",
     "text": [
      "100%|██████████| 31/31 [00:10<00:00,  3.10it/s]\n"
     ],
     "name": "stderr"
    },
    {
     "output_type": "stream",
     "text": [
      "Accuracy on test set: 0.50390625\n",
      "Starting epoch 2/10, LR = [0.008]\n",
      "Step 20\n",
      "Class Loss 0.16986222565174103, Domain Loss 0.020995307713747025\n"
     ],
     "name": "stdout"
    },
    {
     "output_type": "stream",
     "text": [
      "100%|██████████| 31/31 [00:09<00:00,  3.12it/s]"
     ],
     "name": "stderr"
    },
    {
     "output_type": "stream",
     "text": [
      "Accuracy on test set: 0.31689453125\n",
      "Starting epoch 3/10, LR = [0.008]\n"
     ],
     "name": "stdout"
    },
    {
     "output_type": "stream",
     "text": [
      "\n"
     ],
     "name": "stderr"
    },
    {
     "output_type": "stream",
     "text": [
      "Step 30\n",
      "Class Loss 0.1356029361486435, Domain Loss 0.34309762716293335\n"
     ],
     "name": "stdout"
    },
    {
     "output_type": "stream",
     "text": [
      "100%|██████████| 31/31 [00:09<00:00,  3.12it/s]"
     ],
     "name": "stderr"
    },
    {
     "output_type": "stream",
     "text": [
      "Accuracy on test set: 0.376953125\n",
      "Starting epoch 4/10, LR = [0.008]\n"
     ],
     "name": "stdout"
    },
    {
     "output_type": "stream",
     "text": [
      "\n"
     ],
     "name": "stderr"
    },
    {
     "output_type": "stream",
     "text": [
      "Step 40\n",
      "Class Loss nan, Domain Loss nan\n",
      "Step 50\n",
      "Class Loss nan, Domain Loss nan\n"
     ],
     "name": "stdout"
    },
    {
     "output_type": "stream",
     "text": [
      "100%|██████████| 31/31 [00:09<00:00,  3.11it/s]"
     ],
     "name": "stderr"
    },
    {
     "output_type": "stream",
     "text": [
      "Accuracy on test set: 0.376953125\n",
      "Starting epoch 5/10, LR = [0.008]\n"
     ],
     "name": "stdout"
    },
    {
     "output_type": "stream",
     "text": [
      "\n"
     ],
     "name": "stderr"
    },
    {
     "output_type": "stream",
     "text": [
      "Step 60\n",
      "Class Loss nan, Domain Loss nan\n",
      "EARLY STOPPING\n",
      "Starting epoch 1/10, LR = [0.008]\n",
      "Step 0\n",
      "Class Loss 2.122835636138916, Domain Loss 1.7807540893554688\n",
      "Step 10\n",
      "Class Loss 0.21580642461776733, Domain Loss 0.3893709182739258\n"
     ],
     "name": "stdout"
    },
    {
     "output_type": "stream",
     "text": [
      "100%|██████████| 19/19 [00:06<00:00,  3.00it/s]\n"
     ],
     "name": "stderr"
    },
    {
     "output_type": "stream",
     "text": [
      "Accuracy on test set: 0.42919921875\n",
      "Starting epoch 2/10, LR = [0.008]\n",
      "Step 20\n",
      "Class Loss 0.307797372341156, Domain Loss 0.6513112187385559\n"
     ],
     "name": "stdout"
    },
    {
     "output_type": "stream",
     "text": [
      "100%|██████████| 19/19 [00:06<00:00,  3.00it/s]"
     ],
     "name": "stderr"
    },
    {
     "output_type": "stream",
     "text": [
      "Accuracy on test set: 0.35009765625\n",
      "Starting epoch 3/10, LR = [0.008]\n"
     ],
     "name": "stdout"
    },
    {
     "output_type": "stream",
     "text": [
      "\n"
     ],
     "name": "stderr"
    },
    {
     "output_type": "stream",
     "text": [
      "Step 30\n",
      "Class Loss 0.3183603286743164, Domain Loss 0.5467367172241211\n"
     ],
     "name": "stdout"
    },
    {
     "output_type": "stream",
     "text": [
      "100%|██████████| 19/19 [00:06<00:00,  3.05it/s]\n"
     ],
     "name": "stderr"
    },
    {
     "output_type": "stream",
     "text": [
      "Accuracy on test set: 0.4931640625\n",
      "Starting epoch 4/10, LR = [0.008]\n",
      "Step 40\n",
      "Class Loss 0.07065737992525101, Domain Loss 0.41067129373550415\n",
      "Step 50\n",
      "Class Loss 0.059467025101184845, Domain Loss 0.9370496869087219\n"
     ],
     "name": "stdout"
    },
    {
     "output_type": "stream",
     "text": [
      "100%|██████████| 19/19 [00:06<00:00,  3.08it/s]"
     ],
     "name": "stderr"
    },
    {
     "output_type": "stream",
     "text": [
      "Accuracy on test set: 0.45458984375\n",
      "Starting epoch 5/10, LR = [0.008]\n"
     ],
     "name": "stdout"
    },
    {
     "output_type": "stream",
     "text": [
      "\n"
     ],
     "name": "stderr"
    },
    {
     "output_type": "stream",
     "text": [
      "Step 60\n",
      "Class Loss 0.6641731262207031, Domain Loss 0.5372432470321655\n"
     ],
     "name": "stdout"
    },
    {
     "output_type": "stream",
     "text": [
      "100%|██████████| 19/19 [00:06<00:00,  3.06it/s]"
     ],
     "name": "stderr"
    },
    {
     "output_type": "stream",
     "text": [
      "Accuracy on test set: 0.41357421875\n",
      "Starting epoch 6/10, LR = [0.008]\n"
     ],
     "name": "stdout"
    },
    {
     "output_type": "stream",
     "text": [
      "\n"
     ],
     "name": "stderr"
    },
    {
     "output_type": "stream",
     "text": [
      "Step 70\n",
      "Class Loss 0.40671491622924805, Domain Loss 0.9511578679084778\n"
     ],
     "name": "stdout"
    },
    {
     "output_type": "stream",
     "text": [
      "100%|██████████| 19/19 [00:06<00:00,  3.07it/s]"
     ],
     "name": "stderr"
    },
    {
     "output_type": "stream",
     "text": [
      "Accuracy on test set: 0.47265625\n",
      "Starting epoch 7/10, LR = [0.008]\n"
     ],
     "name": "stdout"
    },
    {
     "output_type": "stream",
     "text": [
      "\n"
     ],
     "name": "stderr"
    },
    {
     "output_type": "stream",
     "text": [
      "Step 80\n",
      "Class Loss 0.1677139550447464, Domain Loss 0.7799094319343567\n",
      "Step 90\n",
      "Class Loss 0.22280669212341309, Domain Loss 0.9037910103797913\n"
     ],
     "name": "stdout"
    },
    {
     "output_type": "stream",
     "text": [
      "100%|██████████| 19/19 [00:06<00:00,  3.09it/s]"
     ],
     "name": "stderr"
    },
    {
     "output_type": "stream",
     "text": [
      "Accuracy on test set: 0.49267578125\n",
      "Starting epoch 8/10, LR = [0.008]\n"
     ],
     "name": "stdout"
    },
    {
     "output_type": "stream",
     "text": [
      "\n"
     ],
     "name": "stderr"
    },
    {
     "output_type": "stream",
     "text": [
      "Step 100\n",
      "Class Loss 0.09058025479316711, Domain Loss 0.554721474647522\n"
     ],
     "name": "stdout"
    },
    {
     "output_type": "stream",
     "text": [
      "100%|██████████| 19/19 [00:06<00:00,  3.04it/s]\n"
     ],
     "name": "stderr"
    },
    {
     "output_type": "stream",
     "text": [
      "Accuracy on test set: 0.51220703125\n",
      "Starting epoch 9/10, LR = [0.008]\n",
      "Step 110\n",
      "Class Loss 0.08622853457927704, Domain Loss 0.2270994484424591\n"
     ],
     "name": "stdout"
    },
    {
     "output_type": "stream",
     "text": [
      "100%|██████████| 19/19 [00:06<00:00,  3.10it/s]"
     ],
     "name": "stderr"
    },
    {
     "output_type": "stream",
     "text": [
      "Accuracy on test set: 0.48046875\n",
      "Starting epoch 10/10, LR = [0.008]\n"
     ],
     "name": "stdout"
    },
    {
     "output_type": "stream",
     "text": [
      "\n"
     ],
     "name": "stderr"
    },
    {
     "output_type": "stream",
     "text": [
      "Step 120\n",
      "Class Loss 0.09701191633939743, Domain Loss 0.3694172501564026\n"
     ],
     "name": "stdout"
    },
    {
     "output_type": "stream",
     "text": [
      "100%|██████████| 19/19 [00:06<00:00,  3.01it/s]\n"
     ],
     "name": "stderr"
    },
    {
     "output_type": "stream",
     "text": [
      "Accuracy on test set: 0.51318359375\n",
      "Starting epoch 1/10, LR = [0.008]\n",
      "Step 0\n",
      "Class Loss 2.37345552444458, Domain Loss 2.0692367553710938\n",
      "Step 10\n",
      "Class Loss 0.18243055045604706, Domain Loss 0.0\n"
     ],
     "name": "stdout"
    },
    {
     "output_type": "stream",
     "text": [
      "100%|██████████| 31/31 [00:09<00:00,  3.13it/s]\n"
     ],
     "name": "stderr"
    },
    {
     "output_type": "stream",
     "text": [
      "Accuracy on test set: 0.5546875\n",
      "Starting epoch 2/10, LR = [0.008]\n",
      "Step 20\n",
      "Class Loss nan, Domain Loss nan\n"
     ],
     "name": "stdout"
    },
    {
     "output_type": "stream",
     "text": [
      "100%|██████████| 31/31 [00:09<00:00,  3.13it/s]"
     ],
     "name": "stderr"
    },
    {
     "output_type": "stream",
     "text": [
      "Accuracy on test set: 0.376953125\n",
      "Starting epoch 3/10, LR = [0.008]\n"
     ],
     "name": "stdout"
    },
    {
     "output_type": "stream",
     "text": [
      "\n"
     ],
     "name": "stderr"
    },
    {
     "output_type": "stream",
     "text": [
      "Step 30\n",
      "Class Loss nan, Domain Loss nan\n"
     ],
     "name": "stdout"
    },
    {
     "output_type": "stream",
     "text": [
      "100%|██████████| 31/31 [00:09<00:00,  3.17it/s]"
     ],
     "name": "stderr"
    },
    {
     "output_type": "stream",
     "text": [
      "Accuracy on test set: 0.376953125\n",
      "Starting epoch 4/10, LR = [0.008]\n"
     ],
     "name": "stdout"
    },
    {
     "output_type": "stream",
     "text": [
      "\n"
     ],
     "name": "stderr"
    },
    {
     "output_type": "stream",
     "text": [
      "Step 40\n",
      "Class Loss nan, Domain Loss nan\n",
      "Step 50\n",
      "Class Loss nan, Domain Loss nan\n",
      "EARLY STOPPING\n",
      "Starting epoch 1/10, LR = [0.005]\n",
      "Step 0\n",
      "Class Loss 2.212465763092041, Domain Loss 1.560861349105835\n",
      "Step 10\n",
      "Class Loss 0.23115676641464233, Domain Loss 0.579491376876831\n"
     ],
     "name": "stdout"
    },
    {
     "output_type": "stream",
     "text": [
      "100%|██████████| 19/19 [00:06<00:00,  3.01it/s]\n"
     ],
     "name": "stderr"
    },
    {
     "output_type": "stream",
     "text": [
      "Accuracy on test set: 0.4912109375\n",
      "Starting epoch 2/10, LR = [0.005]\n",
      "Step 20\n",
      "Class Loss 0.24025321006774902, Domain Loss 1.2649126052856445\n"
     ],
     "name": "stdout"
    },
    {
     "output_type": "stream",
     "text": [
      "100%|██████████| 19/19 [00:06<00:00,  3.06it/s]"
     ],
     "name": "stderr"
    },
    {
     "output_type": "stream",
     "text": [
      "Accuracy on test set: 0.435546875\n",
      "Starting epoch 3/10, LR = [0.005]\n"
     ],
     "name": "stdout"
    },
    {
     "output_type": "stream",
     "text": [
      "\n"
     ],
     "name": "stderr"
    },
    {
     "output_type": "stream",
     "text": [
      "Step 30\n",
      "Class Loss 206.6604461669922, Domain Loss 646.5814819335938\n"
     ],
     "name": "stdout"
    },
    {
     "output_type": "stream",
     "text": [
      "100%|██████████| 19/19 [00:06<00:00,  3.10it/s]"
     ],
     "name": "stderr"
    },
    {
     "output_type": "stream",
     "text": [
      "Accuracy on test set: 0.18994140625\n",
      "Starting epoch 4/10, LR = [0.005]\n"
     ],
     "name": "stdout"
    },
    {
     "output_type": "stream",
     "text": [
      "\n"
     ],
     "name": "stderr"
    },
    {
     "output_type": "stream",
     "text": [
      "Step 40\n",
      "Class Loss nan, Domain Loss nan\n",
      "Step 50\n",
      "Class Loss nan, Domain Loss nan\n"
     ],
     "name": "stdout"
    },
    {
     "output_type": "stream",
     "text": [
      "100%|██████████| 19/19 [00:06<00:00,  3.10it/s]"
     ],
     "name": "stderr"
    },
    {
     "output_type": "stream",
     "text": [
      "Accuracy on test set: 0.18994140625\n",
      "Starting epoch 5/10, LR = [0.005]\n"
     ],
     "name": "stdout"
    },
    {
     "output_type": "stream",
     "text": [
      "\n"
     ],
     "name": "stderr"
    },
    {
     "output_type": "stream",
     "text": [
      "Step 60\n",
      "Class Loss nan, Domain Loss nan\n",
      "EARLY STOPPING\n",
      "Starting epoch 1/10, LR = [0.005]\n",
      "Step 0\n",
      "Class Loss 2.2892959117889404, Domain Loss 2.0675666332244873\n",
      "Step 10\n",
      "Class Loss 1.7771029472351074, Domain Loss 12.89542293548584\n"
     ],
     "name": "stdout"
    },
    {
     "output_type": "stream",
     "text": [
      "100%|██████████| 31/31 [00:09<00:00,  3.12it/s]\n"
     ],
     "name": "stderr"
    },
    {
     "output_type": "stream",
     "text": [
      "Accuracy on test set: 0.078125\n",
      "Starting epoch 2/10, LR = [0.005]\n",
      "Step 20\n",
      "Class Loss nan, Domain Loss nan\n"
     ],
     "name": "stdout"
    },
    {
     "output_type": "stream",
     "text": [
      "100%|██████████| 31/31 [00:09<00:00,  3.17it/s]\n"
     ],
     "name": "stderr"
    },
    {
     "output_type": "stream",
     "text": [
      "Accuracy on test set: 0.376953125\n",
      "Starting epoch 3/10, LR = [0.005]\n",
      "Step 30\n",
      "Class Loss nan, Domain Loss nan\n"
     ],
     "name": "stdout"
    },
    {
     "output_type": "stream",
     "text": [
      "100%|██████████| 31/31 [00:09<00:00,  3.13it/s]"
     ],
     "name": "stderr"
    },
    {
     "output_type": "stream",
     "text": [
      "Accuracy on test set: 0.376953125\n",
      "Starting epoch 4/10, LR = [0.005]\n"
     ],
     "name": "stdout"
    },
    {
     "output_type": "stream",
     "text": [
      "\n"
     ],
     "name": "stderr"
    },
    {
     "output_type": "stream",
     "text": [
      "Step 40\n",
      "Class Loss nan, Domain Loss nan\n",
      "Step 50\n",
      "Class Loss nan, Domain Loss nan\n",
      "EARLY STOPPING\n",
      "Starting epoch 1/10, LR = [0.005]\n",
      "Step 0\n",
      "Class Loss 2.247572183609009, Domain Loss 1.3570737838745117\n",
      "Step 10\n",
      "Class Loss 0.13089442253112793, Domain Loss 0.3047337234020233\n"
     ],
     "name": "stdout"
    },
    {
     "output_type": "stream",
     "text": [
      "100%|██████████| 19/19 [00:06<00:00,  3.01it/s]\n"
     ],
     "name": "stderr"
    },
    {
     "output_type": "stream",
     "text": [
      "Accuracy on test set: 0.3818359375\n",
      "Starting epoch 2/10, LR = [0.005]\n",
      "Step 20\n",
      "Class Loss 0.19293268024921417, Domain Loss 1.1128042936325073\n"
     ],
     "name": "stdout"
    },
    {
     "output_type": "stream",
     "text": [
      "100%|██████████| 19/19 [00:06<00:00,  3.04it/s]\n"
     ],
     "name": "stderr"
    },
    {
     "output_type": "stream",
     "text": [
      "Accuracy on test set: 0.52978515625\n",
      "Starting epoch 3/10, LR = [0.005]\n",
      "Step 30\n",
      "Class Loss 2.7786407470703125, Domain Loss 8.22355842590332\n"
     ],
     "name": "stdout"
    },
    {
     "output_type": "stream",
     "text": [
      "100%|██████████| 19/19 [00:06<00:00,  3.05it/s]"
     ],
     "name": "stderr"
    },
    {
     "output_type": "stream",
     "text": [
      "Accuracy on test set: 0.18994140625\n",
      "Starting epoch 4/10, LR = [0.005]\n"
     ],
     "name": "stdout"
    },
    {
     "output_type": "stream",
     "text": [
      "\n"
     ],
     "name": "stderr"
    },
    {
     "output_type": "stream",
     "text": [
      "Step 40\n",
      "Class Loss nan, Domain Loss nan\n",
      "Step 50\n",
      "Class Loss nan, Domain Loss nan\n"
     ],
     "name": "stdout"
    },
    {
     "output_type": "stream",
     "text": [
      "100%|██████████| 19/19 [00:06<00:00,  3.06it/s]"
     ],
     "name": "stderr"
    },
    {
     "output_type": "stream",
     "text": [
      "Accuracy on test set: 0.18994140625\n",
      "Starting epoch 5/10, LR = [0.005]\n"
     ],
     "name": "stdout"
    },
    {
     "output_type": "stream",
     "text": [
      "\n"
     ],
     "name": "stderr"
    },
    {
     "output_type": "stream",
     "text": [
      "Step 60\n",
      "Class Loss nan, Domain Loss nan\n",
      "EARLY STOPPING\n",
      "Starting epoch 1/10, LR = [0.005]\n",
      "Step 0\n",
      "Class Loss 2.196361541748047, Domain Loss 1.296966791152954\n",
      "Step 10\n",
      "Class Loss 0.1600228250026703, Domain Loss 0.054387640208005905\n"
     ],
     "name": "stdout"
    },
    {
     "output_type": "stream",
     "text": [
      "100%|██████████| 31/31 [00:09<00:00,  3.15it/s]\n"
     ],
     "name": "stderr"
    },
    {
     "output_type": "stream",
     "text": [
      "Accuracy on test set: 0.32958984375\n",
      "Starting epoch 2/10, LR = [0.005]\n",
      "Step 20\n",
      "Class Loss 0.08821672201156616, Domain Loss 0.032420188188552856\n"
     ],
     "name": "stdout"
    },
    {
     "output_type": "stream",
     "text": [
      "100%|██████████| 31/31 [00:10<00:00,  3.09it/s]\n"
     ],
     "name": "stderr"
    },
    {
     "output_type": "stream",
     "text": [
      "Accuracy on test set: 0.57666015625\n",
      "Starting epoch 3/10, LR = [0.005]\n",
      "Step 30\n",
      "Class Loss 0.16957974433898926, Domain Loss 1.3560056686401367e-06\n"
     ],
     "name": "stdout"
    },
    {
     "output_type": "stream",
     "text": [
      "100%|██████████| 31/31 [00:09<00:00,  3.13it/s]"
     ],
     "name": "stderr"
    },
    {
     "output_type": "stream",
     "text": [
      "Accuracy on test set: 0.50341796875\n",
      "Starting epoch 4/10, LR = [0.005]\n"
     ],
     "name": "stdout"
    },
    {
     "output_type": "stream",
     "text": [
      "\n"
     ],
     "name": "stderr"
    },
    {
     "output_type": "stream",
     "text": [
      "Step 40\n",
      "Class Loss 0.026283657178282738, Domain Loss 0.00067862868309021\n",
      "Step 50\n",
      "Class Loss 1.7812038660049438, Domain Loss 107.6028823852539\n"
     ],
     "name": "stdout"
    },
    {
     "output_type": "stream",
     "text": [
      "100%|██████████| 31/31 [00:09<00:00,  3.14it/s]"
     ],
     "name": "stderr"
    },
    {
     "output_type": "stream",
     "text": [
      "Accuracy on test set: 0.0390625\n",
      "Starting epoch 5/10, LR = [0.005]\n"
     ],
     "name": "stdout"
    },
    {
     "output_type": "stream",
     "text": [
      "\n"
     ],
     "name": "stderr"
    },
    {
     "output_type": "stream",
     "text": [
      "Step 60\n",
      "Class Loss nan, Domain Loss nan\n"
     ],
     "name": "stdout"
    },
    {
     "output_type": "stream",
     "text": [
      "100%|██████████| 31/31 [00:09<00:00,  3.17it/s]\n"
     ],
     "name": "stderr"
    },
    {
     "output_type": "stream",
     "text": [
      "Accuracy on test set: 0.376953125\n",
      "Starting epoch 6/10, LR = [0.005]\n",
      "Step 70\n",
      "Class Loss nan, Domain Loss nan\n"
     ],
     "name": "stdout"
    },
    {
     "output_type": "stream",
     "text": [
      "100%|██████████| 31/31 [00:09<00:00,  3.14it/s]\n"
     ],
     "name": "stderr"
    },
    {
     "output_type": "stream",
     "text": [
      "Accuracy on test set: 0.376953125\n",
      "Starting epoch 7/10, LR = [0.005]\n",
      "Step 80\n",
      "Class Loss nan, Domain Loss nan\n",
      "Step 90\n",
      "Class Loss nan, Domain Loss nan\n",
      "EARLY STOPPING\n",
      "Starting epoch 1/10, LR = [0.008]\n",
      "Step 0\n",
      "Class Loss 1.8284687995910645, Domain Loss 1.576237678527832\n",
      "Step 10\n",
      "Class Loss 3.2480907440185547, Domain Loss 13.65435791015625\n"
     ],
     "name": "stdout"
    },
    {
     "output_type": "stream",
     "text": [
      "100%|██████████| 19/19 [00:06<00:00,  3.02it/s]\n"
     ],
     "name": "stderr"
    },
    {
     "output_type": "stream",
     "text": [
      "Accuracy on test set: 0.19775390625\n",
      "Starting epoch 2/10, LR = [0.008]\n",
      "Step 20\n",
      "Class Loss nan, Domain Loss nan\n"
     ],
     "name": "stdout"
    },
    {
     "output_type": "stream",
     "text": [
      "100%|██████████| 19/19 [00:06<00:00,  3.00it/s]"
     ],
     "name": "stderr"
    },
    {
     "output_type": "stream",
     "text": [
      "Accuracy on test set: 0.18994140625\n",
      "Starting epoch 3/10, LR = [0.008]\n"
     ],
     "name": "stdout"
    },
    {
     "output_type": "stream",
     "text": [
      "\n"
     ],
     "name": "stderr"
    },
    {
     "output_type": "stream",
     "text": [
      "Step 30\n",
      "Class Loss nan, Domain Loss nan\n"
     ],
     "name": "stdout"
    },
    {
     "output_type": "stream",
     "text": [
      "100%|██████████| 19/19 [00:06<00:00,  3.08it/s]"
     ],
     "name": "stderr"
    },
    {
     "output_type": "stream",
     "text": [
      "Accuracy on test set: 0.18994140625\n",
      "Starting epoch 4/10, LR = [0.008]\n"
     ],
     "name": "stdout"
    },
    {
     "output_type": "stream",
     "text": [
      "\n"
     ],
     "name": "stderr"
    },
    {
     "output_type": "stream",
     "text": [
      "Step 40\n",
      "Class Loss nan, Domain Loss nan\n",
      "Step 50\n",
      "Class Loss nan, Domain Loss nan\n",
      "EARLY STOPPING\n",
      "Starting epoch 1/10, LR = [0.008]\n",
      "Step 0\n",
      "Class Loss 1.8826810121536255, Domain Loss 1.4125709533691406\n",
      "Step 10\n",
      "Class Loss 47011.171875, Domain Loss 2127722.0\n"
     ],
     "name": "stdout"
    },
    {
     "output_type": "stream",
     "text": [
      "100%|██████████| 31/31 [00:09<00:00,  3.12it/s]\n"
     ],
     "name": "stderr"
    },
    {
     "output_type": "stream",
     "text": [
      "Accuracy on test set: 0.376953125\n",
      "Starting epoch 2/10, LR = [0.008]\n",
      "Step 20\n",
      "Class Loss nan, Domain Loss nan\n"
     ],
     "name": "stdout"
    },
    {
     "output_type": "stream",
     "text": [
      "100%|██████████| 31/31 [00:09<00:00,  3.16it/s]"
     ],
     "name": "stderr"
    },
    {
     "output_type": "stream",
     "text": [
      "Accuracy on test set: 0.376953125\n",
      "Starting epoch 3/10, LR = [0.008]\n"
     ],
     "name": "stdout"
    },
    {
     "output_type": "stream",
     "text": [
      "\n"
     ],
     "name": "stderr"
    },
    {
     "output_type": "stream",
     "text": [
      "Step 30\n",
      "Class Loss nan, Domain Loss nan\n",
      "EARLY STOPPING\n",
      "Starting epoch 1/10, LR = [0.008]\n",
      "Step 0\n",
      "Class Loss 2.370148181915283, Domain Loss 1.3933115005493164\n",
      "Step 10\n",
      "Class Loss 0.2624703347682953, Domain Loss 2.0757298469543457\n"
     ],
     "name": "stdout"
    },
    {
     "output_type": "stream",
     "text": [
      "100%|██████████| 19/19 [00:06<00:00,  3.07it/s]\n"
     ],
     "name": "stderr"
    },
    {
     "output_type": "stream",
     "text": [
      "Accuracy on test set: 0.4619140625\n",
      "Starting epoch 2/10, LR = [0.008]\n",
      "Step 20\n",
      "Class Loss nan, Domain Loss nan\n"
     ],
     "name": "stdout"
    },
    {
     "output_type": "stream",
     "text": [
      "100%|██████████| 19/19 [00:06<00:00,  3.08it/s]"
     ],
     "name": "stderr"
    },
    {
     "output_type": "stream",
     "text": [
      "Accuracy on test set: 0.18994140625\n",
      "Starting epoch 3/10, LR = [0.008]\n"
     ],
     "name": "stdout"
    },
    {
     "output_type": "stream",
     "text": [
      "\n"
     ],
     "name": "stderr"
    },
    {
     "output_type": "stream",
     "text": [
      "Step 30\n",
      "Class Loss nan, Domain Loss nan\n"
     ],
     "name": "stdout"
    },
    {
     "output_type": "stream",
     "text": [
      "100%|██████████| 19/19 [00:06<00:00,  3.06it/s]"
     ],
     "name": "stderr"
    },
    {
     "output_type": "stream",
     "text": [
      "Accuracy on test set: 0.18994140625\n",
      "Starting epoch 4/10, LR = [0.008]\n"
     ],
     "name": "stdout"
    },
    {
     "output_type": "stream",
     "text": [
      "\n"
     ],
     "name": "stderr"
    },
    {
     "output_type": "stream",
     "text": [
      "Step 40\n",
      "Class Loss nan, Domain Loss nan\n",
      "Step 50\n",
      "Class Loss nan, Domain Loss nan\n",
      "EARLY STOPPING\n",
      "Starting epoch 1/10, LR = [0.008]\n",
      "Step 0\n",
      "Class Loss 2.174614906311035, Domain Loss 1.2418255805969238\n",
      "Step 10\n",
      "Class Loss 2121471.75, Domain Loss 3733229.5\n"
     ],
     "name": "stdout"
    },
    {
     "output_type": "stream",
     "text": [
      "100%|██████████| 31/31 [00:09<00:00,  3.12it/s]\n"
     ],
     "name": "stderr"
    },
    {
     "output_type": "stream",
     "text": [
      "Accuracy on test set: 0.376953125\n",
      "Starting epoch 2/10, LR = [0.008]\n",
      "Step 20\n",
      "Class Loss nan, Domain Loss nan\n"
     ],
     "name": "stdout"
    },
    {
     "output_type": "stream",
     "text": [
      "100%|██████████| 31/31 [00:09<00:00,  3.16it/s]"
     ],
     "name": "stderr"
    },
    {
     "output_type": "stream",
     "text": [
      "Accuracy on test set: 0.376953125\n",
      "Starting epoch 3/10, LR = [0.008]\n"
     ],
     "name": "stdout"
    },
    {
     "output_type": "stream",
     "text": [
      "\n"
     ],
     "name": "stderr"
    },
    {
     "output_type": "stream",
     "text": [
      "Step 30\n",
      "Class Loss nan, Domain Loss nan\n",
      "EARLY STOPPING\n",
      "Starting epoch 1/10, LR = [0.005]\n",
      "Step 0\n",
      "Class Loss 2.271773099899292, Domain Loss 1.9041624069213867\n",
      "Step 10\n",
      "Class Loss 0.23724839091300964, Domain Loss 1.244446039199829\n"
     ],
     "name": "stdout"
    },
    {
     "output_type": "stream",
     "text": [
      "100%|██████████| 19/19 [00:06<00:00,  3.03it/s]\n"
     ],
     "name": "stderr"
    },
    {
     "output_type": "stream",
     "text": [
      "Accuracy on test set: 0.080078125\n",
      "Starting epoch 2/10, LR = [0.005]\n",
      "Step 20\n",
      "Class Loss nan, Domain Loss nan\n"
     ],
     "name": "stdout"
    },
    {
     "output_type": "stream",
     "text": [
      "100%|██████████| 19/19 [00:06<00:00,  3.08it/s]\n"
     ],
     "name": "stderr"
    },
    {
     "output_type": "stream",
     "text": [
      "Accuracy on test set: 0.18994140625\n",
      "Starting epoch 3/10, LR = [0.005]\n",
      "Step 30\n",
      "Class Loss nan, Domain Loss nan\n"
     ],
     "name": "stdout"
    },
    {
     "output_type": "stream",
     "text": [
      "100%|██████████| 19/19 [00:06<00:00,  3.09it/s]"
     ],
     "name": "stderr"
    },
    {
     "output_type": "stream",
     "text": [
      "Accuracy on test set: 0.18994140625\n",
      "Starting epoch 4/10, LR = [0.005]\n"
     ],
     "name": "stdout"
    },
    {
     "output_type": "stream",
     "text": [
      "\n"
     ],
     "name": "stderr"
    },
    {
     "output_type": "stream",
     "text": [
      "Step 40\n",
      "Class Loss nan, Domain Loss nan\n",
      "Step 50\n",
      "Class Loss nan, Domain Loss nan\n",
      "EARLY STOPPING\n",
      "Starting epoch 1/10, LR = [0.005]\n",
      "Step 0\n",
      "Class Loss 2.267692804336548, Domain Loss 1.4245541095733643\n",
      "Step 10\n",
      "Class Loss 0.18650507926940918, Domain Loss 0.026144951581954956\n"
     ],
     "name": "stdout"
    },
    {
     "output_type": "stream",
     "text": [
      "100%|██████████| 31/31 [00:09<00:00,  3.16it/s]\n"
     ],
     "name": "stderr"
    },
    {
     "output_type": "stream",
     "text": [
      "Accuracy on test set: 0.30078125\n",
      "Starting epoch 2/10, LR = [0.005]\n",
      "Step 20\n",
      "Class Loss nan, Domain Loss nan\n"
     ],
     "name": "stdout"
    },
    {
     "output_type": "stream",
     "text": [
      "100%|██████████| 31/31 [00:09<00:00,  3.17it/s]\n"
     ],
     "name": "stderr"
    },
    {
     "output_type": "stream",
     "text": [
      "Accuracy on test set: 0.376953125\n",
      "Starting epoch 3/10, LR = [0.005]\n",
      "Step 30\n",
      "Class Loss nan, Domain Loss nan\n"
     ],
     "name": "stdout"
    },
    {
     "output_type": "stream",
     "text": [
      "100%|██████████| 31/31 [00:09<00:00,  3.17it/s]"
     ],
     "name": "stderr"
    },
    {
     "output_type": "stream",
     "text": [
      "Accuracy on test set: 0.376953125\n",
      "Starting epoch 4/10, LR = [0.005]\n"
     ],
     "name": "stdout"
    },
    {
     "output_type": "stream",
     "text": [
      "\n"
     ],
     "name": "stderr"
    },
    {
     "output_type": "stream",
     "text": [
      "Step 40\n",
      "Class Loss nan, Domain Loss nan\n",
      "Step 50\n",
      "Class Loss nan, Domain Loss nan\n",
      "EARLY STOPPING\n",
      "Starting epoch 1/10, LR = [0.005]\n",
      "Step 0\n",
      "Class Loss 2.164294958114624, Domain Loss 1.5729151964187622\n",
      "Step 10\n",
      "Class Loss 0.3147536814212799, Domain Loss 8.75034236907959\n"
     ],
     "name": "stdout"
    },
    {
     "output_type": "stream",
     "text": [
      "100%|██████████| 19/19 [00:06<00:00,  3.05it/s]\n"
     ],
     "name": "stderr"
    },
    {
     "output_type": "stream",
     "text": [
      "Accuracy on test set: 0.140625\n",
      "Starting epoch 2/10, LR = [0.005]\n",
      "Step 20\n",
      "Class Loss nan, Domain Loss nan\n"
     ],
     "name": "stdout"
    },
    {
     "output_type": "stream",
     "text": [
      "100%|██████████| 19/19 [00:06<00:00,  3.07it/s]\n"
     ],
     "name": "stderr"
    },
    {
     "output_type": "stream",
     "text": [
      "Accuracy on test set: 0.18994140625\n",
      "Starting epoch 3/10, LR = [0.005]\n",
      "Step 30\n",
      "Class Loss nan, Domain Loss nan\n"
     ],
     "name": "stdout"
    },
    {
     "output_type": "stream",
     "text": [
      "100%|██████████| 19/19 [00:06<00:00,  3.10it/s]\n"
     ],
     "name": "stderr"
    },
    {
     "output_type": "stream",
     "text": [
      "Accuracy on test set: 0.18994140625\n",
      "Starting epoch 4/10, LR = [0.005]\n",
      "Step 40\n",
      "Class Loss nan, Domain Loss nan\n",
      "Step 50\n",
      "Class Loss nan, Domain Loss nan\n",
      "EARLY STOPPING\n",
      "Starting epoch 1/10, LR = [0.005]\n",
      "Step 0\n",
      "Class Loss 2.169224262237549, Domain Loss 1.0794243812561035\n",
      "Step 10\n",
      "Class Loss 0.17070159316062927, Domain Loss 0.0061140782199800014\n"
     ],
     "name": "stdout"
    },
    {
     "output_type": "stream",
     "text": [
      "100%|██████████| 31/31 [00:09<00:00,  3.14it/s]\n"
     ],
     "name": "stderr"
    },
    {
     "output_type": "stream",
     "text": [
      "Accuracy on test set: 0.31591796875\n",
      "Starting epoch 2/10, LR = [0.005]\n",
      "Step 20\n",
      "Class Loss 0.052396778017282486, Domain Loss 0.09840153902769089\n"
     ],
     "name": "stdout"
    },
    {
     "output_type": "stream",
     "text": [
      "100%|██████████| 31/31 [00:09<00:00,  3.17it/s]\n"
     ],
     "name": "stderr"
    },
    {
     "output_type": "stream",
     "text": [
      "Accuracy on test set: 0.376953125\n",
      "Starting epoch 3/10, LR = [0.005]\n",
      "Step 30\n",
      "Class Loss nan, Domain Loss nan\n"
     ],
     "name": "stdout"
    },
    {
     "output_type": "stream",
     "text": [
      "100%|██████████| 31/31 [00:09<00:00,  3.15it/s]"
     ],
     "name": "stderr"
    },
    {
     "output_type": "stream",
     "text": [
      "Accuracy on test set: 0.376953125\n",
      "Starting epoch 4/10, LR = [0.005]\n"
     ],
     "name": "stdout"
    },
    {
     "output_type": "stream",
     "text": [
      "\n"
     ],
     "name": "stderr"
    },
    {
     "output_type": "stream",
     "text": [
      "Step 40\n",
      "Class Loss nan, Domain Loss nan\n",
      "Step 50\n",
      "Class Loss nan, Domain Loss nan\n",
      "EARLY STOPPING\n",
      "Starting epoch 1/10, LR = [0.008]\n",
      "Step 0\n",
      "Class Loss 2.0383119583129883, Domain Loss 1.687469244003296\n",
      "Step 10\n",
      "Class Loss 104.92264556884766, Domain Loss 383.4414367675781\n"
     ],
     "name": "stdout"
    },
    {
     "output_type": "stream",
     "text": [
      "100%|██████████| 19/19 [00:06<00:00,  3.01it/s]\n"
     ],
     "name": "stderr"
    },
    {
     "output_type": "stream",
     "text": [
      "Accuracy on test set: 0.18994140625\n",
      "Starting epoch 2/10, LR = [0.008]\n",
      "Step 20\n",
      "Class Loss nan, Domain Loss nan\n"
     ],
     "name": "stdout"
    },
    {
     "output_type": "stream",
     "text": [
      "100%|██████████| 19/19 [00:06<00:00,  3.08it/s]"
     ],
     "name": "stderr"
    },
    {
     "output_type": "stream",
     "text": [
      "Accuracy on test set: 0.18994140625\n",
      "Starting epoch 3/10, LR = [0.008]\n"
     ],
     "name": "stdout"
    },
    {
     "output_type": "stream",
     "text": [
      "\n"
     ],
     "name": "stderr"
    },
    {
     "output_type": "stream",
     "text": [
      "Step 30\n",
      "Class Loss nan, Domain Loss nan\n",
      "EARLY STOPPING\n",
      "Starting epoch 1/10, LR = [0.008]\n",
      "Step 0\n",
      "Class Loss 2.0244808197021484, Domain Loss 1.8030178546905518\n",
      "Step 10\n",
      "Class Loss nan, Domain Loss nan\n"
     ],
     "name": "stdout"
    },
    {
     "output_type": "stream",
     "text": [
      "100%|██████████| 31/31 [00:09<00:00,  3.13it/s]\n"
     ],
     "name": "stderr"
    },
    {
     "output_type": "stream",
     "text": [
      "Accuracy on test set: 0.376953125\n",
      "Starting epoch 2/10, LR = [0.008]\n",
      "Step 20\n",
      "Class Loss nan, Domain Loss nan\n"
     ],
     "name": "stdout"
    },
    {
     "output_type": "stream",
     "text": [
      "100%|██████████| 31/31 [00:09<00:00,  3.17it/s]"
     ],
     "name": "stderr"
    },
    {
     "output_type": "stream",
     "text": [
      "Accuracy on test set: 0.376953125\n",
      "Starting epoch 3/10, LR = [0.008]\n"
     ],
     "name": "stdout"
    },
    {
     "output_type": "stream",
     "text": [
      "\n"
     ],
     "name": "stderr"
    },
    {
     "output_type": "stream",
     "text": [
      "Step 30\n",
      "Class Loss nan, Domain Loss nan\n",
      "EARLY STOPPING\n",
      "Starting epoch 1/10, LR = [0.008]\n",
      "Step 0\n",
      "Class Loss 2.1292669773101807, Domain Loss 1.6702234745025635\n",
      "Step 10\n",
      "Class Loss 0.3435424864292145, Domain Loss 5.830942630767822\n"
     ],
     "name": "stdout"
    },
    {
     "output_type": "stream",
     "text": [
      "100%|██████████| 19/19 [00:06<00:00,  3.07it/s]\n"
     ],
     "name": "stderr"
    },
    {
     "output_type": "stream",
     "text": [
      "Accuracy on test set: 0.140625\n",
      "Starting epoch 2/10, LR = [0.008]\n",
      "Step 20\n",
      "Class Loss nan, Domain Loss nan\n"
     ],
     "name": "stdout"
    },
    {
     "output_type": "stream",
     "text": [
      "100%|██████████| 19/19 [00:06<00:00,  3.08it/s]\n"
     ],
     "name": "stderr"
    },
    {
     "output_type": "stream",
     "text": [
      "Accuracy on test set: 0.18994140625\n",
      "Starting epoch 3/10, LR = [0.008]\n",
      "Step 30\n",
      "Class Loss nan, Domain Loss nan\n"
     ],
     "name": "stdout"
    },
    {
     "output_type": "stream",
     "text": [
      "100%|██████████| 19/19 [00:06<00:00,  3.10it/s]"
     ],
     "name": "stderr"
    },
    {
     "output_type": "stream",
     "text": [
      "Accuracy on test set: 0.18994140625\n",
      "Starting epoch 4/10, LR = [0.008]\n"
     ],
     "name": "stdout"
    },
    {
     "output_type": "stream",
     "text": [
      "\n"
     ],
     "name": "stderr"
    },
    {
     "output_type": "stream",
     "text": [
      "Step 40\n",
      "Class Loss nan, Domain Loss nan\n",
      "Step 50\n",
      "Class Loss nan, Domain Loss nan\n",
      "EARLY STOPPING\n",
      "Starting epoch 1/10, LR = [0.008]\n",
      "Step 0\n",
      "Class Loss 2.1518893241882324, Domain Loss 1.5859793424606323\n",
      "Step 10\n",
      "Class Loss 4.960707664489746, Domain Loss 36.06425094604492\n"
     ],
     "name": "stdout"
    },
    {
     "output_type": "stream",
     "text": [
      "100%|██████████| 31/31 [00:09<00:00,  3.13it/s]\n"
     ],
     "name": "stderr"
    },
    {
     "output_type": "stream",
     "text": [
      "Accuracy on test set: 0.376953125\n",
      "Starting epoch 2/10, LR = [0.008]\n",
      "Step 20\n",
      "Class Loss nan, Domain Loss nan\n"
     ],
     "name": "stdout"
    },
    {
     "output_type": "stream",
     "text": [
      "100%|██████████| 31/31 [00:09<00:00,  3.19it/s]"
     ],
     "name": "stderr"
    },
    {
     "output_type": "stream",
     "text": [
      "Accuracy on test set: 0.376953125\n",
      "Starting epoch 3/10, LR = [0.008]\n"
     ],
     "name": "stdout"
    },
    {
     "output_type": "stream",
     "text": [
      "\n"
     ],
     "name": "stderr"
    },
    {
     "output_type": "stream",
     "text": [
      "Step 30\n",
      "Class Loss nan, Domain Loss nan\n"
     ],
     "name": "stdout"
    },
    {
     "output_type": "stream",
     "text": [
      "100%|██████████| 31/31 [00:09<00:00,  3.16it/s]\n"
     ],
     "name": "stderr"
    },
    {
     "output_type": "stream",
     "text": [
      "Accuracy on test set: 0.376953125\n",
      "Starting epoch 4/10, LR = [0.008]\n",
      "Step 40\n",
      "Class Loss nan, Domain Loss nan\n",
      "Step 50\n",
      "Class Loss nan, Domain Loss nan\n",
      "EARLY STOPPING\n",
      "Best configuration is:\n",
      "{'alpha': 0.1, 'batch_size': 128, 'epochs': 10, 'gamma': 0.5, 'lr': 0.005, 'step_size': 5}\n",
      "Highest mean accuracy: 0.61474609375\n"
     ],
     "name": "stdout"
    }
   ]
  },
  {
   "cell_type": "code",
   "metadata": {
    "id": "0bibb5WjFqaX",
    "colab_type": "code",
    "colab": {
     "base_uri": "https://localhost:8080/",
     "height": 1000
    },
    "outputId": "21c2897d-3bb1-4fa0-c342-9dc19bfd9b73"
   },
   "source": [
    "params = best_conf['params']\n",
    "# params = ParameterGrid(param_grid)[0]\n",
    "\n",
    "photo_dataloader = get_train_loaders(photo, params['batch_size'])\n",
    "target_dataloader = get_train_loaders(art, params['batch_size'])\n",
    "test_dataloader = get_eval_loaders(art, params['batch_size'])\n",
    "\n",
    "dann = get_alexnet(pretrained=True)\n",
    "class_criterion, optimizer, scheduler = loss_optmizer_scheduler(dann, lr=params['lr'], step_size=params['step_size'],\n",
    "                                                                           gamma=params['gamma'])\n",
    "class_losses, domain_losses, accuracies_dann = dann_train_test(dann, photo_dataloader, target_dataloader,\n",
    "                          test_dataloader, class_criterion, optimizer, scheduler, max_epoch=params['epochs'], alpha=params['alpha'])\n",
    "\n",
    "print(f\"Photo transfer to Art accuracy DANN: {max(accuracies_dann)}\")\n",
    "saveResults(params, best_conf['best_acc'], accuracies_dann, class_losses, domain_losses=domain_losses,\n",
    "            dann=True, append=True)\n",
    "\"\"\"saveResults(params, \"_\", accuracies_dann, class_losses, domain_losses=domain_losses,\n",
    "            dann=True, append=True)\"\"\""
   ],
   "execution_count": null,
   "outputs": [
    {
     "output_type": "stream",
     "text": [
      "Starting epoch 1/10, LR = [0.005]\n"
     ],
     "name": "stdout"
    },
    {
     "output_type": "stream",
     "text": [
      "/usr/local/lib/python3.6/dist-packages/torch/optim/lr_scheduler.py:351: UserWarning: To get the last learning rate computed by the scheduler, please use `get_last_lr()`.\n",
      "  \"please use `get_last_lr()`.\", UserWarning)\n"
     ],
     "name": "stderr"
    },
    {
     "output_type": "stream",
     "text": [
      "Step 0\n",
      "Class Loss 2.103569984436035, Domain Loss 1.8700140714645386\n",
      "Step 10\n",
      "Class Loss 0.17453786730766296, Domain Loss 0.5234982967376709\n"
     ],
     "name": "stdout"
    },
    {
     "output_type": "stream",
     "text": [
      "100%|██████████| 16/16 [00:05<00:00,  2.89it/s]\n"
     ],
     "name": "stderr"
    },
    {
     "output_type": "stream",
     "text": [
      "Accuracy on test set: 0.4697265625\n",
      "Starting epoch 2/10, LR = [0.005]\n",
      "Step 20\n",
      "Class Loss 0.16011223196983337, Domain Loss 0.25790566205978394\n"
     ],
     "name": "stdout"
    },
    {
     "output_type": "stream",
     "text": [
      "100%|██████████| 16/16 [00:05<00:00,  2.89it/s]\n"
     ],
     "name": "stderr"
    },
    {
     "output_type": "stream",
     "text": [
      "Accuracy on test set: 0.50927734375\n",
      "Starting epoch 3/10, LR = [0.005]\n",
      "Step 30\n",
      "Class Loss 0.10379885137081146, Domain Loss 0.37080663442611694\n"
     ],
     "name": "stdout"
    },
    {
     "output_type": "stream",
     "text": [
      "100%|██████████| 16/16 [00:05<00:00,  2.90it/s]"
     ],
     "name": "stderr"
    },
    {
     "output_type": "stream",
     "text": [
      "Accuracy on test set: 0.49755859375\n",
      "Starting epoch 4/10, LR = [0.005]\n"
     ],
     "name": "stdout"
    },
    {
     "output_type": "stream",
     "text": [
      "\n"
     ],
     "name": "stderr"
    },
    {
     "output_type": "stream",
     "text": [
      "Step 40\n",
      "Class Loss 0.1113700121641159, Domain Loss 0.31827396154403687\n",
      "Step 50\n",
      "Class Loss 0.014982238411903381, Domain Loss 0.251340389251709\n"
     ],
     "name": "stdout"
    },
    {
     "output_type": "stream",
     "text": [
      "100%|██████████| 16/16 [00:05<00:00,  2.92it/s]\n"
     ],
     "name": "stderr"
    },
    {
     "output_type": "stream",
     "text": [
      "Accuracy on test set: 0.4970703125\n",
      "Starting epoch 5/10, LR = [0.005]\n",
      "Step 60\n",
      "Class Loss 0.01236683502793312, Domain Loss 0.28263819217681885\n"
     ],
     "name": "stdout"
    },
    {
     "output_type": "stream",
     "text": [
      "100%|██████████| 16/16 [00:05<00:00,  2.84it/s]"
     ],
     "name": "stderr"
    },
    {
     "output_type": "stream",
     "text": [
      "Accuracy on test set: 0.47998046875\n",
      "Starting epoch 6/10, LR = [0.00125]\n"
     ],
     "name": "stdout"
    },
    {
     "output_type": "stream",
     "text": [
      "\n"
     ],
     "name": "stderr"
    },
    {
     "output_type": "stream",
     "text": [
      "Step 70\n",
      "Class Loss 0.01974492147564888, Domain Loss 0.18919143080711365\n"
     ],
     "name": "stdout"
    },
    {
     "output_type": "stream",
     "text": [
      "100%|██████████| 16/16 [00:05<00:00,  2.84it/s]"
     ],
     "name": "stderr"
    },
    {
     "output_type": "stream",
     "text": [
      "Accuracy on test set: 0.4736328125\n",
      "Starting epoch 7/10, LR = [0.0025]\n"
     ],
     "name": "stdout"
    },
    {
     "output_type": "stream",
     "text": [
      "\n"
     ],
     "name": "stderr"
    },
    {
     "output_type": "stream",
     "text": [
      "Step 80\n",
      "Class Loss 0.0064737312495708466, Domain Loss 0.09183098375797272\n",
      "Step 90\n",
      "Class Loss 0.004310473799705505, Domain Loss 0.11591200530529022\n"
     ],
     "name": "stdout"
    },
    {
     "output_type": "stream",
     "text": [
      "100%|██████████| 16/16 [00:05<00:00,  2.87it/s]"
     ],
     "name": "stderr"
    },
    {
     "output_type": "stream",
     "text": [
      "Accuracy on test set: 0.49951171875\n",
      "Starting epoch 8/10, LR = [0.0025]\n"
     ],
     "name": "stdout"
    },
    {
     "output_type": "stream",
     "text": [
      "\n"
     ],
     "name": "stderr"
    },
    {
     "output_type": "stream",
     "text": [
      "Step 100\n",
      "Class Loss 0.003125883638858795, Domain Loss 0.06307809054851532\n"
     ],
     "name": "stdout"
    },
    {
     "output_type": "stream",
     "text": [
      "100%|██████████| 16/16 [00:05<00:00,  2.83it/s]\n"
     ],
     "name": "stderr"
    },
    {
     "output_type": "stream",
     "text": [
      "Accuracy on test set: 0.5107421875\n",
      "Starting epoch 9/10, LR = [0.0025]\n",
      "Step 110\n",
      "Class Loss 0.0012533552944660187, Domain Loss 0.10869701206684113\n"
     ],
     "name": "stdout"
    },
    {
     "output_type": "stream",
     "text": [
      "100%|██████████| 16/16 [00:05<00:00,  2.87it/s]\n"
     ],
     "name": "stderr"
    },
    {
     "output_type": "stream",
     "text": [
      "Accuracy on test set: 0.513671875\n",
      "Starting epoch 10/10, LR = [0.0025]\n",
      "Step 120\n",
      "Class Loss 0.0008095428347587585, Domain Loss 0.10794157534837723\n"
     ],
     "name": "stdout"
    },
    {
     "output_type": "stream",
     "text": [
      "100%|██████████| 16/16 [00:05<00:00,  2.88it/s]"
     ],
     "name": "stderr"
    },
    {
     "output_type": "stream",
     "text": [
      "Accuracy on test set: 0.5048828125\n",
      "Photo transfer to Art accuracy DANN: 0.513671875\n",
      "********* FILE SAVED *********\n"
     ],
     "name": "stdout"
    },
    {
     "output_type": "stream",
     "text": [
      "\n"
     ],
     "name": "stderr"
    },
    {
     "output_type": "execute_result",
     "data": {
      "text/plain": [
       "'saveResults(params, \"_\", accuracies_dann, class_losses_y, domain_losses=domain_losses_d,\\n            dann=True, append=True)'"
      ]
     },
     "metadata": {
      "tags": []
     },
     "execution_count": 42
    }
   ]
  }
 ]
}